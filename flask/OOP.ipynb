{
 "cells": [
  {
   "cell_type": "markdown",
   "id": "8202da22",
   "metadata": {},
   "source": [
    "### OOP (Object Oriented Programming)\n",
    "- 객체 지향 프로그래밍\n",
    "- 객체를 만들기 위한 설계도 : Class\n",
    "- 설계도로부터 만들어지는 개념 : Object\n",
    "- 설계도로부터 실체화된(구현화된) 객체 : Instance"
   ]
  },
  {
   "cell_type": "code",
   "execution_count": 4,
   "id": "4901240c",
   "metadata": {},
   "outputs": [],
   "source": [
    "class house:\n",
    "    # class 내부 요소 : 멤버(member)\n",
    "    # 멤버 변수, 멤버 함수\n",
    "    \n",
    "    화장실 = 2\n",
    "    방 = 4\n",
    "    층 = 2\n",
    "    다락방 = True\n",
    "    # 멤버 함수\n",
    "    def info(self):\n",
    "        print(f'화장실 : {self.화장실}개')\n",
    "        print(f'방 : {self.방}개')\n",
    "        print(f'층 : {self.층}층')\n",
    "        print(f'다락방 : {self.다락방}')"
   ]
  },
  {
   "cell_type": "code",
   "execution_count": 10,
   "id": "874bb1b2",
   "metadata": {},
   "outputs": [
    {
     "name": "stdout",
     "output_type": "stream",
     "text": [
      "화장실 : 1개\n",
      "방 : 5개\n",
      "층 : 2층\n",
      "다락방 : True\n"
     ]
    }
   ],
   "source": [
    "my_house = house()\n",
    "my_house.방 = 5\n",
    "my_house.화장실 = 1\n",
    "my_house.info()"
   ]
  },
  {
   "cell_type": "code",
   "execution_count": 8,
   "id": "3fcc2149",
   "metadata": {},
   "outputs": [
    {
     "name": "stdout",
     "output_type": "stream",
     "text": [
      "화장실 : 2개\n",
      "방 : 4개\n",
      "층 : 2층\n",
      "다락방 : True\n"
     ]
    }
   ],
   "source": [
    "parent_house= house()\n",
    "parent_house.info()"
   ]
  },
  {
   "cell_type": "code",
   "execution_count": 29,
   "id": "02686215",
   "metadata": {},
   "outputs": [],
   "source": [
    "class cat:\n",
    "    # 접근 제한자(Access Modifier)\n",
    "    \n",
    "    # 이름, 좋아하는 사료, 무늬, 털색깔 정의\n",
    "    name, ffood, pattern, color = None, None, None, None   \n",
    "    # 울음소리, 먹이를 먹다, 정보 함수\n",
    "    def cry(self):\n",
    "        print('야옹')\n",
    "    def eat(self):\n",
    "        print('냠냠')\n",
    "    def info(self):\n",
    "        print(f'이름 : {self.name}\\n좋아하는사료 : {self.ffood}\\n무늬 : {self.pattern}\\n털색깔 : {self.color}\\n')\n",
    "    def __init__(self, name, ffood, pattern, color):\n",
    "        self.name = name\n",
    "        self.ffood = ffood\n",
    "        self.pattern = pattern\n",
    "        self.color = color\n",
    "# 생성자(constructor)\n",
    "# 객체가 생성될 때 자동으로 호출"
   ]
  },
  {
   "cell_type": "code",
   "execution_count": 30,
   "id": "a2ff93eb",
   "metadata": {},
   "outputs": [
    {
     "name": "stdout",
     "output_type": "stream",
     "text": [
      "이름 : 구름\n",
      "좋아하는사료 : 애기사료\n",
      "무늬 : 없음\n",
      "털색깔 : 흰색\n",
      "\n"
     ]
    }
   ],
   "source": [
    "cloud = cat('구름', '애기사료', '없음', '흰색')\n",
    "cloud.info()"
   ]
  },
  {
   "cell_type": "code",
   "execution_count": 31,
   "id": "d58f168f",
   "metadata": {},
   "outputs": [
    {
     "name": "stdout",
     "output_type": "stream",
     "text": [
      "이름 : 후추\n",
      "좋아하는사료 : 애기사료\n",
      "무늬 : 없음\n",
      "털색깔 : 흰색\n",
      "\n"
     ]
    }
   ],
   "source": [
    "cloud.name='후추'\n",
    "cloud.info()"
   ]
  },
  {
   "cell_type": "markdown",
   "id": "573d4883",
   "metadata": {},
   "source": [
    "#### 추상화(Abstraction)\n",
    "- 객체의 공통적인 특징을 추출하는 작업\n",
    "- 단, 너무 세부적인 정보는 배제!\n",
    "\n",
    "#### 상속(Inheritance)\n",
    "- 부모클래스의 멤버(변수, 함수)를 물려받아 자식 클래스를 정의\n",
    "\n",
    "#### 캡슐화(Encapsulation)\n",
    "- 개발자가 원하는 변수, 함수만 접근할 수 있도록 정보를 제한\n",
    "\n",
    "#### 다형성(Polymophism)\n",
    "- 다양한 형태를 나타낼 수 있는 능력"
   ]
  },
  {
   "cell_type": "code",
   "execution_count": 32,
   "id": "cc283d2e",
   "metadata": {},
   "outputs": [],
   "source": [
    "class siam_cat(cat):\n",
    "    color = '투톤'\n",
    "    \n",
    "    def __init__(self, name, ffood, pattern):\n",
    "        self.name = name\n",
    "        self.ffood = ffood\n",
    "        self.pattern = pattern"
   ]
  },
  {
   "cell_type": "code",
   "execution_count": 35,
   "id": "509274ba",
   "metadata": {},
   "outputs": [
    {
     "name": "stdout",
     "output_type": "stream",
     "text": [
      "이름 : 냥\n",
      "좋아하는사료 : 츄르\n",
      "무늬 : 없음\n",
      "털색깔 : 투톤\n",
      "\n"
     ]
    }
   ],
   "source": [
    "nyang = siam_cat('냥', '츄르', '없음')\n",
    "nyang.info()"
   ]
  },
  {
   "cell_type": "code",
   "execution_count": 36,
   "id": "8f18c6cb",
   "metadata": {},
   "outputs": [],
   "source": [
    "class calculator:\n",
    "    def add(self, num1, num2):\n",
    "        return num1+num2"
   ]
  },
  {
   "cell_type": "code",
   "execution_count": 37,
   "id": "ab76e81d",
   "metadata": {},
   "outputs": [
    {
     "data": {
      "text/plain": [
       "7"
      ]
     },
     "execution_count": 37,
     "metadata": {},
     "output_type": "execute_result"
    }
   ],
   "source": [
    "cal = calculator()\n",
    "cal.add(3,4)"
   ]
  }
 ],
 "metadata": {
  "kernelspec": {
   "display_name": "Python 3 (ipykernel)",
   "language": "python",
   "name": "python3"
  },
  "language_info": {
   "codemirror_mode": {
    "name": "ipython",
    "version": 3
   },
   "file_extension": ".py",
   "mimetype": "text/x-python",
   "name": "python",
   "nbconvert_exporter": "python",
   "pygments_lexer": "ipython3",
   "version": "3.7.13"
  },
  "toc": {
   "base_numbering": 1,
   "nav_menu": {},
   "number_sections": true,
   "sideBar": true,
   "skip_h1_title": false,
   "title_cell": "Table of Contents",
   "title_sidebar": "Contents",
   "toc_cell": false,
   "toc_position": {},
   "toc_section_display": true,
   "toc_window_display": false
  }
 },
 "nbformat": 4,
 "nbformat_minor": 5
}
