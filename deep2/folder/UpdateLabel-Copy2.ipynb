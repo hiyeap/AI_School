{
 "cells": [
  {
   "cell_type": "code",
   "execution_count": 37,
   "id": "c6125c92",
   "metadata": {},
   "outputs": [],
   "source": [
    "import os\n",
    "file_names=os.listdir('C:/Users/smhrd/Desktop/bike/valid/labels')"
   ]
  },
  {
   "cell_type": "code",
   "execution_count": 38,
   "id": "682e2be8",
   "metadata": {},
   "outputs": [
    {
     "data": {
      "text/plain": [
       "'C:/Users/smhrd/Desktop/bike/valid/labels/GH010100-MP4-t-437_jpg.rf.eb380c2ea42dc1b0978abfd20ab962e3.txt'"
      ]
     },
     "execution_count": 38,
     "metadata": {},
     "output_type": "execute_result"
    }
   ],
   "source": [
    "text_file_path = 'C:/Users/smhrd/Desktop/bike/valid/labels/'+ file_names[0]\n",
    "text_file_path"
   ]
  },
  {
   "cell_type": "code",
   "execution_count": 39,
   "id": "253ac8be",
   "metadata": {},
   "outputs": [],
   "source": [
    "j=0\n",
    "for i in file_names:\n",
    "    text_file_path = 'C:/Users/smhrd/Desktop/bike/valid/labels/'+ file_names[j]\n",
    "    if j == (len(file_names)-1):\n",
    "        break    \n",
    "    with open(text_file_path,'r') as f:\n",
    "        lines = f.readlines()\n",
    "    with open(text_file_path,'w') as f:\n",
    "        k=0\n",
    "        for i in lines:\n",
    "            if lines[k][0] == '0':\n",
    "                f.write(lines[k].replace('0','2',1))\n",
    "            elif lines[k][0] == '1':\n",
    "                f.write(lines[k].replace('1','0',1))\n",
    "            elif lines[k][0] == '2':\n",
    "                f.write(lines[k].replace('2','1',1))\n",
    "            k=k+1\n",
    "    j=j+1"
   ]
  },
  {
   "cell_type": "code",
   "execution_count": null,
   "id": "dbd505c7",
   "metadata": {},
   "outputs": [],
   "source": []
  }
 ],
 "metadata": {
  "kernelspec": {
   "display_name": "Python 3 (ipykernel)",
   "language": "python",
   "name": "python3"
  },
  "language_info": {
   "codemirror_mode": {
    "name": "ipython",
    "version": 3
   },
   "file_extension": ".py",
   "mimetype": "text/x-python",
   "name": "python",
   "nbconvert_exporter": "python",
   "pygments_lexer": "ipython3",
   "version": "3.7.13"
  }
 },
 "nbformat": 4,
 "nbformat_minor": 5
}
