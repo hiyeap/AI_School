{
 "cells": [
  {
   "cell_type": "code",
   "execution_count": 1,
   "id": "5e5bd611",
   "metadata": {},
   "outputs": [
    {
     "name": "stdout",
     "output_type": "stream",
     "text": [
      "Requirement already satisfied: cx_Oracle in c:\\users\\smhrd\\anaconda3\\envs\\deep2\\lib\\site-packages (8.3.0)\n",
      "Note: you may need to restart the kernel to use updated packages.\n"
     ]
    }
   ],
   "source": [
    "pip install cx_Oracle"
   ]
  },
  {
   "cell_type": "code",
   "execution_count": 41,
   "id": "4b77de8b",
   "metadata": {},
   "outputs": [
    {
     "name": "stdout",
     "output_type": "stream",
     "text": [
      "     EMPLOYEE_ID FIRST_NAME LAST_NAME     EMAIL  PHONE_NUMBER  HIRE_DATE  \\\n",
      "0            100     Steven      King     SKING  515.123.4567 2003-06-17   \n",
      "1            101      Neena   Kochhar  NKOCHHAR  515.123.4568 2005-09-21   \n",
      "2            102        Lex   De Haan   LDEHAAN  515.123.4569 2001-01-13   \n",
      "3            103  Alexander    Hunold   AHUNOLD  590.423.4567 2006-01-03   \n",
      "4            104      Bruce     Ernst    BERNST  590.423.4568 2007-05-21   \n",
      "..           ...        ...       ...       ...           ...        ...   \n",
      "102          202        Pat       Fay      PFAY  603.123.6666 2005-08-17   \n",
      "103          203      Susan    Mavris   SMAVRIS  515.123.7777 2002-06-07   \n",
      "104          204    Hermann      Baer     HBAER  515.123.8888 2002-06-07   \n",
      "105          205    Shelley   Higgins  SHIGGINS  515.123.8080 2002-06-07   \n",
      "106          206    William     Gietz    WGIETZ  515.123.8181 2002-06-07   \n",
      "\n",
      "         JOB_ID   SALARY  COMMISSION_PCT  MANAGER_ID  DEPARTMENT_ID  \n",
      "0       AD_PRES  24000.0             NaN         NaN           90.0  \n",
      "1         AD_VP  17000.0             NaN       100.0           90.0  \n",
      "2         AD_VP  17000.0             NaN       100.0           90.0  \n",
      "3       IT_PROG   9000.0             NaN       102.0           60.0  \n",
      "4       IT_PROG   6000.0             NaN       103.0           60.0  \n",
      "..          ...      ...             ...         ...            ...  \n",
      "102      MK_REP   6000.0             NaN       201.0           20.0  \n",
      "103      HR_REP   6500.0             NaN       101.0           40.0  \n",
      "104      PR_REP  10000.0             NaN       101.0           70.0  \n",
      "105      AC_MGR  12008.0             NaN       101.0          110.0  \n",
      "106  AC_ACCOUNT   8300.0             NaN       205.0          110.0  \n",
      "\n",
      "[107 rows x 11 columns]\n"
     ]
    }
   ],
   "source": [
    "# 오라클 연동 및 접속\n",
    "import cx_Oracle\n",
    "import pandas as pd\n",
    "#한글 지원 방법\n",
    "import os\n",
    "os.putenv('NLS_LANG', '.UTF8')\n",
    "\n",
    "dsn=cx_Oracle.makedsn('localhost',1521,'xe') # 오라클에 대한 주소 정보\n",
    "db=cx_Oracle.connect('hr','hr') # 오라클 접속 유저 정보\n",
    "cursor=db.cursor() # 데이터 담을 메모리의 이름을 선언\n",
    "cursor.execute(\"\"\"select * from employees\"\"\") # SQL의 결과가 cursor 메모리를 담는다.\n",
    "row=cursor.fetchall() # 메모리에 담긴 데이터를 한 행씩 fetch한다(전부)\n",
    "colname=cursor.description #데이터의 컬럼명 추출\n",
    "col=[]\n",
    "for i in colname:\n",
    "    col.append(i[0]) \n",
    "    \n",
    "# pandas를 사용한 데이터 프레임 형식으로 변환\n",
    "emp=pd.DataFrame(row,columns=col)\n",
    "print(emp)"
   ]
  },
  {
   "cell_type": "code",
   "execution_count": 68,
   "id": "ff5aa8df",
   "metadata": {},
   "outputs": [
    {
     "ename": "SyntaxError",
     "evalue": "invalid syntax (808270323.py, line 7)",
     "output_type": "error",
     "traceback": [
      "\u001b[1;36m  File \u001b[1;32m\"C:\\Users\\smhrd\\AppData\\Local\\Temp\\ipykernel_8548\\808270323.py\"\u001b[1;36m, line \u001b[1;32m7\u001b[0m\n\u001b[1;33m    ALTER EMPLOYEES SET NLS_DATE_FORMAT = 'YYYY-MM-DD';\u001b[0m\n\u001b[1;37m                  ^\u001b[0m\n\u001b[1;31mSyntaxError\u001b[0m\u001b[1;31m:\u001b[0m invalid syntax\n"
     ]
    }
   ],
   "source": [
    "# 오라클 연동 및 접속\n",
    "import cx_Oracle\n",
    "import pandas as pd\n",
    "#한글 지원 방법\n",
    "import os\n",
    "os.putenv('NLS_LANG', '.UTF8')\n",
    "\n",
    "#연결에 필요한 기본 정보 (유저, 비밀번호, 데이터베이스 서버 주소)\n",
    "connection = cx_Oracle.connect('hr','hr','localhost/xe')\n",
    "\n",
    "cursor = connection.cursor()\n",
    "\n",
    "\n",
    "\n",
    "#col=[]\n",
    "#for i in colname:\n",
    "#    col.append(i[0]) \n",
    "    \n",
    "#emp=pd.DataFrame(row,columns=col)\n",
    "#print(emp)"
   ]
  },
  {
   "cell_type": "code",
   "execution_count": 17,
   "id": "957a3dee",
   "metadata": {},
   "outputs": [
    {
     "name": "stdout",
     "output_type": "stream",
     "text": [
      "(100, 'Steven', 'King', 'SKING', '515.123.4567', datetime.datetime(2003, 6, 17, 0, 0), 'AD_PRES', 24000.0, None, None, 90)\n",
      "(101, 'Neena', 'Kochhar', 'NKOCHHAR', '515.123.4568', datetime.datetime(2005, 9, 21, 0, 0), 'AD_VP', 17000.0, None, 100, 90)\n",
      "(102, 'Lex', 'De Haan', 'LDEHAAN', '515.123.4569', datetime.datetime(2001, 1, 13, 0, 0), 'AD_VP', 17000.0, None, 100, 90)\n",
      "(103, 'Alexander', 'Hunold', 'AHUNOLD', '590.423.4567', datetime.datetime(2006, 1, 3, 0, 0), 'IT_PROG', 9000.0, None, 102, 60)\n",
      "(104, 'Bruce', 'Ernst', 'BERNST', '590.423.4568', datetime.datetime(2007, 5, 21, 0, 0), 'IT_PROG', 6000.0, None, 103, 60)\n",
      "(105, 'David', 'Austin', 'DAUSTIN', '590.423.4569', datetime.datetime(2005, 6, 25, 0, 0), 'IT_PROG', 4800.0, None, 103, 60)\n",
      "(106, 'Valli', 'Pataballa', 'VPATABAL', '590.423.4560', datetime.datetime(2006, 2, 5, 0, 0), 'IT_PROG', 4800.0, None, 103, 60)\n",
      "(107, 'Diana', 'Lorentz', 'DLORENTZ', '590.423.5567', datetime.datetime(2007, 2, 7, 0, 0), 'IT_PROG', 4200.0, None, 103, 60)\n",
      "(108, 'Nancy', 'Greenberg', 'NGREENBE', '515.124.4569', datetime.datetime(2002, 8, 17, 0, 0), 'FI_MGR', 12008.0, None, 101, 100)\n",
      "(109, 'Daniel', 'Faviet', 'DFAVIET', '515.124.4169', datetime.datetime(2002, 8, 16, 0, 0), 'FI_ACCOUNT', 9000.0, None, 108, 100)\n",
      "(110, 'John', 'Chen', 'JCHEN', '515.124.4269', datetime.datetime(2005, 9, 28, 0, 0), 'FI_ACCOUNT', 8200.0, None, 108, 100)\n",
      "(111, 'Ismael', 'Sciarra', 'ISCIARRA', '515.124.4369', datetime.datetime(2005, 9, 30, 0, 0), 'FI_ACCOUNT', 7700.0, None, 108, 100)\n",
      "(112, 'Jose Manuel', 'Urman', 'JMURMAN', '515.124.4469', datetime.datetime(2006, 3, 7, 0, 0), 'FI_ACCOUNT', 7800.0, None, 108, 100)\n",
      "(113, 'Luis', 'Popp', 'LPOPP', '515.124.4567', datetime.datetime(2007, 12, 7, 0, 0), 'FI_ACCOUNT', 6900.0, None, 108, 100)\n",
      "(114, 'Den', 'Raphaely', 'DRAPHEAL', '515.127.4561', datetime.datetime(2002, 12, 7, 0, 0), 'PU_MAN', 11000.0, None, 100, 30)\n",
      "(115, 'Alexander', 'Khoo', 'AKHOO', '515.127.4562', datetime.datetime(2003, 5, 18, 0, 0), 'PU_CLERK', 3100.0, None, 114, 30)\n",
      "(116, 'Shelli', 'Baida', 'SBAIDA', '515.127.4563', datetime.datetime(2005, 12, 24, 0, 0), 'PU_CLERK', 2900.0, None, 114, 30)\n",
      "(117, 'Sigal', 'Tobias', 'STOBIAS', '515.127.4564', datetime.datetime(2005, 7, 24, 0, 0), 'PU_CLERK', 2800.0, None, 114, 30)\n",
      "(118, 'Guy', 'Himuro', 'GHIMURO', '515.127.4565', datetime.datetime(2006, 11, 15, 0, 0), 'PU_CLERK', 2600.0, None, 114, 30)\n",
      "(119, 'Karen', 'Colmenares', 'KCOLMENA', '515.127.4566', datetime.datetime(2007, 8, 10, 0, 0), 'PU_CLERK', 2500.0, None, 114, 30)\n",
      "(120, 'Matthew', 'Weiss', 'MWEISS', '650.123.1234', datetime.datetime(2004, 7, 18, 0, 0), 'ST_MAN', 8000.0, None, 100, 50)\n",
      "(121, 'Adam', 'Fripp', 'AFRIPP', '650.123.2234', datetime.datetime(2005, 4, 10, 0, 0), 'ST_MAN', 8200.0, None, 100, 50)\n",
      "(122, 'Payam', 'Kaufling', 'PKAUFLIN', '650.123.3234', datetime.datetime(2003, 5, 1, 0, 0), 'ST_MAN', 7900.0, None, 100, 50)\n",
      "(123, 'Shanta', 'Vollman', 'SVOLLMAN', '650.123.4234', datetime.datetime(2005, 10, 10, 0, 0), 'ST_MAN', 6500.0, None, 100, 50)\n",
      "(124, 'Kevin', 'Mourgos', 'KMOURGOS', '650.123.5234', datetime.datetime(2007, 11, 16, 0, 0), 'ST_MAN', 5800.0, None, 100, 50)\n",
      "(125, 'Julia', 'Nayer', 'JNAYER', '650.124.1214', datetime.datetime(2005, 7, 16, 0, 0), 'ST_CLERK', 3200.0, None, 120, 50)\n",
      "(126, 'Irene', 'Mikkilineni', 'IMIKKILI', '650.124.1224', datetime.datetime(2006, 9, 28, 0, 0), 'ST_CLERK', 2700.0, None, 120, 50)\n",
      "(127, 'James', 'Landry', 'JLANDRY', '650.124.1334', datetime.datetime(2007, 1, 14, 0, 0), 'ST_CLERK', 2400.0, None, 120, 50)\n",
      "(128, 'Steven', 'Markle', 'SMARKLE', '650.124.1434', datetime.datetime(2008, 3, 8, 0, 0), 'ST_CLERK', 2200.0, None, 120, 50)\n",
      "(129, 'Laura', 'Bissot', 'LBISSOT', '650.124.5234', datetime.datetime(2005, 8, 20, 0, 0), 'ST_CLERK', 3300.0, None, 121, 50)\n",
      "(130, 'Mozhe', 'Atkinson', 'MATKINSO', '650.124.6234', datetime.datetime(2005, 10, 30, 0, 0), 'ST_CLERK', 2800.0, None, 121, 50)\n",
      "(131, 'James', 'Marlow', 'JAMRLOW', '650.124.7234', datetime.datetime(2005, 2, 16, 0, 0), 'ST_CLERK', 2500.0, None, 121, 50)\n",
      "(132, 'TJ', 'Olson', 'TJOLSON', '650.124.8234', datetime.datetime(2007, 4, 10, 0, 0), 'ST_CLERK', 2100.0, None, 121, 50)\n",
      "(133, 'Jason', 'Mallin', 'JMALLIN', '650.127.1934', datetime.datetime(2004, 6, 14, 0, 0), 'ST_CLERK', 3300.0, None, 122, 50)\n",
      "(134, 'Michael', 'Rogers', 'MROGERS', '650.127.1834', datetime.datetime(2006, 8, 26, 0, 0), 'ST_CLERK', 2900.0, None, 122, 50)\n",
      "(135, 'Ki', 'Gee', 'KGEE', '650.127.1734', datetime.datetime(2007, 12, 12, 0, 0), 'ST_CLERK', 2400.0, None, 122, 50)\n",
      "(136, 'Hazel', 'Philtanker', 'HPHILTAN', '650.127.1634', datetime.datetime(2008, 2, 6, 0, 0), 'ST_CLERK', 2200.0, None, 122, 50)\n",
      "(137, 'Renske', 'Ladwig', 'RLADWIG', '650.121.1234', datetime.datetime(2003, 7, 14, 0, 0), 'ST_CLERK', 3600.0, None, 123, 50)\n",
      "(138, 'Stephen', 'Stiles', 'SSTILES', '650.121.2034', datetime.datetime(2005, 10, 26, 0, 0), 'ST_CLERK', 3200.0, None, 123, 50)\n",
      "(139, 'John', 'Seo', 'JSEO', '650.121.2019', datetime.datetime(2006, 2, 12, 0, 0), 'ST_CLERK', 2700.0, None, 123, 50)\n",
      "(140, 'Joshua', 'Patel', 'JPATEL', '650.121.1834', datetime.datetime(2006, 4, 6, 0, 0), 'ST_CLERK', 2500.0, None, 123, 50)\n",
      "(141, 'Trenna', 'Rajs', 'TRAJS', '650.121.8009', datetime.datetime(2003, 10, 17, 0, 0), 'ST_CLERK', 3500.0, None, 124, 50)\n",
      "(142, 'Curtis', 'Davies', 'CDAVIES', '650.121.2994', datetime.datetime(2005, 1, 29, 0, 0), 'ST_CLERK', 3100.0, None, 124, 50)\n",
      "(143, 'Randall', 'Matos', 'RMATOS', '650.121.2874', datetime.datetime(2006, 3, 15, 0, 0), 'ST_CLERK', 2600.0, None, 124, 50)\n",
      "(144, 'Peter', 'Vargas', 'PVARGAS', '650.121.2004', datetime.datetime(2006, 7, 9, 0, 0), 'ST_CLERK', 2500.0, None, 124, 50)\n",
      "(145, 'John', 'Russell', 'JRUSSEL', '011.44.1344.429268', datetime.datetime(2004, 10, 1, 0, 0), 'SA_MAN', 14000.0, 0.4, 100, 80)\n",
      "(146, 'Karen', 'Partners', 'KPARTNER', '011.44.1344.467268', datetime.datetime(2005, 1, 5, 0, 0), 'SA_MAN', 13500.0, 0.3, 100, 80)\n",
      "(147, 'Alberto', 'Errazuriz', 'AERRAZUR', '011.44.1344.429278', datetime.datetime(2005, 3, 10, 0, 0), 'SA_MAN', 12000.0, 0.3, 100, 80)\n",
      "(148, 'Gerald', 'Cambrault', 'GCAMBRAU', '011.44.1344.619268', datetime.datetime(2007, 10, 15, 0, 0), 'SA_MAN', 11000.0, 0.3, 100, 80)\n",
      "(149, 'Eleni', 'Zlotkey', 'EZLOTKEY', '011.44.1344.429018', datetime.datetime(2008, 1, 29, 0, 0), 'SA_MAN', 10500.0, 0.2, 100, 80)\n",
      "(150, 'Peter', 'Tucker', 'PTUCKER', '011.44.1344.129268', datetime.datetime(2005, 1, 30, 0, 0), 'SA_REP', 10000.0, 0.3, 145, 80)\n",
      "(151, 'David', 'Bernstein', 'DBERNSTE', '011.44.1344.345268', datetime.datetime(2005, 3, 24, 0, 0), 'SA_REP', 9500.0, 0.25, 145, 80)\n",
      "(152, 'Peter', 'Hall', 'PHALL', '011.44.1344.478968', datetime.datetime(2005, 8, 20, 0, 0), 'SA_REP', 9000.0, 0.25, 145, 80)\n",
      "(153, 'Christopher', 'Olsen', 'COLSEN', '011.44.1344.498718', datetime.datetime(2006, 3, 30, 0, 0), 'SA_REP', 8000.0, 0.2, 145, 80)\n",
      "(154, 'Nanette', 'Cambrault', 'NCAMBRAU', '011.44.1344.987668', datetime.datetime(2006, 12, 9, 0, 0), 'SA_REP', 7500.0, 0.2, 145, 80)\n",
      "(155, 'Oliver', 'Tuvault', 'OTUVAULT', '011.44.1344.486508', datetime.datetime(2007, 11, 23, 0, 0), 'SA_REP', 7000.0, 0.15, 145, 80)\n",
      "(156, 'Janette', 'King', 'JKING', '011.44.1345.429268', datetime.datetime(2004, 1, 30, 0, 0), 'SA_REP', 10000.0, 0.35, 146, 80)\n",
      "(157, 'Patrick', 'Sully', 'PSULLY', '011.44.1345.929268', datetime.datetime(2004, 3, 4, 0, 0), 'SA_REP', 9500.0, 0.35, 146, 80)\n",
      "(158, 'Allan', 'McEwen', 'AMCEWEN', '011.44.1345.829268', datetime.datetime(2004, 8, 1, 0, 0), 'SA_REP', 9000.0, 0.35, 146, 80)\n",
      "(159, 'Lindsey', 'Smith', 'LSMITH', '011.44.1345.729268', datetime.datetime(2005, 3, 10, 0, 0), 'SA_REP', 8000.0, 0.3, 146, 80)\n",
      "(160, 'Louise', 'Doran', 'LDORAN', '011.44.1345.629268', datetime.datetime(2005, 12, 15, 0, 0), 'SA_REP', 7500.0, 0.3, 146, 80)\n",
      "(161, 'Sarath', 'Sewall', 'SSEWALL', '011.44.1345.529268', datetime.datetime(2006, 11, 3, 0, 0), 'SA_REP', 7000.0, 0.25, 146, 80)\n",
      "(162, 'Clara', 'Vishney', 'CVISHNEY', '011.44.1346.129268', datetime.datetime(2005, 11, 11, 0, 0), 'SA_REP', 10500.0, 0.25, 147, 80)\n",
      "(163, 'Danielle', 'Greene', 'DGREENE', '011.44.1346.229268', datetime.datetime(2007, 3, 19, 0, 0), 'SA_REP', 9500.0, 0.15, 147, 80)\n",
      "(164, 'Mattea', 'Marvins', 'MMARVINS', '011.44.1346.329268', datetime.datetime(2008, 1, 24, 0, 0), 'SA_REP', 7200.0, 0.1, 147, 80)\n",
      "(165, 'David', 'Lee', 'DLEE', '011.44.1346.529268', datetime.datetime(2008, 2, 23, 0, 0), 'SA_REP', 6800.0, 0.1, 147, 80)\n",
      "(166, 'Sundar', 'Ande', 'SANDE', '011.44.1346.629268', datetime.datetime(2008, 3, 24, 0, 0), 'SA_REP', 6400.0, 0.1, 147, 80)\n",
      "(167, 'Amit', 'Banda', 'ABANDA', '011.44.1346.729268', datetime.datetime(2008, 4, 21, 0, 0), 'SA_REP', 6200.0, 0.1, 147, 80)\n",
      "(168, 'Lisa', 'Ozer', 'LOZER', '011.44.1343.929268', datetime.datetime(2005, 3, 11, 0, 0), 'SA_REP', 11500.0, 0.25, 148, 80)\n",
      "(169, 'Harrison', 'Bloom', 'HBLOOM', '011.44.1343.829268', datetime.datetime(2006, 3, 23, 0, 0), 'SA_REP', 10000.0, 0.2, 148, 80)\n",
      "(170, 'Tayler', 'Fox', 'TFOX', '011.44.1343.729268', datetime.datetime(2006, 1, 24, 0, 0), 'SA_REP', 9600.0, 0.2, 148, 80)\n",
      "(171, 'William', 'Smith', 'WSMITH', '011.44.1343.629268', datetime.datetime(2007, 2, 23, 0, 0), 'SA_REP', 7400.0, 0.15, 148, 80)\n",
      "(172, 'Elizabeth', 'Bates', 'EBATES', '011.44.1343.529268', datetime.datetime(2007, 3, 24, 0, 0), 'SA_REP', 7300.0, 0.15, 148, 80)\n",
      "(173, 'Sundita', 'Kumar', 'SKUMAR', '011.44.1343.329268', datetime.datetime(2008, 4, 21, 0, 0), 'SA_REP', 6100.0, 0.1, 148, 80)\n",
      "(174, 'Ellen', 'Abel', 'EABEL', '011.44.1644.429267', datetime.datetime(2004, 5, 11, 0, 0), 'SA_REP', 11000.0, 0.3, 149, 80)\n",
      "(175, 'Alyssa', 'Hutton', 'AHUTTON', '011.44.1644.429266', datetime.datetime(2005, 3, 19, 0, 0), 'SA_REP', 8800.0, 0.25, 149, 80)\n",
      "(176, 'Jonathon', 'Taylor', 'JTAYLOR', '011.44.1644.429265', datetime.datetime(2006, 3, 24, 0, 0), 'SA_REP', 8600.0, 0.2, 149, 80)\n",
      "(177, 'Jack', 'Livingston', 'JLIVINGS', '011.44.1644.429264', datetime.datetime(2006, 4, 23, 0, 0), 'SA_REP', 8400.0, 0.2, 149, 80)\n",
      "(178, 'Kimberely', 'Grant', 'KGRANT', '011.44.1644.429263', datetime.datetime(2007, 5, 24, 0, 0), 'SA_REP', 7000.0, 0.15, 149, None)\n",
      "(179, 'Charles', 'Johnson', 'CJOHNSON', '011.44.1644.429262', datetime.datetime(2008, 1, 4, 0, 0), 'SA_REP', 6200.0, 0.1, 149, 80)\n",
      "(180, 'Winston', 'Taylor', 'WTAYLOR', '650.507.9876', datetime.datetime(2006, 1, 24, 0, 0), 'SH_CLERK', 3200.0, None, 120, 50)\n",
      "(181, 'Jean', 'Fleaur', 'JFLEAUR', '650.507.9877', datetime.datetime(2006, 2, 23, 0, 0), 'SH_CLERK', 3100.0, None, 120, 50)\n",
      "(182, 'Martha', 'Sullivan', 'MSULLIVA', '650.507.9878', datetime.datetime(2007, 6, 21, 0, 0), 'SH_CLERK', 2500.0, None, 120, 50)\n",
      "(183, 'Girard', 'Geoni', 'GGEONI', '650.507.9879', datetime.datetime(2008, 2, 3, 0, 0), 'SH_CLERK', 2800.0, None, 120, 50)\n",
      "(184, 'Nandita', 'Sarchand', 'NSARCHAN', '650.509.1876', datetime.datetime(2004, 1, 27, 0, 0), 'SH_CLERK', 4200.0, None, 121, 50)\n",
      "(185, 'Alexis', 'Bull', 'ABULL', '650.509.2876', datetime.datetime(2005, 2, 20, 0, 0), 'SH_CLERK', 4100.0, None, 121, 50)\n",
      "(186, 'Julia', 'Dellinger', 'JDELLING', '650.509.3876', datetime.datetime(2006, 6, 24, 0, 0), 'SH_CLERK', 3400.0, None, 121, 50)\n",
      "(187, 'Anthony', 'Cabrio', 'ACABRIO', '650.509.4876', datetime.datetime(2007, 2, 7, 0, 0), 'SH_CLERK', 3000.0, None, 121, 50)\n",
      "(188, 'Kelly', 'Chung', 'KCHUNG', '650.505.1876', datetime.datetime(2005, 6, 14, 0, 0), 'SH_CLERK', 3800.0, None, 122, 50)\n",
      "(189, 'Jennifer', 'Dilly', 'JDILLY', '650.505.2876', datetime.datetime(2005, 8, 13, 0, 0), 'SH_CLERK', 3600.0, None, 122, 50)\n",
      "(190, 'Timothy', 'Gates', 'TGATES', '650.505.3876', datetime.datetime(2006, 7, 11, 0, 0), 'SH_CLERK', 2900.0, None, 122, 50)\n",
      "(191, 'Randall', 'Perkins', 'RPERKINS', '650.505.4876', datetime.datetime(2007, 12, 19, 0, 0), 'SH_CLERK', 2500.0, None, 122, 50)\n",
      "(192, 'Sarah', 'Bell', 'SBELL', '650.501.1876', datetime.datetime(2004, 2, 4, 0, 0), 'SH_CLERK', 4000.0, None, 123, 50)\n",
      "(193, 'Britney', 'Everett', 'BEVERETT', '650.501.2876', datetime.datetime(2005, 3, 3, 0, 0), 'SH_CLERK', 3900.0, None, 123, 50)\n",
      "(194, 'Samuel', 'McCain', 'SMCCAIN', '650.501.3876', datetime.datetime(2006, 7, 1, 0, 0), 'SH_CLERK', 3200.0, None, 123, 50)\n",
      "(195, 'Vance', 'Jones', 'VJONES', '650.501.4876', datetime.datetime(2007, 3, 17, 0, 0), 'SH_CLERK', 2800.0, None, 123, 50)\n",
      "(196, 'Alana', 'Walsh', 'AWALSH', '650.507.9811', datetime.datetime(2006, 4, 24, 0, 0), 'SH_CLERK', 3100.0, None, 124, 50)\n",
      "(197, 'Kevin', 'Feeney', 'KFEENEY', '650.507.9822', datetime.datetime(2006, 5, 23, 0, 0), 'SH_CLERK', 3000.0, None, 124, 50)\n",
      "(198, 'Donald', 'OConnell', 'DOCONNEL', '650.507.9833', datetime.datetime(2007, 6, 21, 0, 0), 'SH_CLERK', 2600.0, None, 124, 50)\n",
      "(199, 'Douglas', 'Grant', 'DGRANT', '650.507.9844', datetime.datetime(2008, 1, 13, 0, 0), 'SH_CLERK', 2600.0, None, 124, 50)\n",
      "(200, 'Jennifer', 'Whalen', 'JWHALEN', '515.123.4444', datetime.datetime(2003, 9, 17, 0, 0), 'AD_ASST', 4400.0, None, 101, 10)\n",
      "(201, 'Michael', 'Hartstein', 'MHARTSTE', '515.123.5555', datetime.datetime(2004, 2, 17, 0, 0), 'MK_MAN', 13000.0, None, 100, 20)\n",
      "(202, 'Pat', 'Fay', 'PFAY', '603.123.6666', datetime.datetime(2005, 8, 17, 0, 0), 'MK_REP', 6000.0, None, 201, 20)\n",
      "(203, 'Susan', 'Mavris', 'SMAVRIS', '515.123.7777', datetime.datetime(2002, 6, 7, 0, 0), 'HR_REP', 6500.0, None, 101, 40)\n",
      "(204, 'Hermann', 'Baer', 'HBAER', '515.123.8888', datetime.datetime(2002, 6, 7, 0, 0), 'PR_REP', 10000.0, None, 101, 70)\n",
      "(205, 'Shelley', 'Higgins', 'SHIGGINS', '515.123.8080', datetime.datetime(2002, 6, 7, 0, 0), 'AC_MGR', 12008.0, None, 101, 110)\n",
      "(206, 'William', 'Gietz', 'WGIETZ', '515.123.8181', datetime.datetime(2002, 6, 7, 0, 0), 'AC_ACCOUNT', 8300.0, None, 205, 110)\n"
     ]
    }
   ],
   "source": [
    "for i in row:\n",
    "    print(i)"
   ]
  },
  {
   "cell_type": "code",
   "execution_count": 18,
   "id": "0d863b65",
   "metadata": {},
   "outputs": [
    {
     "name": "stdout",
     "output_type": "stream",
     "text": [
      "('EMPLOYEE_ID', <cx_Oracle.DbType DB_TYPE_NUMBER>, 7, None, 6, 0, 0)\n",
      "('FIRST_NAME', <cx_Oracle.DbType DB_TYPE_VARCHAR>, 20, 20, None, None, 1)\n",
      "('LAST_NAME', <cx_Oracle.DbType DB_TYPE_VARCHAR>, 25, 25, None, None, 0)\n",
      "('EMAIL', <cx_Oracle.DbType DB_TYPE_VARCHAR>, 25, 25, None, None, 0)\n",
      "('PHONE_NUMBER', <cx_Oracle.DbType DB_TYPE_VARCHAR>, 20, 20, None, None, 1)\n",
      "('HIRE_DATE', <cx_Oracle.DbType DB_TYPE_DATE>, 23, None, None, None, 0)\n",
      "('JOB_ID', <cx_Oracle.DbType DB_TYPE_VARCHAR>, 10, 10, None, None, 0)\n",
      "('SALARY', <cx_Oracle.DbType DB_TYPE_NUMBER>, 12, None, 8, 2, 1)\n",
      "('COMMISSION_PCT', <cx_Oracle.DbType DB_TYPE_NUMBER>, 6, None, 2, 2, 1)\n",
      "('MANAGER_ID', <cx_Oracle.DbType DB_TYPE_NUMBER>, 7, None, 6, 0, 1)\n",
      "('DEPARTMENT_ID', <cx_Oracle.DbType DB_TYPE_NUMBER>, 5, None, 4, 0, 1)\n"
     ]
    }
   ],
   "source": [
    "for i in colname:\n",
    "    print(i)"
   ]
  }
 ],
 "metadata": {
  "kernelspec": {
   "display_name": "Python 3 (ipykernel)",
   "language": "python",
   "name": "python3"
  },
  "language_info": {
   "codemirror_mode": {
    "name": "ipython",
    "version": 3
   },
   "file_extension": ".py",
   "mimetype": "text/x-python",
   "name": "python",
   "nbconvert_exporter": "python",
   "pygments_lexer": "ipython3",
   "version": "3.7.13"
  }
 },
 "nbformat": 4,
 "nbformat_minor": 5
}
