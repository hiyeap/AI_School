{
 "cells": [
  {
   "cell_type": "code",
   "execution_count": 1,
   "metadata": {
    "colab": {
     "base_uri": "https://localhost:8080/"
    },
    "executionInfo": {
     "elapsed": 12114,
     "status": "ok",
     "timestamp": 1651219518715,
     "user": {
      "displayName": "na na",
      "userId": "04885013677216108221"
     },
     "user_tz": -540
    },
    "id": "mxkOS6xao81L",
    "outputId": "f2fc38b7-95a6-4b3c-974b-fd3d5b40f305"
   },
   "outputs": [
    {
     "name": "stderr",
     "output_type": "stream",
     "text": [
      "fatal: Too many arguments.\n",
      "\n",
      "usage: git clone [<options>] [--] <repo> [<dir>]\n",
      "\n",
      "    -v, --verbose         be more verbose\n",
      "    -q, --quiet           be more quiet\n",
      "    --progress            force progress reporting\n",
      "    --reject-shallow      don't clone shallow repository\n",
      "    -n, --no-checkout     don't create a checkout\n",
      "    --bare                create a bare repository\n",
      "    --mirror              create a mirror repository (implies bare)\n",
      "    -l, --local           to clone from a local repository\n",
      "    --no-hardlinks        don't use local hardlinks, always copy\n",
      "    -s, --shared          setup as shared repository\n",
      "    --recurse-submodules[=<pathspec>]\n",
      "                          initialize submodules in the clone\n",
      "    --recursive ...       alias of --recurse-submodules\n",
      "    -j, --jobs <n>        number of submodules cloned in parallel\n",
      "    --template <template-directory>\n",
      "                          directory from which templates will be used\n",
      "    --reference <repo>    reference repository\n",
      "    --reference-if-able <repo>\n",
      "                          reference repository\n",
      "    --dissociate          use --reference only while cloning\n",
      "    -o, --origin <name>   use <name> instead of 'origin' to track upstream\n",
      "    -b, --branch <branch>\n",
      "                          checkout <branch> instead of the remote's HEAD\n",
      "    -u, --upload-pack <path>\n",
      "                          path to git-upload-pack on the remote\n",
      "    --depth <depth>       create a shallow clone of that depth\n",
      "    --shallow-since <time>\n",
      "                          create a shallow clone since a specific time\n",
      "    --shallow-exclude <revision>\n",
      "                          deepen history of shallow clone, excluding rev\n",
      "    --single-branch       clone only one branch, HEAD or --branch\n",
      "    --no-tags             don't clone any tags, and make later fetches not to follow them\n",
      "    --shallow-submodules  any cloned submodules will be shallow\n",
      "    --separate-git-dir <gitdir>\n",
      "                          separate git dir from working tree\n",
      "    -c, --config <key=value>\n",
      "                          set config inside the new repository\n",
      "    --server-option <server-specific>\n",
      "                          option to transmit\n",
      "    -4, --ipv4            use IPv4 addresses only\n",
      "    -6, --ipv6            use IPv6 addresses only\n",
      "    --filter <args>       object filtering\n",
      "    --also-filter-submodules\n",
      "                          apply partial clone filters to submodules\n",
      "    --remote-submodules   any cloned submodules will use their remote-tracking branch\n",
      "    --sparse              initialize sparse-checkout file to include only files at root\n",
      "\n",
      "ERROR: Invalid requirement: '#'\n"
     ]
    },
    {
     "name": "stdout",
     "output_type": "stream",
     "text": [
      "Note: you may need to restart the kernel to use updated packages.\n",
      "Checking setup...\n"
     ]
    },
    {
     "ename": "ModuleNotFoundError",
     "evalue": "No module named 'utils'",
     "output_type": "error",
     "traceback": [
      "\u001b[1;31m---------------------------------------------------------------------------\u001b[0m",
      "\u001b[1;31mModuleNotFoundError\u001b[0m                       Traceback (most recent call last)",
      "Input \u001b[1;32mIn [1]\u001b[0m, in \u001b[0;36m<cell line: 5>\u001b[1;34m()\u001b[0m\n\u001b[0;32m      2\u001b[0m get_ipython()\u001b[38;5;241m.\u001b[39mrun_line_magic(\u001b[38;5;124m'\u001b[39m\u001b[38;5;124mpip\u001b[39m\u001b[38;5;124m'\u001b[39m, \u001b[38;5;124m'\u001b[39m\u001b[38;5;124minstall -qr requirements.txt  # install\u001b[39m\u001b[38;5;124m'\u001b[39m)\n\u001b[0;32m      4\u001b[0m \u001b[38;5;28;01mfrom\u001b[39;00m \u001b[38;5;21;01myolov5\u001b[39;00m \u001b[38;5;28;01mimport\u001b[39;00m utils\n\u001b[1;32m----> 5\u001b[0m display \u001b[38;5;241m=\u001b[39m \u001b[43mutils\u001b[49m\u001b[38;5;241;43m.\u001b[39;49m\u001b[43mnotebook_init\u001b[49m\u001b[43m(\u001b[49m\u001b[43m)\u001b[49m\n",
      "File \u001b[1;32m~\\DeepStudy\\yolov5\\utils\\__init__.py:14\u001b[0m, in \u001b[0;36mnotebook_init\u001b[1;34m(verbose)\u001b[0m\n\u001b[0;32m     11\u001b[0m \u001b[38;5;28;01mimport\u001b[39;00m \u001b[38;5;21;01mos\u001b[39;00m\n\u001b[0;32m     12\u001b[0m \u001b[38;5;28;01mimport\u001b[39;00m \u001b[38;5;21;01mshutil\u001b[39;00m\n\u001b[1;32m---> 14\u001b[0m \u001b[38;5;28;01mfrom\u001b[39;00m \u001b[38;5;21;01mutils\u001b[39;00m\u001b[38;5;21;01m.\u001b[39;00m\u001b[38;5;21;01mgeneral\u001b[39;00m \u001b[38;5;28;01mimport\u001b[39;00m check_requirements, emojis, is_colab\n\u001b[0;32m     15\u001b[0m \u001b[38;5;28;01mfrom\u001b[39;00m \u001b[38;5;21;01mutils\u001b[39;00m\u001b[38;5;21;01m.\u001b[39;00m\u001b[38;5;21;01mtorch_utils\u001b[39;00m \u001b[38;5;28;01mimport\u001b[39;00m select_device  \u001b[38;5;66;03m# imports\u001b[39;00m\n\u001b[0;32m     17\u001b[0m check_requirements((\u001b[38;5;124m'\u001b[39m\u001b[38;5;124mpsutil\u001b[39m\u001b[38;5;124m'\u001b[39m, \u001b[38;5;124m'\u001b[39m\u001b[38;5;124mIPython\u001b[39m\u001b[38;5;124m'\u001b[39m))\n",
      "\u001b[1;31mModuleNotFoundError\u001b[0m: No module named 'utils'"
     ]
    }
   ],
   "source": [
    "!git clone https://github.com/ultralytics/yolov5  # clone\n",
    "%pip install -qr requirements.txt  # install\n",
    "\n",
    "from yolov5 import utils\n",
    "display = utils.notebook_init()  # checks"
   ]
  },
  {
   "cell_type": "code",
   "execution_count": 1,
   "metadata": {},
   "outputs": [
    {
     "name": "stdout",
     "output_type": "stream",
     "text": [
      "Requirement already satisfied: matplotlib in c:\\users\\smhrd\\anaconda3\\envs\\project\\lib\\site-packages (3.5.1)\n",
      "Requirement already satisfied: tqdm in c:\\users\\smhrd\\anaconda3\\envs\\project\\lib\\site-packages (4.64.0)\n",
      "Requirement already satisfied: opencv-python in c:\\users\\smhrd\\anaconda3\\envs\\project\\lib\\site-packages (4.5.4.60)\n",
      "Requirement already satisfied: pillow in c:\\users\\smhrd\\anaconda3\\envs\\project\\lib\\site-packages (9.0.1)\n",
      "Requirement already satisfied: PyYAML in c:\\users\\smhrd\\anaconda3\\envs\\project\\lib\\site-packages (6.0)\n",
      "Requirement already satisfied: scipy in c:\\users\\smhrd\\anaconda3\\envs\\project\\lib\\site-packages (1.7.3)\n",
      "Requirement already satisfied: tensorboard in c:\\users\\smhrd\\anaconda3\\envs\\project\\lib\\site-packages (2.4.0)\n",
      "Requirement already satisfied: kiwisolver>=1.0.1 in c:\\users\\smhrd\\anaconda3\\envs\\project\\lib\\site-packages (from matplotlib) (1.3.2)\n",
      "Requirement already satisfied: fonttools>=4.22.0 in c:\\users\\smhrd\\anaconda3\\envs\\project\\lib\\site-packages (from matplotlib) (4.25.0)\n",
      "Requirement already satisfied: numpy>=1.17 in c:\\users\\smhrd\\anaconda3\\envs\\project\\lib\\site-packages (from matplotlib) (1.21.5)\n",
      "Requirement already satisfied: pyparsing>=2.2.1 in c:\\users\\smhrd\\anaconda3\\envs\\project\\lib\\site-packages (from matplotlib) (3.0.4)\n",
      "Requirement already satisfied: packaging>=20.0 in c:\\users\\smhrd\\anaconda3\\envs\\project\\lib\\site-packages (from matplotlib) (21.3)\n",
      "Requirement already satisfied: cycler>=0.10 in c:\\users\\smhrd\\anaconda3\\envs\\project\\lib\\site-packages (from matplotlib) (0.11.0)\n",
      "Requirement already satisfied: python-dateutil>=2.7 in c:\\users\\smhrd\\anaconda3\\envs\\project\\lib\\site-packages (from matplotlib) (2.8.2)\n",
      "Requirement already satisfied: colorama in c:\\users\\smhrd\\anaconda3\\envs\\project\\lib\\site-packages (from tqdm) (0.4.4)\n",
      "Requirement already satisfied: tensorboard-plugin-wit>=1.6.0 in c:\\users\\smhrd\\anaconda3\\envs\\project\\lib\\site-packages (from tensorboard) (1.6.0)\n",
      "Requirement already satisfied: wheel>=0.26 in c:\\users\\smhrd\\anaconda3\\envs\\project\\lib\\site-packages (from tensorboard) (0.37.1)\n",
      "Requirement already satisfied: absl-py>=0.4 in c:\\users\\smhrd\\anaconda3\\envs\\project\\lib\\site-packages (from tensorboard) (0.15.0)\n",
      "Requirement already satisfied: setuptools>=41.0.0 in c:\\users\\smhrd\\anaconda3\\envs\\project\\lib\\site-packages (from tensorboard) (61.2.0)\n",
      "Requirement already satisfied: protobuf>=3.6.0 in c:\\users\\smhrd\\anaconda3\\envs\\project\\lib\\site-packages (from tensorboard) (3.19.1)\n",
      "Requirement already satisfied: six>=1.10.0 in c:\\users\\smhrd\\anaconda3\\envs\\project\\lib\\site-packages (from tensorboard) (1.16.0)\n",
      "Requirement already satisfied: markdown>=2.6.8 in c:\\users\\smhrd\\anaconda3\\envs\\project\\lib\\site-packages (from tensorboard) (3.3.4)\n",
      "Requirement already satisfied: google-auth-oauthlib<0.5,>=0.4.1 in c:\\users\\smhrd\\anaconda3\\envs\\project\\lib\\site-packages (from tensorboard) (0.4.4)\n",
      "Collecting google-auth<2,>=1.6.3\n",
      "  Using cached google_auth-1.35.0-py2.py3-none-any.whl (152 kB)\n",
      "Requirement already satisfied: requests<3,>=2.21.0 in c:\\users\\smhrd\\anaconda3\\envs\\project\\lib\\site-packages (from tensorboard) (2.27.1)\n",
      "Requirement already satisfied: grpcio>=1.24.3 in c:\\users\\smhrd\\anaconda3\\envs\\project\\lib\\site-packages (from tensorboard) (1.42.0)\n",
      "Requirement already satisfied: werkzeug>=0.11.15 in c:\\users\\smhrd\\anaconda3\\envs\\project\\lib\\site-packages (from tensorboard) (2.0.3)\n",
      "Requirement already satisfied: pyasn1-modules>=0.2.1 in c:\\users\\smhrd\\anaconda3\\envs\\project\\lib\\site-packages (from google-auth<2,>=1.6.3->tensorboard) (0.2.8)\n",
      "Requirement already satisfied: rsa<5,>=3.1.4 in c:\\users\\smhrd\\anaconda3\\envs\\project\\lib\\site-packages (from google-auth<2,>=1.6.3->tensorboard) (4.7.2)\n",
      "Requirement already satisfied: cachetools<5.0,>=2.0.0 in c:\\users\\smhrd\\anaconda3\\envs\\project\\lib\\site-packages (from google-auth<2,>=1.6.3->tensorboard) (4.2.2)\n",
      "Requirement already satisfied: requests-oauthlib>=0.7.0 in c:\\users\\smhrd\\anaconda3\\envs\\project\\lib\\site-packages (from google-auth-oauthlib<0.5,>=0.4.1->tensorboard) (1.3.0)\n",
      "Requirement already satisfied: pyasn1<0.5.0,>=0.4.6 in c:\\users\\smhrd\\anaconda3\\envs\\project\\lib\\site-packages (from pyasn1-modules>=0.2.1->google-auth<2,>=1.6.3->tensorboard) (0.4.8)\n",
      "Requirement already satisfied: urllib3<1.27,>=1.21.1 in c:\\users\\smhrd\\anaconda3\\envs\\project\\lib\\site-packages (from requests<3,>=2.21.0->tensorboard) (1.26.9)\n",
      "Requirement already satisfied: idna<4,>=2.5 in c:\\users\\smhrd\\anaconda3\\envs\\project\\lib\\site-packages (from requests<3,>=2.21.0->tensorboard) (3.3)\n",
      "Requirement already satisfied: certifi>=2017.4.17 in c:\\users\\smhrd\\anaconda3\\envs\\project\\lib\\site-packages (from requests<3,>=2.21.0->tensorboard) (2021.10.8)\n",
      "Requirement already satisfied: charset-normalizer~=2.0.0 in c:\\users\\smhrd\\anaconda3\\envs\\project\\lib\\site-packages (from requests<3,>=2.21.0->tensorboard) (2.0.4)\n",
      "Requirement already satisfied: oauthlib>=3.0.0 in c:\\users\\smhrd\\anaconda3\\envs\\project\\lib\\site-packages (from requests-oauthlib>=0.7.0->google-auth-oauthlib<0.5,>=0.4.1->tensorboard) (3.2.0)\n",
      "Installing collected packages: google-auth\n",
      "  Attempting uninstall: google-auth\n",
      "    Found existing installation: google-auth 2.6.0\n",
      "    Uninstalling google-auth-2.6.0:\n",
      "      Successfully uninstalled google-auth-2.6.0\n",
      "Successfully installed google-auth-1.35.0\n",
      "Note: you may need to restart the kernel to use updated packages.\n"
     ]
    }
   ],
   "source": [
    "pip install matplotlib tqdm opencv-python pillow PyYAML scipy tensorboard"
   ]
  },
  {
   "cell_type": "code",
   "execution_count": 5,
   "metadata": {},
   "outputs": [
    {
     "name": "stdout",
     "output_type": "stream",
     "text": [
      "C:\\Users\\smhrd\\DeepStudy\\yolov5\n"
     ]
    }
   ],
   "source": [
    "%cd yolov5"
   ]
  },
  {
   "cell_type": "code",
   "execution_count": 7,
   "metadata": {
    "colab": {
     "base_uri": "https://localhost:8080/"
    },
    "id": "mtbQBwFusSoP",
    "outputId": "498a6391-a02a-43e5-8836-421f2805584f"
   },
   "outputs": [
    {
     "name": "stderr",
     "output_type": "stream",
     "text": [
      "Traceback (most recent call last):\n",
      "  File \"train.py\", line 41, in <module>\n",
      "    import val  # for end-of-epoch mAP\n",
      "  File \"C:\\Users\\smhrd\\DeepStudy\\yolov5\\val.py\", line 38, in <module>\n",
      "    from models.common import DetectMultiBackend\n",
      "  File \"C:\\Users\\smhrd\\DeepStudy\\yolov5\\models\\common.py\", line 24, in <module>\n",
      "    from utils.datasets import exif_transpose, letterbox\n",
      "  File \"C:\\Users\\smhrd\\DeepStudy\\yolov5\\utils\\datasets.py\", line 29, in <module>\n",
      "    from utils.augmentations import Albumentations, augment_hsv, copy_paste, letterbox, mixup, random_perspective\n",
      "  File \"C:\\Users\\smhrd\\DeepStudy\\yolov5\\utils\\augmentations.py\", line 12, in <module>\n",
      "    from utils.general import LOGGER, check_version, colorstr, resample_segments, segment2box\n",
      "  File \"C:\\Users\\smhrd\\DeepStudy\\yolov5\\utils\\general.py\", line 32, in <module>\n",
      "    import torchvision\n",
      "ModuleNotFoundError: No module named 'torchvision'\n"
     ]
    }
   ],
   "source": [
    "!python train.py --data \"data/data.yaml\" --epochs 10"
   ]
  },
  {
   "cell_type": "code",
   "execution_count": null,
   "metadata": {
    "colab": {
     "base_uri": "https://localhost:8080/"
    },
    "executionInfo": {
     "elapsed": 1881,
     "status": "ok",
     "timestamp": 1651076469018,
     "user": {
      "displayName": "na na",
      "userId": "04885013677216108221"
     },
     "user_tz": -540
    },
    "id": "gCySfuZbYXiG",
    "outputId": "4963893a-d43c-48a1-8bbb-0c525bc94aae"
   },
   "outputs": [
    {
     "name": "stdout",
     "output_type": "stream",
     "text": [
      "  adding: content/yolov5/runs/train/exp5/ (stored 0%)\n",
      "  adding: content/yolov5/runs/train/exp5/val_batch1_pred.jpg (deflated 9%)\n",
      "  adding: content/yolov5/runs/train/exp5/weights/ (stored 0%)\n",
      "  adding: content/yolov5/runs/train/exp5/weights/best.pt (deflated 9%)\n",
      "  adding: content/yolov5/runs/train/exp5/weights/last.pt (deflated 9%)\n",
      "  adding: content/yolov5/runs/train/exp5/confusion_matrix.png (deflated 31%)\n",
      "  adding: content/yolov5/runs/train/exp5/val_batch0_labels.jpg (deflated 9%)\n",
      "  adding: content/yolov5/runs/train/exp5/val_batch1_labels.jpg (deflated 10%)\n",
      "  adding: content/yolov5/runs/train/exp5/R_curve.png (deflated 12%)\n",
      "  adding: content/yolov5/runs/train/exp5/labels_correlogram.jpg (deflated 25%)\n",
      "  adding: content/yolov5/runs/train/exp5/events.out.tfevents.1651068245.6f38f4fa3c36.3327.0 (deflated 34%)\n",
      "  adding: content/yolov5/runs/train/exp5/results.png (deflated 9%)\n",
      "  adding: content/yolov5/runs/train/exp5/train_batch2.jpg (deflated 2%)\n",
      "  adding: content/yolov5/runs/train/exp5/train_batch0.jpg (deflated 3%)\n",
      "  adding: content/yolov5/runs/train/exp5/P_curve.png (deflated 12%)\n",
      "  adding: content/yolov5/runs/train/exp5/val_batch2_pred.jpg (deflated 10%)\n",
      "  adding: content/yolov5/runs/train/exp5/labels.jpg (deflated 16%)\n",
      "  adding: content/yolov5/runs/train/exp5/val_batch2_labels.jpg (deflated 11%)\n",
      "  adding: content/yolov5/runs/train/exp5/opt.yaml (deflated 43%)\n",
      "  adding: content/yolov5/runs/train/exp5/val_batch0_pred.jpg (deflated 8%)\n",
      "  adding: content/yolov5/runs/train/exp5/F1_curve.png (deflated 10%)\n",
      "  adding: content/yolov5/runs/train/exp5/PR_curve.png (deflated 16%)\n",
      "  adding: content/yolov5/runs/train/exp5/hyp.yaml (deflated 45%)\n",
      "  adding: content/yolov5/runs/train/exp5/train_batch1.jpg (deflated 3%)\n",
      "  adding: content/yolov5/runs/train/exp5/results.csv (deflated 83%)\n"
     ]
    }
   ],
   "source": [
    "!zip -r train_result.zip /content/yolov5/runs/train/exp"
   ]
  },
  {
   "cell_type": "code",
   "execution_count": 4,
   "metadata": {
    "colab": {
     "base_uri": "https://localhost:8080/"
    },
    "executionInfo": {
     "elapsed": 36398,
     "status": "ok",
     "timestamp": 1651220184177,
     "user": {
      "displayName": "na na",
      "userId": "04885013677216108221"
     },
     "user_tz": -540
    },
    "id": "7rW7iQZ3xGOm",
    "outputId": "d805fb2b-5a79-4109-d46b-feff732b87a2"
   },
   "outputs": [
    {
     "name": "stderr",
     "output_type": "stream",
     "text": [
      "python: can't open file 'val.py': [Errno 2] No such file or directory\n"
     ]
    }
   ],
   "source": [
    "!python val.py --data \"data/data.yaml\" --weights \"C:/Users/smhrd/DeepStudy/yolov5/best0501_377.pt\""
   ]
  },
  {
   "cell_type": "code",
   "execution_count": 9,
   "metadata": {
    "colab": {
     "base_uri": "https://localhost:8080/"
    },
    "executionInfo": {
     "elapsed": 627,
     "status": "ok",
     "timestamp": 1651220230574,
     "user": {
      "displayName": "na na",
      "userId": "04885013677216108221"
     },
     "user_tz": -540
    },
    "id": "WEWam0mPxR09",
    "outputId": "3d50dc5b-2149-4b90-854b-f1d6aabcf1d2"
   },
   "outputs": [
    {
     "name": "stdout",
     "output_type": "stream",
     "text": [
      "  adding: content/yolov5/runs/val/ (stored 0%)\n",
      "  adding: content/yolov5/runs/val/exp2/ (stored 0%)\n",
      "  adding: content/yolov5/runs/val/exp2/val_batch2_pred.jpg (deflated 7%)\n",
      "  adding: content/yolov5/runs/val/exp2/val_batch0_labels.jpg (deflated 10%)\n",
      "  adding: content/yolov5/runs/val/exp2/P_curve.png (deflated 10%)\n",
      "  adding: content/yolov5/runs/val/exp2/F1_curve.png (deflated 8%)\n",
      "  adding: content/yolov5/runs/val/exp2/confusion_matrix.png (deflated 26%)\n",
      "  adding: content/yolov5/runs/val/exp2/R_curve.png (deflated 11%)\n",
      "  adding: content/yolov5/runs/val/exp2/val_batch1_pred.jpg (deflated 7%)\n",
      "  adding: content/yolov5/runs/val/exp2/PR_curve.png (deflated 19%)\n",
      "  adding: content/yolov5/runs/val/exp2/val_batch2_labels.jpg (deflated 8%)\n",
      "  adding: content/yolov5/runs/val/exp2/val_batch0_pred.jpg (deflated 9%)\n",
      "  adding: content/yolov5/runs/val/exp2/val_batch1_labels.jpg (deflated 8%)\n",
      "  adding: content/yolov5/runs/val/exp/ (stored 0%)\n"
     ]
    }
   ],
   "source": [
    "!zip -r val_result.zip /content/yolov5/runs/val"
   ]
  },
  {
   "cell_type": "code",
   "execution_count": 90,
   "metadata": {
    "colab": {
     "base_uri": "https://localhost:8080/"
    },
    "executionInfo": {
     "elapsed": 81362,
     "status": "ok",
     "timestamp": 1651219779838,
     "user": {
      "displayName": "na na",
      "userId": "04885013677216108221"
     },
     "user_tz": -540
    },
    "id": "uIe-j2sbxukd",
    "outputId": "0acadfd1-1365-4668-af90-6b6b67be231e",
    "scrolled": true
   },
   "outputs": [
    {
     "name": "stderr",
     "output_type": "stream",
     "text": [
      "python: can't open file 'detect.py': [Errno 2] No such file or directory\n"
     ]
    }
   ],
   "source": [
    "!python detect.py --weights \"C:/Users/smhrd/DeepStudy/yolov5/best0501_377.pt\" --source \"C:\\Users\\smhrd\\Desktop\\f_project\\bikenum0429+\\valid\\images\""
   ]
  },
  {
   "cell_type": "code",
   "execution_count": 11,
   "metadata": {
    "colab": {
     "base_uri": "https://localhost:8080/"
    },
    "executionInfo": {
     "elapsed": 1829,
     "status": "ok",
     "timestamp": 1651220000271,
     "user": {
      "displayName": "na na",
      "userId": "04885013677216108221"
     },
     "user_tz": -540
    },
    "id": "ehvj9E4o1X0m",
    "outputId": "a0ad6fdd-2f91-4697-dc57-eebb5bea5907",
    "scrolled": true
   },
   "outputs": [
    {
     "name": "stdout",
     "output_type": "stream",
     "text": [
      "  adding: runs/detect/exp3/ (164 bytes security) (stored 0%)\n",
      "  adding: runs/detect/exp3/KakaoTalk_20220427_085514333_01.jpg (164 bytes security) (deflated 0%)\n",
      "  adding: runs/detect/exp3/KakaoTalk_20220427_085514333_02.jpg (164 bytes security) (deflated 0%)\n",
      "  adding: runs/detect/exp3/KakaoTalk_20220427_085514333_03.jpg (164 bytes security) (deflated 0%)\n",
      "  adding: runs/detect/exp3/KakaoTalk_20220427_085514333_04.jpg (164 bytes security) (deflated 0%)\n",
      "  adding: runs/detect/exp3/KakaoTalk_20220427_085514333_05.jpg (164 bytes security) (deflated 0%)\n",
      "  adding: runs/detect/exp3/KakaoTalk_20220427_085514333_06.jpg (164 bytes security) (deflated 0%)\n",
      "  adding: runs/detect/exp3/KakaoTalk_20220427_085514333_07.jpg (164 bytes security) (deflated 0%)\n",
      "  adding: runs/detect/exp3/KakaoTalk_20220427_085514333_08.jpg (164 bytes security) (deflated 0%)\n",
      "  adding: runs/detect/exp3/KakaoTalk_20220427_085514333_09.jpg (164 bytes security) (deflated 0%)\n",
      "  adding: runs/detect/exp3/KakaoTalk_20220427_085514333_10.jpg (164 bytes security) (deflated 0%)\n",
      "  adding: runs/detect/exp3/KakaoTalk_20220427_085514333_11.jpg (164 bytes security) (deflated 0%)\n",
      "  adding: runs/detect/exp3/KakaoTalk_20220427_085514333_12.jpg (164 bytes security) (deflated 0%)\n",
      "  adding: runs/detect/exp3/KakaoTalk_20220427_085514333_13.jpg (164 bytes security) (deflated 0%)\n",
      "  adding: runs/detect/exp3/KakaoTalk_20220427_085514333_14.jpg (164 bytes security) (deflated 0%)\n",
      "  adding: runs/detect/exp3/KakaoTalk_20220427_085514333_15.jpg (164 bytes security) (deflated 0%)\n",
      "  adding: runs/detect/exp3/KakaoTalk_20220427_085514333_16.jpg (164 bytes security) (deflated 0%)\n",
      "  adding: runs/detect/exp3/KakaoTalk_20220427_085514333_17.jpg (164 bytes security) (deflated 0%)\n",
      "  adding: runs/detect/exp3/KakaoTalk_20220427_085514333_18.jpg (164 bytes security) (deflated 0%)\n",
      "  adding: runs/detect/exp3/KakaoTalk_20220427_085514333_19.jpg (164 bytes security) (deflated 0%)\n",
      "  adding: runs/detect/exp3/KakaoTalk_20220427_085514333_20.jpg (164 bytes security) (deflated 0%)\n",
      "  adding: runs/detect/exp3/KakaoTalk_20220427_085514333_21.jpg (164 bytes security) (deflated 0%)\n",
      "  adding: runs/detect/exp3/KakaoTalk_20220427_085514333_22.jpg (164 bytes security) (deflated 0%)\n",
      "  adding: runs/detect/exp3/KakaoTalk_20220427_085514333_23.jpg (164 bytes security) (deflated 0%)\n",
      "  adding: runs/detect/exp3/KakaoTalk_20220427_085514333_24.jpg (164 bytes security) (deflated 0%)\n",
      "  adding: runs/detect/exp3/KakaoTalk_20220427_085514333_25.jpg (164 bytes security) (deflated 0%)\n",
      "  adding: runs/detect/exp3/KakaoTalk_20220427_085514333_26.jpg (164 bytes security) (deflated 0%)\n",
      "  adding: runs/detect/exp3/KakaoTalk_20220427_085514333_27.jpg (164 bytes security) (deflated 0%)\n",
      "  adding: runs/detect/exp3/KakaoTalk_20220427_085514333_28.jpg (164 bytes security) (deflated 0%)\n",
      "  adding: runs/detect/exp3/KakaoTalk_20220427_085514333_29.jpg (164 bytes security) (deflated 0%)\n",
      "  adding: runs/detect/exp3/KakaoTalk_20220427_085559707.jpg (164 bytes security) (deflated 0%)\n",
      "  adding: runs/detect/exp3/KakaoTalk_20220427_085559707_01.jpg (164 bytes security) (deflated 0%)\n",
      "  adding: runs/detect/exp3/KakaoTalk_20220427_085559707_02.jpg (164 bytes security) (deflated 0%)\n",
      "  adding: runs/detect/exp3/KakaoTalk_20220427_085559707_03.jpg (164 bytes security) (deflated 0%)\n",
      "  adding: runs/detect/exp3/KakaoTalk_20220427_085559707_04.jpg (164 bytes security) (deflated 0%)\n",
      "  adding: runs/detect/exp3/KakaoTalk_20220427_085559707_05.jpg (164 bytes security) (deflated 0%)\n",
      "  adding: runs/detect/exp3/KakaoTalk_20220427_085559707_06.jpg (164 bytes security) (deflated 0%)\n",
      "  adding: runs/detect/exp3/KakaoTalk_20220427_085559707_07.jpg (164 bytes security) (deflated 0%)\n",
      "  adding: runs/detect/exp3/KakaoTalk_20220427_085559707_08.jpg (164 bytes security) (deflated 0%)\n",
      "  adding: runs/detect/exp3/KakaoTalk_20220427_085559707_09.jpg (164 bytes security) (deflated 0%)\n",
      "  adding: runs/detect/exp3/KakaoTalk_20220427_085559707_10.jpg (164 bytes security) (deflated 0%)\n",
      "  adding: runs/detect/exp3/KakaoTalk_20220427_085559707_11.jpg (164 bytes security) (deflated 0%)\n",
      "  adding: runs/detect/exp3/KakaoTalk_20220427_085559707_12.jpg (164 bytes security) (deflated 0%)\n",
      "  adding: runs/detect/exp3/KakaoTalk_20220427_085559707_13.jpg (164 bytes security) (deflated 0%)\n",
      "  adding: runs/detect/exp3/KakaoTalk_20220427_085559707_14.jpg (164 bytes security) (deflated 0%)\n",
      "  adding: runs/detect/exp3/KakaoTalk_20220427_085559707_15.jpg (164 bytes security) (deflated 0%)\n",
      "  adding: runs/detect/exp3/KakaoTalk_20220427_085559707_16.jpg (164 bytes security) (deflated 0%)\n",
      "  adding: runs/detect/exp3/KakaoTalk_20220427_085559707_17.jpg (164 bytes security) (deflated 0%)\n",
      "  adding: runs/detect/exp3/KakaoTalk_20220427_085559707_18.jpg (164 bytes security) (deflated 0%)\n",
      "  adding: runs/detect/exp3/KakaoTalk_20220427_085559707_19.jpg (164 bytes security) (deflated 0%)\n",
      "  adding: runs/detect/exp3/KakaoTalk_20220427_085559707_20.jpg (164 bytes security) (deflated 0%)\n",
      "  adding: runs/detect/exp3/KakaoTalk_20220427_085559707_21.jpg (164 bytes security) (deflated 0%)\n",
      "  adding: runs/detect/exp3/KakaoTalk_20220427_085559707_22.jpg (164 bytes security) (deflated 0%)\n",
      "  adding: runs/detect/exp3/KakaoTalk_20220427_085559707_23.jpg (164 bytes security) (deflated 0%)\n",
      "  adding: runs/detect/exp3/KakaoTalk_20220427_085559707_24.jpg (164 bytes security) (deflated 0%)\n",
      "  adding: runs/detect/exp3/KakaoTalk_20220427_085559707_25.jpg (164 bytes security) (deflated 0%)\n",
      "  adding: runs/detect/exp3/KakaoTalk_20220427_085559707_26.jpg (164 bytes security) (deflated 0%)\n",
      "  adding: runs/detect/exp3/KakaoTalk_20220427_085559707_27.jpg (164 bytes security) (deflated 0%)\n",
      "  adding: runs/detect/exp3/KakaoTalk_20220427_085559707_28.jpg (164 bytes security) (deflated 0%)\n",
      "  adding: runs/detect/exp3/KakaoTalk_20220427_085559707_29.jpg (164 bytes security) (deflated 0%)\n",
      "  adding: runs/detect/exp3/KakaoTalk_20220427_085627115.jpg (164 bytes security) (deflated 0%)\n",
      "  adding: runs/detect/exp3/KakaoTalk_20220427_085627115_01.jpg (164 bytes security) (deflated 0%)\n",
      "  adding: runs/detect/exp3/KakaoTalk_20220427_085627115_02.jpg (164 bytes security) (deflated 0%)\n",
      "  adding: runs/detect/exp3/KakaoTalk_20220427_085627115_03.jpg (164 bytes security) (deflated 0%)\n",
      "  adding: runs/detect/exp3/KakaoTalk_20220427_085627115_04.jpg (164 bytes security) (deflated 0%)\n",
      "  adding: runs/detect/exp3/KakaoTalk_20220427_085627115_05.jpg (164 bytes security) (deflated 0%)\n",
      "  adding: runs/detect/exp3/KakaoTalk_20220427_085627115_06.jpg (164 bytes security) (deflated 0%)\n",
      "  adding: runs/detect/exp3/KakaoTalk_20220427_085627115_07.jpg (164 bytes security) (deflated 0%)\n",
      "  adding: runs/detect/exp3/KakaoTalk_20220427_085627115_08.jpg (164 bytes security) (deflated 0%)\n",
      "  adding: runs/detect/exp3/KakaoTalk_20220427_085627115_09.jpg (164 bytes security) (deflated 0%)\n",
      "  adding: runs/detect/exp3/KakaoTalk_20220427_085627115_10.jpg (164 bytes security) (deflated 0%)\n",
      "  adding: runs/detect/exp3/KakaoTalk_20220427_085627115_11.jpg (164 bytes security) (deflated 0%)\n",
      "  adding: runs/detect/exp3/KakaoTalk_20220427_085627115_12.jpg (164 bytes security) (deflated 0%)\n",
      "  adding: runs/detect/exp3/KakaoTalk_20220427_085627115_13.jpg (164 bytes security) (deflated 0%)\n",
      "  adding: runs/detect/exp3/KakaoTalk_20220427_085627115_14.jpg (164 bytes security) (deflated 0%)\n",
      "  adding: runs/detect/exp3/KakaoTalk_20220427_085627115_15.jpg (164 bytes security) (deflated 0%)\n",
      "  adding: runs/detect/exp3/KakaoTalk_20220427_085627115_16.jpg (164 bytes security) (deflated 0%)\n",
      "  adding: runs/detect/exp3/KakaoTalk_20220427_085627115_17.jpg (164 bytes security) (deflated 0%)\n",
      "  adding: runs/detect/exp3/KakaoTalk_20220427_085627115_18.jpg (164 bytes security) (deflated 0%)\n",
      "  adding: runs/detect/exp3/KakaoTalk_20220427_085627115_19.jpg (164 bytes security) (deflated 0%)\n",
      "  adding: runs/detect/exp3/KakaoTalk_20220427_085627115_20.jpg (164 bytes security) (deflated 0%)\n",
      "  adding: runs/detect/exp3/KakaoTalk_20220427_085627115_21.jpg (164 bytes security) (deflated 0%)\n",
      "  adding: runs/detect/exp3/KakaoTalk_20220427_085627115_22.jpg (164 bytes security) (deflated 0%)\n",
      "  adding: runs/detect/exp3/KakaoTalk_20220427_085627115_23.jpg (164 bytes security) (deflated 0%)\n",
      "  adding: runs/detect/exp3/KakaoTalk_20220427_085627115_24.jpg (164 bytes security) (deflated 0%)\n",
      "  adding: runs/detect/exp3/KakaoTalk_20220502_113040552.jpg (164 bytes security) (deflated 1%)\n",
      "  adding: runs/detect/exp3/KakaoTalk_20220502_113040552_01.jpg (164 bytes security) (deflated 2%)\n",
      "  adding: runs/detect/exp3/KakaoTalk_20220502_113040552_02.jpg (164 bytes security) (deflated 1%)\n",
      "  adding: runs/detect/exp3/KakaoTalk_20220502_113040552_03.jpg (164 bytes security) (deflated 1%)\n",
      "  adding: runs/detect/exp3/KakaoTalk_20220502_113040552_04.jpg (164 bytes security) (deflated 1%)\n",
      "  adding: runs/detect/exp3/KakaoTalk_20220502_113040552_05.jpg (164 bytes security) (deflated 1%)\n",
      "  adding: runs/detect/exp3/KakaoTalk_20220502_113040552_06.jpg (164 bytes security) (deflated 0%)\n",
      "  adding: runs/detect/exp3/KakaoTalk_20220502_113040552_07.jpg (164 bytes security) (deflated 1%)\n"
     ]
    }
   ],
   "source": [
    "!zip -r test_result0503.zip runs\\detect\\exp3"
   ]
  },
  {
   "cell_type": "code",
   "execution_count": 3,
   "metadata": {},
   "outputs": [
    {
     "name": "stderr",
     "output_type": "stream",
     "text": [
      "YOLOv5  v6.1-170-gbff6e51 torch 1.11.0+cpu CPU\n",
      "\n",
      "Fusing layers... \n",
      "YOLOv5s summary: 213 layers, 7026307 parameters, 0 gradients\n",
      "Adding AutoShape... \n"
     ]
    },
    {
     "data": {
      "text/html": [
       "<div>\n",
       "<style scoped>\n",
       "    .dataframe tbody tr th:only-of-type {\n",
       "        vertical-align: middle;\n",
       "    }\n",
       "\n",
       "    .dataframe tbody tr th {\n",
       "        vertical-align: top;\n",
       "    }\n",
       "\n",
       "    .dataframe thead th {\n",
       "        text-align: right;\n",
       "    }\n",
       "</style>\n",
       "<table border=\"1\" class=\"dataframe\">\n",
       "  <thead>\n",
       "    <tr style=\"text-align: right;\">\n",
       "      <th></th>\n",
       "      <th>xmin</th>\n",
       "      <th>ymin</th>\n",
       "      <th>xmax</th>\n",
       "      <th>ymax</th>\n",
       "      <th>confidence</th>\n",
       "      <th>class</th>\n",
       "      <th>name</th>\n",
       "    </tr>\n",
       "  </thead>\n",
       "  <tbody>\n",
       "    <tr>\n",
       "      <th>0</th>\n",
       "      <td>94.919075</td>\n",
       "      <td>142.635956</td>\n",
       "      <td>135.316681</td>\n",
       "      <td>266.386841</td>\n",
       "      <td>0.955021</td>\n",
       "      <td>5</td>\n",
       "      <td>num</td>\n",
       "    </tr>\n",
       "    <tr>\n",
       "      <th>1</th>\n",
       "      <td>100.414780</td>\n",
       "      <td>53.539482</td>\n",
       "      <td>245.331680</td>\n",
       "      <td>130.849518</td>\n",
       "      <td>0.948760</td>\n",
       "      <td>3</td>\n",
       "      <td>region</td>\n",
       "    </tr>\n",
       "    <tr>\n",
       "      <th>2</th>\n",
       "      <td>249.797729</td>\n",
       "      <td>140.505661</td>\n",
       "      <td>289.816895</td>\n",
       "      <td>268.939331</td>\n",
       "      <td>0.944450</td>\n",
       "      <td>5</td>\n",
       "      <td>num</td>\n",
       "    </tr>\n",
       "    <tr>\n",
       "      <th>3</th>\n",
       "      <td>29.981567</td>\n",
       "      <td>179.285156</td>\n",
       "      <td>80.174881</td>\n",
       "      <td>267.536316</td>\n",
       "      <td>0.936563</td>\n",
       "      <td>4</td>\n",
       "      <td>word</td>\n",
       "    </tr>\n",
       "    <tr>\n",
       "      <th>4</th>\n",
       "      <td>199.595474</td>\n",
       "      <td>142.492188</td>\n",
       "      <td>239.005997</td>\n",
       "      <td>269.114075</td>\n",
       "      <td>0.933569</td>\n",
       "      <td>5</td>\n",
       "      <td>num</td>\n",
       "    </tr>\n",
       "    <tr>\n",
       "      <th>5</th>\n",
       "      <td>150.325226</td>\n",
       "      <td>142.156189</td>\n",
       "      <td>178.365997</td>\n",
       "      <td>269.726227</td>\n",
       "      <td>0.908874</td>\n",
       "      <td>5</td>\n",
       "      <td>num</td>\n",
       "    </tr>\n",
       "  </tbody>\n",
       "</table>\n",
       "</div>"
      ],
      "text/plain": [
       "         xmin        ymin        xmax        ymax  confidence  class    name\n",
       "0   94.919075  142.635956  135.316681  266.386841    0.955021      5     num\n",
       "1  100.414780   53.539482  245.331680  130.849518    0.948760      3  region\n",
       "2  249.797729  140.505661  289.816895  268.939331    0.944450      5     num\n",
       "3   29.981567  179.285156   80.174881  267.536316    0.936563      4    word\n",
       "4  199.595474  142.492188  239.005997  269.114075    0.933569      5     num\n",
       "5  150.325226  142.156189  178.365997  269.726227    0.908874      5     num"
      ]
     },
     "execution_count": 3,
     "metadata": {},
     "output_type": "execute_result"
    }
   ],
   "source": [
    "import torch\n",
    "import cv2\n",
    "\n",
    "cap = cv2.VideoCapture(0, cv2.CAP_DSHOW)\n",
    "\n",
    "model = torch.hub.load('C:/Users/smhrd/DeepStudy/yolov5', 'custom', path='C:/Users/smhrd/DeepStudy/yolov5/best0501_377.pt', source='local')\n",
    "img = 'C:/Users/smhrd/Desktop/f_project/project0429+/valid/images/105_jpg.rf.3cf92c9c9fb36b97ca94289accc6b6f1.jpg'\n",
    "\n",
    "# 이미지\n",
    "img = ['C:/Users/smhrd/Desktop/f_project/project0429+/valid/images/105_jpg.rf.3cf92c9c9fb36b97ca94289accc6b6f1.jpg']\n",
    "\n",
    "# 추론\n",
    "results = model(img)\n",
    "\n",
    "# 결과\n",
    "# results.print()\n",
    "# results.show()\n",
    "# results.save() # Save image to 'runs\\detect\\exp'\n",
    "\n",
    "# results.xyxy[0]  # 예측 (tensor)\n",
    "df = results.pandas().xyxy[0]  # 예측 (pandas)\n",
    "df"
   ]
  },
  {
   "cell_type": "code",
   "execution_count": 61,
   "metadata": {},
   "outputs": [
    {
     "data": {
      "text/plain": [
       "0    5\n",
       "1    3\n",
       "2    5\n",
       "3    4\n",
       "4    5\n",
       "5    5\n",
       "Name: class, dtype: int64"
      ]
     },
     "execution_count": 61,
     "metadata": {},
     "output_type": "execute_result"
    }
   ],
   "source": [
    "df.loc[:,\"class\"]"
   ]
  },
  {
   "cell_type": "code",
   "execution_count": 12,
   "metadata": {},
   "outputs": [
    {
     "name": "stderr",
     "output_type": "stream",
     "text": [
      "CUDA not available - defaulting to CPU. Note: This module is much faster with a GPU.\n"
     ]
    },
    {
     "name": "stdout",
     "output_type": "stream",
     "text": [
      "[([[0, 0], [145, 0], [145, 77], [0, 77]], '신기 뷰전', 0.0279490144258999)]\n"
     ]
    },
    {
     "data": {
      "image/png": "[encoded data removed]",
      "text/plain": [
       "<Figure size 432x288 with 1 Axes>"
      ]
     },
     "metadata": {},
     "output_type": "display_data"
    }
   ],
   "source": [
    "# ROI 자르기\n",
    "import cv2\n",
    "import matplotlib.pyplot as plt\n",
    "\n",
    "img = cv2.imread('C:/Users/smhrd/Desktop/f_project/project0429+/valid/images/105_jpg.rf.3cf92c9c9fb36b97ca94289accc6b6f1.jpg', cv2.IMREAD_COLOR)\n",
    "img = cv2.cvtColor(img, cv2.COLOR_BGR2RGB)\n",
    "\n",
    "xmin = round(df['xmin'][1])\n",
    "ymin = round(df['ymin'][1])\n",
    "xmax = round(df['xmax'][1])\n",
    "ymax = round(df['ymax'][1])\n",
    "xmin, ymin, xmax, ymax\n",
    "# 좌상단 1480,2265 / 우하단 1835,2471\n",
    "# (가로 x, 세로 y) - 배열(행, 열)\n",
    "# img[좌상단 y:우하단 y, 좌상단 x:우하단 x]\n",
    "img_roi = img[ymin:ymax, xmin:xmax]\n",
    "\n",
    "plt.xticks([]), plt.yticks([])\n",
    "plt.imshow(img_roi)\n",
    "\n",
    "import os\n",
    "os.environ['KMP_DUPLICATE_LIB_OK']='True'\n",
    "\n",
    "import easyocr\n",
    "reader = easyocr.Reader(['ko', 'en']) \n",
    "result = reader.readtext(img_roi) \n",
    "print(result)"
   ]
  },
  {
   "cell_type": "code",
   "execution_count": 84,
   "metadata": {},
   "outputs": [
    {
     "name": "stderr",
     "output_type": "stream",
     "text": [
      "11 out of the last 11 calls to <function Model.make_predict_function.<locals>.predict_function at 0x0000012AA33CADC8> triggered tf.function retracing. Tracing is expensive and the excessive number of tracings could be due to (1) creating @tf.function repeatedly in a loop, (2) passing tensors with different shapes, (3) passing Python objects instead of tensors. For (1), please define your @tf.function outside of the loop. For (2), @tf.function has experimental_relax_shapes=True option that relaxes argument shapes that can avoid unnecessary retracing. For (3), please refer to https://www.tensorflow.org/tutorials/customization/performance#python_or_tensor_args and https://www.tensorflow.org/api_docs/python/tf/function for  more details.\n",
      "CUDA not available - defaulting to CPU. Note: This module is much faster with a GPU.\n"
     ]
    },
    {
     "name": "stdout",
     "output_type": "stream",
     "text": [
      "[5]\n",
      "[([[0, 8], [40, 8], [40, 123], [0, 123]], '0', 0.6857338578243208)]\n"
     ]
    },
    {
     "data": {
      "image/png": "[encoded data removed]",
      "text/plain": [
       "<Figure size 432x288 with 1 Axes>"
      ]
     },
     "metadata": {},
     "output_type": "display_data"
    }
   ],
   "source": [
    "# ROI 자르기\n",
    "import cv2\n",
    "import matplotlib.pyplot as plt\n",
    "\n",
    "img = cv2.imread('C:/Users/smhrd/Desktop/f_project/project0429+/valid/images/105_jpg.rf.3cf92c9c9fb36b97ca94289accc6b6f1.jpg', cv2.IMREAD_COLOR)\n",
    "img = cv2.cvtColor(img, cv2.IMREAD_GRAYSCALE)\n",
    "\n",
    "xmin = round(df['xmin'][0])\n",
    "ymin = round(df['ymin'][0])\n",
    "xmax = round(df['xmax'][0])\n",
    "ymax = round(df['ymax'][0])\n",
    "xmin, ymin, xmax, ymax\n",
    "# 좌상단 1480,2265 / 우하단 1835,2471\n",
    "# (가로 x, 세로 y) - 배열(행, 열)\n",
    "# img[좌상단 y:우하단 y, 좌상단 x:우하단 x]\n",
    "img_roi = img[ymin:ymax, xmin:xmax]\n",
    "_, img_roi = cv2.threshold(img_roi, 128, 255, cv2.THRESH_BINARY)\n",
    "\n",
    "plt.xticks([]), plt.yticks([])\n",
    "plt.imshow(img_roi)\n",
    "\n",
    "from tensorflow.python.keras.models import load_model\n",
    "from PIL import Image\n",
    "import numpy as np\n",
    "\n",
    "model = load_model('num_model3.h5')\n",
    "\n",
    "img_rs = np.resize(img_roi, (1,65,180,3))\n",
    "res = model.predict_classes(img_rs)\n",
    "print(res)\n",
    "\n",
    "import os\n",
    "os.environ['KMP_DUPLICATE_LIB_OK']='True'\n",
    "\n",
    "import easyocr\n",
    "reader = easyocr.Reader(['ko', 'en']) \n",
    "result = reader.readtext(img_roi) \n",
    "print(result)"
   ]
  },
  {
   "cell_type": "code",
   "execution_count": 85,
   "metadata": {},
   "outputs": [
    {
     "name": "stderr",
     "output_type": "stream",
     "text": [
      "11 out of the last 11 calls to <function Model.make_predict_function.<locals>.predict_function at 0x0000012AE2DED828> triggered tf.function retracing. Tracing is expensive and the excessive number of tracings could be due to (1) creating @tf.function repeatedly in a loop, (2) passing tensors with different shapes, (3) passing Python objects instead of tensors. For (1), please define your @tf.function outside of the loop. For (2), @tf.function has experimental_relax_shapes=True option that relaxes argument shapes that can avoid unnecessary retracing. For (3), please refer to https://www.tensorflow.org/tutorials/customization/performance#python_or_tensor_args and https://www.tensorflow.org/api_docs/python/tf/function for  more details.\n",
      "CUDA not available - defaulting to CPU. Note: This module is much faster with a GPU.\n"
     ]
    },
    {
     "name": "stdout",
     "output_type": "stream",
     "text": [
      "[2]\n",
      "[([[0, 13], [40, 13], [40, 105], [0, 105]], '?', 0.3064793761541864)]\n"
     ]
    },
    {
     "data": {
      "image/png": "[encoded data removed]",
      "text/plain": [
       "<Figure size 432x288 with 1 Axes>"
      ]
     },
     "metadata": {},
     "output_type": "display_data"
    }
   ],
   "source": [
    "# ROI 자르기\n",
    "import cv2\n",
    "import matplotlib.pyplot as plt\n",
    "\n",
    "img = cv2.imread('C:/Users/smhrd/Desktop/f_project/project0429+/valid/images/105_jpg.rf.3cf92c9c9fb36b97ca94289accc6b6f1.jpg', cv2.IMREAD_COLOR)\n",
    "img = cv2.cvtColor(img, cv2.IMREAD_GRAYSCALE)\n",
    "\n",
    "xmin = round(df['xmin'][2])\n",
    "ymin = round(df['ymin'][2])\n",
    "xmax = round(df['xmax'][2])\n",
    "ymax = round(df['ymax'][2])\n",
    "xmin, ymin, xmax, ymax\n",
    "# 좌상단 1480,2265 / 우하단 1835,2471\n",
    "# (가로 x, 세로 y) - 배열(행, 열)\n",
    "# img[좌상단 y:우하단 y, 좌상단 x:우하단 x]\n",
    "img_roi = img[ymin:ymax, xmin:xmax]\n",
    "_, img_roi = cv2.threshold(img_roi, 128, 255, cv2.THRESH_BINARY)\n",
    "\n",
    "plt.xticks([]), plt.yticks([])\n",
    "plt.imshow(img_roi)\n",
    "\n",
    "from tensorflow.python.keras.models import load_model\n",
    "from PIL import Image\n",
    "import numpy as np\n",
    "\n",
    "model = load_model('num_model3.h5')\n",
    "\n",
    "img_rs = np.resize(img_roi, (1,65,180,3))\n",
    "res = model.predict_classes(img_rs)\n",
    "print(res)\n",
    "\n",
    "import os\n",
    "os.environ['KMP_DUPLICATE_LIB_OK']='True'\n",
    "\n",
    "import easyocr\n",
    "reader = easyocr.Reader(['ko', 'en']) \n",
    "result = reader.readtext(img_roi) \n",
    "print(result)"
   ]
  },
  {
   "cell_type": "code",
   "execution_count": 86,
   "metadata": {},
   "outputs": [
    {
     "name": "stderr",
     "output_type": "stream",
     "text": [
      "11 out of the last 11 calls to <function Model.make_predict_function.<locals>.predict_function at 0x0000012AEFDFB4C8> triggered tf.function retracing. Tracing is expensive and the excessive number of tracings could be due to (1) creating @tf.function repeatedly in a loop, (2) passing tensors with different shapes, (3) passing Python objects instead of tensors. For (1), please define your @tf.function outside of the loop. For (2), @tf.function has experimental_relax_shapes=True option that relaxes argument shapes that can avoid unnecessary retracing. For (3), please refer to https://www.tensorflow.org/tutorials/customization/performance#python_or_tensor_args and https://www.tensorflow.org/api_docs/python/tf/function for  more details.\n",
      "CUDA not available - defaulting to CPU. Note: This module is much faster with a GPU.\n"
     ]
    },
    {
     "name": "stdout",
     "output_type": "stream",
     "text": [
      "[5]\n",
      "[]\n"
     ]
    },
    {
     "data": {
      "image/png": "[encoded data removed]",
      "text/plain": [
       "<Figure size 432x288 with 1 Axes>"
      ]
     },
     "metadata": {},
     "output_type": "display_data"
    }
   ],
   "source": [
    "# ROI 자르기\n",
    "import cv2\n",
    "import matplotlib.pyplot as plt\n",
    "\n",
    "img = cv2.imread('C:/Users/smhrd/Desktop/f_project/project0429+/valid/images/105_jpg.rf.3cf92c9c9fb36b97ca94289accc6b6f1.jpg', cv2.IMREAD_COLOR)\n",
    "img = cv2.cvtColor(img, cv2.IMREAD_GRAYSCALE)\n",
    "\n",
    "xmin = round(df['xmin'][4])\n",
    "ymin = round(df['ymin'][4])\n",
    "xmax = round(df['xmax'][4])\n",
    "ymax = round(df['ymax'][4])\n",
    "xmin, ymin, xmax, ymax\n",
    "# 좌상단 1480,2265 / 우하단 1835,2471\n",
    "# (가로 x, 세로 y) - 배열(행, 열)\n",
    "# img[좌상단 y:우하단 y, 좌상단 x:우하단 x]\n",
    "img_roi = img[ymin:ymax, xmin:xmax]\n",
    "_, img_roi = cv2.threshold(img_roi, 128, 255, cv2.THRESH_BINARY)\n",
    "plt.xticks([]), plt.yticks([])\n",
    "plt.imshow(img_roi)\n",
    "\n",
    "from tensorflow.python.keras.models import load_model\n",
    "from PIL import Image\n",
    "import numpy as np\n",
    "\n",
    "model = load_model('num_model3.h5')\n",
    "\n",
    "\n",
    "img_rs = np.resize(img_roi, (1,65,180,3))\n",
    "res = model.predict_classes(img_rs)\n",
    "print(res)\n",
    "\n",
    "import os\n",
    "os.environ['KMP_DUPLICATE_LIB_OK']='True'\n",
    "\n",
    "import easyocr\n",
    "reader = easyocr.Reader(['ko', 'en']) \n",
    "result = reader.readtext(img_roi) \n",
    "print(result)"
   ]
  },
  {
   "cell_type": "code",
   "execution_count": 87,
   "metadata": {},
   "outputs": [
    {
     "name": "stderr",
     "output_type": "stream",
     "text": [
      "11 out of the last 11 calls to <function Model.make_predict_function.<locals>.predict_function at 0x0000012AAA141708> triggered tf.function retracing. Tracing is expensive and the excessive number of tracings could be due to (1) creating @tf.function repeatedly in a loop, (2) passing tensors with different shapes, (3) passing Python objects instead of tensors. For (1), please define your @tf.function outside of the loop. For (2), @tf.function has experimental_relax_shapes=True option that relaxes argument shapes that can avoid unnecessary retracing. For (3), please refer to https://www.tensorflow.org/tutorials/customization/performance#python_or_tensor_args and https://www.tensorflow.org/api_docs/python/tf/function for  more details.\n",
      "CUDA not available - defaulting to CPU. Note: This module is much faster with a GPU.\n"
     ]
    },
    {
     "name": "stdout",
     "output_type": "stream",
     "text": [
      "[2]\n",
      "[]\n"
     ]
    },
    {
     "data": {
      "image/png": "[encoded data removed]",
      "text/plain": [
       "<Figure size 432x288 with 1 Axes>"
      ]
     },
     "metadata": {},
     "output_type": "display_data"
    }
   ],
   "source": [
    "# ROI 자르기\n",
    "import cv2\n",
    "import matplotlib.pyplot as plt\n",
    "\n",
    "img = cv2.imread('C:/Users/smhrd/Desktop/f_project/project0429+/valid/images/105_jpg.rf.3cf92c9c9fb36b97ca94289accc6b6f1.jpg', cv2.IMREAD_COLOR)\n",
    "img = cv2.cvtColor(img, cv2.IMREAD_GRAYSCALE)\n",
    "\n",
    "xmin = round(df['xmin'][5])\n",
    "ymin = round(df['ymin'][5])\n",
    "xmax = round(df['xmax'][5])\n",
    "ymax = round(df['ymax'][5])\n",
    "xmin, ymin, xmax, ymax\n",
    "# 좌상단 1480,2265 / 우하단 1835,2471\n",
    "# (가로 x, 세로 y) - 배열(행, 열)\n",
    "# img[좌상단 y:우하단 y, 좌상단 x:우하단 x]\n",
    "img_roi = img[ymin:ymax, xmin:xmax]\n",
    "_, img_roi = cv2.threshold(img_roi, 128, 255, cv2.THRESH_BINARY)\n",
    "\n",
    "plt.xticks([]), plt.yticks([])\n",
    "plt.imshow(img_roi)\n",
    "\n",
    "from tensorflow.python.keras.models import load_model\n",
    "from PIL import Image\n",
    "import numpy as np\n",
    "\n",
    "model = load_model('num_model3.h5')\n",
    "\n",
    "img_rs = np.resize(img_roi, (1,65,180,3))\n",
    "res = model.predict_classes(img_rs)\n",
    "print(res)\n",
    "\n",
    "import os\n",
    "os.environ['KMP_DUPLICATE_LIB_OK']='True'\n",
    "\n",
    "import easyocr\n",
    "reader = easyocr.Reader(['ko', 'en']) \n",
    "result = reader.readtext(img_roi) \n",
    "print(result)"
   ]
  },
  {
   "cell_type": "code",
   "execution_count": 72,
   "metadata": {},
   "outputs": [
    {
     "name": "stderr",
     "output_type": "stream",
     "text": [
      "CUDA not available - defaulting to CPU. Note: This module is much faster with a GPU.\n"
     ]
    },
    {
     "name": "stdout",
     "output_type": "stream",
     "text": [
      "[([[86, 36], [260, 36], [260, 138], [86, 138]], '제무진', 0.041420971046252086), ([[9, 122], [311, 122], [311, 285], [9, 285]], '(자01921', 0.31808932447795485)]\n"
     ]
    }
   ],
   "source": [
    "import os\n",
    "os.environ['KMP_DUPLICATE_LIB_OK']='True'\n",
    "\n",
    "import easyocr\n",
    "reader = easyocr.Reader(['ko', 'en']) \n",
    "result = reader.readtext(img) \n",
    "print(result)"
   ]
  }
 ],
 "metadata": {
  "accelerator": "GPU",
  "colab": {
   "collapsed_sections": [],
   "name": "번호판학습.ipynb",
   "provenance": []
  },
  "kernelspec": {
   "display_name": "Python 3 (ipykernel)",
   "language": "python",
   "name": "python3"
  },
  "language_info": {
   "codemirror_mode": {
    "name": "ipython",
    "version": 3
   },
   "file_extension": ".py",
   "mimetype": "text/x-python",
   "name": "python",
   "nbconvert_exporter": "python",
   "pygments_lexer": "ipython3",
   "version": "3.8.13"
  }
 },
 "nbformat": 4,
 "nbformat_minor": 1
}
