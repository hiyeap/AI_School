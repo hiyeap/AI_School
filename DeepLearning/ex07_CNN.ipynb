{
 "cells": [
  {
   "cell_type": "markdown",
   "id": "c6bc0abd",
   "metadata": {},
   "source": [
    "## 학습목표\n",
    "- CNN 개념\n",
    "- 손글씨 데이터를 CNN으로 분류\n",
    "- 개고양이 분류 실습\n",
    "- 과대적합 방지 방법\n",
    "  - 증식\n",
    "  - BatchNormalization\n",
    "- 전이학습\n",
    "  - 특성추출\n",
    "  - 미세조정\n"
   ]
  },
  {
   "cell_type": "code",
   "execution_count": null,
   "id": "e197b013",
   "metadata": {},
   "outputs": [],
   "source": []
  },
  {
   "cell_type": "code",
   "execution_count": null,
   "id": "d207baf5",
   "metadata": {},
   "outputs": [],
   "source": []
  },
  {
   "cell_type": "code",
   "execution_count": null,
   "id": "8c3eec50",
   "metadata": {},
   "outputs": [],
   "source": []
  },
  {
   "cell_type": "code",
   "execution_count": null,
   "id": "68640c4d",
   "metadata": {},
   "outputs": [],
   "source": []
  },
  {
   "cell_type": "code",
   "execution_count": null,
   "id": "ecc9ac99",
   "metadata": {},
   "outputs": [],
   "source": []
  },
  {
   "cell_type": "code",
   "execution_count": null,
   "id": "705713b5",
   "metadata": {},
   "outputs": [],
   "source": []
  },
  {
   "cell_type": "code",
   "execution_count": null,
   "id": "ce708405",
   "metadata": {},
   "outputs": [],
   "source": []
  }
 ],
 "metadata": {
  "kernelspec": {
   "display_name": "Python 3 (ipykernel)",
   "language": "python",
   "name": "python3"
  },
  "language_info": {
   "codemirror_mode": {
    "name": "ipython",
    "version": 3
   },
   "file_extension": ".py",
   "mimetype": "text/x-python",
   "name": "python",
   "nbconvert_exporter": "python",
   "pygments_lexer": "ipython3",
   "version": "3.7.13"
  }
 },
 "nbformat": 4,
 "nbformat_minor": 5
}
