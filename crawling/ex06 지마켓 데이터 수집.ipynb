{
 "cells": [
  {
   "cell_type": "code",
   "execution_count": 1,
   "id": "c8dd8dc4",
   "metadata": {},
   "outputs": [],
   "source": [
    "from selenium import webdriver as wb\n",
    "from selenium.webdriver.common.by import By\n",
    "import time"
   ]
  },
  {
   "cell_type": "code",
   "execution_count": 2,
   "id": "8325083a",
   "metadata": {},
   "outputs": [],
   "source": [
    "driver = wb.Chrome()\n",
    "driver.get(\"http://corners.gmarket.co.kr/Bestsellers\")"
   ]
  },
  {
   "cell_type": "code",
   "execution_count": 19,
   "id": "c8916ec5",
   "metadata": {},
   "outputs": [],
   "source": [
    "# 1. 첫번째 상품 클릭\n",
    "img = driver.find_elements(By.CLASS_NAME, \"lazy\")\n",
    "img[0].click()"
   ]
  },
  {
   "cell_type": "code",
   "execution_count": 20,
   "id": "bb1a3e5a",
   "metadata": {},
   "outputs": [],
   "source": [
    "#2-2. 상품의 이름 수집\n",
    "title = driver.find_element(By.CSS_SELECTOR, \"h1.itemtit\").text\n",
    "#2-3. 상품의 가격 수집\n",
    "price = driver.find_element(By.CSS_SELECTOR, \"strong.price_real\").text\n",
    "#2-4 상품의 카테고리 수집\n",
    "cate = driver.find_element(By.CSS_SELECTOR, \"li.on>a\").text"
   ]
  },
  {
   "cell_type": "code",
   "execution_count": 21,
   "id": "703b8556",
   "metadata": {},
   "outputs": [
    {
     "data": {
      "text/plain": [
       "('진짜진짜 촉촉한 올리브 토너 2개 + 로션 1개/+사은품', '10,500원', '스킨/토너')"
      ]
     },
     "execution_count": 21,
     "metadata": {},
     "output_type": "execute_result"
    }
   ],
   "source": [
    "title, price, cate"
   ]
  },
  {
   "cell_type": "code",
   "execution_count": 18,
   "id": "652c9b04",
   "metadata": {},
   "outputs": [],
   "source": [
    "driver.back()"
   ]
  },
  {
   "cell_type": "code",
   "execution_count": 3,
   "id": "5bfe5332",
   "metadata": {},
   "outputs": [],
   "source": [
    "titleList = []\n",
    "priceList = []\n",
    "cateList= []"
   ]
  },
  {
   "cell_type": "code",
   "execution_count": 4,
   "id": "3929b2fd",
   "metadata": {},
   "outputs": [],
   "source": [
    "# 상품 10개를 수집!\n",
    "for i in range(0,10):\n",
    "    img = driver.find_elements(By.CLASS_NAME, \"lazy\")\n",
    "    img[i].click()\n",
    "    time.sleep(5)\n",
    "    title = driver.find_element(By.CSS_SELECTOR, \"h1.itemtit\").text\n",
    "    titleList.append(title)\n",
    "    price = driver.find_element(By.CSS_SELECTOR, \"strong.price_real\").text\n",
    "    priceList.append(price)\n",
    "    cate = driver.find_element(By.CSS_SELECTOR, \"li.on>a\").text\n",
    "    cateList.append(cate)\n",
    "    driver.back()\n",
    "    time.sleep(5)"
   ]
  },
  {
   "cell_type": "code",
   "execution_count": 6,
   "id": "d7c68bad",
   "metadata": {},
   "outputs": [
    {
     "data": {
      "text/plain": [
       "['진짜진짜 촉촉한 올리브 토너 2개 + 로션 1개/+사은품',\n",
       " '제스프리 제스프리 썬골드키위 특대과 3.2kg(23~25과 개당 130g~140g내외)+스푼3개',\n",
       " '완도 전복 쿠폰가 26340 초복 선물용 횟감용 14-16미 1KG 더큰 전복 국내산',\n",
       " '소울키친 빅마마 이혜정의 시크릿코인 205개',\n",
       " '소문난오부자 재래도시락김5g 72봉 최근생산',\n",
       " '도드람한돈 생 삼겹살 500g 구이용',\n",
       " '(추가할인+사은품) 책과함께 떠나는 북캉스 추천도서 188종 선택/무료배송',\n",
       " '올반 볶음밥 3종 10봉(새우4+김치4+우삼겹2)',\n",
       " '촉촉한 초코칩 16개입 x 5박스',\n",
       " '몽베스트 1L 24병 /생수전문배송']"
      ]
     },
     "execution_count": 6,
     "metadata": {},
     "output_type": "execute_result"
    }
   ],
   "source": [
    "titleList"
   ]
  },
  {
   "cell_type": "code",
   "execution_count": 7,
   "id": "31475079",
   "metadata": {},
   "outputs": [
    {
     "data": {
      "text/plain": [
       "['10,500원',\n",
       " '27,740원',\n",
       " '30,000원',\n",
       " '55,640원',\n",
       " '18,900원',\n",
       " '11,900원',\n",
       " '3,900원',\n",
       " '15,700원',\n",
       " '17,000원',\n",
       " '11,880원']"
      ]
     },
     "execution_count": 7,
     "metadata": {},
     "output_type": "execute_result"
    }
   ],
   "source": [
    "priceList"
   ]
  },
  {
   "cell_type": "code",
   "execution_count": 8,
   "id": "176be0cb",
   "metadata": {},
   "outputs": [
    {
     "data": {
      "text/plain": [
       "['스킨/토너',\n",
       " '키위/참다래',\n",
       " '전복',\n",
       " '기타조미료/양념',\n",
       " '김',\n",
       " '국내산돼지고기',\n",
       " '유아동전집',\n",
       " '볶음/비빔밥',\n",
       " '비스킷',\n",
       " '생수/탄산수']"
      ]
     },
     "execution_count": 8,
     "metadata": {},
     "output_type": "execute_result"
    }
   ],
   "source": [
    "cateList"
   ]
  },
  {
   "cell_type": "code",
   "execution_count": 9,
   "id": "5e186a86",
   "metadata": {},
   "outputs": [
    {
     "data": {
      "text/plain": [
       "10"
      ]
     },
     "execution_count": 9,
     "metadata": {},
     "output_type": "execute_result"
    }
   ],
   "source": [
    "len(cateList)"
   ]
  },
  {
   "cell_type": "code",
   "execution_count": null,
   "id": "4d3cc247",
   "metadata": {},
   "outputs": [],
   "source": []
  },
  {
   "cell_type": "code",
   "execution_count": null,
   "id": "a2544ae5",
   "metadata": {},
   "outputs": [],
   "source": []
  },
  {
   "cell_type": "code",
   "execution_count": null,
   "id": "5c332dd6",
   "metadata": {},
   "outputs": [],
   "source": []
  },
  {
   "cell_type": "code",
   "execution_count": null,
   "id": "45818c39",
   "metadata": {},
   "outputs": [],
   "source": []
  }
 ],
 "metadata": {
  "kernelspec": {
   "display_name": "Python 3 (ipykernel)",
   "language": "python",
   "name": "python3"
  },
  "language_info": {
   "codemirror_mode": {
    "name": "ipython",
    "version": 3
   },
   "file_extension": ".py",
   "mimetype": "text/x-python",
   "name": "python",
   "nbconvert_exporter": "python",
   "pygments_lexer": "ipython3",
   "version": "3.9.12"
  },
  "toc": {
   "base_numbering": 1,
   "nav_menu": {},
   "number_sections": true,
   "sideBar": true,
   "skip_h1_title": false,
   "title_cell": "Table of Contents",
   "title_sidebar": "Contents",
   "toc_cell": false,
   "toc_position": {},
   "toc_section_display": true,
   "toc_window_display": false
  }
 },
 "nbformat": 4,
 "nbformat_minor": 5
}
