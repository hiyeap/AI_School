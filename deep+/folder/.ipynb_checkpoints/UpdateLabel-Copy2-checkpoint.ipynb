{
 "cells": [
  {
   "cell_type": "code",
   "execution_count": 23,
   "id": "c6125c92",
   "metadata": {},
   "outputs": [],
   "source": [
    "import os\n",
    "file_names=os.listdir('C:/Users/smhrd/Desktop/change/labels')"
   ]
  },
  {
   "cell_type": "code",
   "execution_count": 24,
   "id": "682e2be8",
   "metadata": {},
   "outputs": [
    {
     "data": {
      "text/plain": [
       "'C:/Users/smhrd/Desktop/change/labels/ADB01TE193657760.txt'"
      ]
     },
     "execution_count": 24,
     "metadata": {},
     "output_type": "execute_result"
    }
   ],
   "source": [
    "text_file_path = 'C:/Users/smhrd/Desktop/change/labels/'+ file_names[0]\n",
    "text_file_path"
   ]
  },
  {
   "cell_type": "code",
   "execution_count": 25,
   "id": "253ac8be",
   "metadata": {},
   "outputs": [],
   "source": [
    "j=0\n",
    "for i in file_names:\n",
    "    text_file_path = 'C:/Users/smhrd/Desktop/change/labels/'+ file_names[j]\n",
    "    if j == (len(file_names)-1):\n",
    "        break    \n",
    "    with open(text_file_path,'r') as f:\n",
    "        lines = f.readlines()\n",
    "    with open(text_file_path,'w') as f:\n",
    "        k=0\n",
    "        for i in lines:\n",
    "            if lines[k][0] == '0':\n",
    "                f.write(lines[k].replace('0','1',1))\n",
    "            elif lines[k][0] == '1':\n",
    "                f.write(lines[k].replace('1','0',1))\n",
    "            k=k+1\n",
    "    j=j+1"
   ]
  },
  {
   "cell_type": "code",
   "execution_count": null,
   "id": "f8dc3ef6",
   "metadata": {},
   "outputs": [],
   "source": [
    "k=0\n",
    "with open(text_file_path,'w') as f:\n",
    "    for i in lines:\n",
    "        if lines[k] == 0:\n",
    "            f.write(lines[k].replace('0','2',1))\n",
    "        if lines[k] == 1:\n",
    "            f.write(lines[k].replace('1','0',1))\n",
    "        k=k+1"
   ]
  }
 ],
 "metadata": {
  "kernelspec": {
   "display_name": "Python 3 (ipykernel)",
   "language": "python",
   "name": "python3"
  },
  "language_info": {
   "codemirror_mode": {
    "name": "ipython",
    "version": 3
   },
   "file_extension": ".py",
   "mimetype": "text/x-python",
   "name": "python",
   "nbconvert_exporter": "python",
   "pygments_lexer": "ipython3",
   "version": "3.7.13"
  }
 },
 "nbformat": 4,
 "nbformat_minor": 5
}
