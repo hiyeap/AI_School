{
 "cells": [
  {
   "cell_type": "code",
   "execution_count": null,
   "id": "dba49c5c",
   "metadata": {},
   "outputs": [],
   "source": [
    "# 입력을 받는 부분에서 o1이 연산자1, o2가 연산자2, num이 연산자가 아닌 숫자 N\n",
    "s = input()\n",
    "\n",
    "o1 = s[0] # 연산자 1\n",
    "o2 = s[-1] # 연산자 2\n",
    "\n",
    "num = int(s[1:-1]) # 연산자가 아닌 숫자 부분\n",
    "\n",
    "N = int(s[1])\n",
    "\n",
    "# 1. 이 5의 배수이면 연산자1만 N번만큼 출력.\n",
    "# 2. 이 3의 배수이면 연산자2만 N번만큼 출력\n",
    "# 3. 만약 N이 3의 배수이면서 5의 배수이면 아무것도 출력하지 않는다.\n",
    "# 4. 이외의 경우에는 두 연산자를 각각 N회만큼 출력\n",
    "\n",
    "if N%5==0:\n",
    "    print(o1*N)\n",
    "elif N%3==0:\n",
    "    print(o2*N)\n",
    "elif N%5==0 & N%3==0:\n",
    "    pass\n",
    "else:\n",
    "    print(o1*N+o2*N)"
   ]
  }
 ],
 "metadata": {
  "kernelspec": {
   "display_name": "Python 3 (ipykernel)",
   "language": "python",
   "name": "python3"
  },
  "language_info": {
   "codemirror_mode": {
    "name": "ipython",
    "version": 3
   },
   "file_extension": ".py",
   "mimetype": "text/x-python",
   "name": "python",
   "nbconvert_exporter": "python",
   "pygments_lexer": "ipython3",
   "version": "3.9.7"
  }
 },
 "nbformat": 4,
 "nbformat_minor": 5
}
