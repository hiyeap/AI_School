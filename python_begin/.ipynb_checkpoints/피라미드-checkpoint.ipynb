{
 "cells": [
  {
   "cell_type": "code",
   "execution_count": 2,
   "id": "ef6e0067",
   "metadata": {},
   "outputs": [
    {
     "name": "stdout",
     "output_type": "stream",
     "text": [
      "5\n",
      "    *\n",
      "   ***\n",
      "  *****\n",
      " *******\n",
      "*********\n"
     ]
    }
   ],
   "source": [
    "def pyramid1(floor):\n",
    "    ''' 층을 입력하면 해당 층을 가진 피라미드를 출력하는 함수\n",
    "        pyramid를 작성해주세요.'''\n",
    "    star=1\n",
    "    starchar=\"*\"\n",
    "    blank=\" \"\n",
    "    blank_count = floor-1\n",
    "    for i in range(1,floor+1):\n",
    "        print(f\"{blank*blank_count}{starchar*star}\", end=\"\")\n",
    "        star+=2\n",
    "        blank_count-=1\n",
    "        print()\n",
    "\n",
    "# 정수를 입력받고 피라미드를 출력하는 부분입니다. 수정하지 마세요!\n",
    "var = int(input())\n",
    "pyramid1(var)\n"
   ]
  },
  {
   "cell_type": "code",
   "execution_count": 24,
   "id": "2b3010f0",
   "metadata": {},
   "outputs": [
    {
     "name": "stdout",
     "output_type": "stream",
     "text": [
      "8\n",
      "       *\n",
      "      * *\n",
      "     *   *\n",
      "    *     *\n",
      "   *       *\n",
      "  *         *\n",
      " *           *\n",
      "***************\n",
      "\n"
     ]
    }
   ],
   "source": [
    "def pyramid2(floor):\n",
    "\n",
    "    starchar=\"*\"\n",
    "    star_count = 1\n",
    "    blank=\" \"\n",
    "    center_blank = \" \"\n",
    "    center_blank_count = 1\n",
    "    blank_count = floor-1\n",
    "    for i in range(1,floor+1):\n",
    "        if i == 1:\n",
    "            print(f\"{blank*(blank_count)}{starchar}\", end=\"\")\n",
    "        elif i==floor:\n",
    "            print(f\"{starchar*star_count}\")\n",
    "        else:\n",
    "            print(f\"{blank*(blank_count-1)}{starchar}{center_blank*center_blank_count}{starchar}\", end=\"\")\n",
    "            blank_count-=1\n",
    "            center_blank_count +=2\n",
    "        print()\n",
    "        star_count += 2\n",
    "\n",
    "var = int(input())\n",
    "pyramid(var)"
   ]
  }
 ],
 "metadata": {
  "kernelspec": {
   "display_name": "Python 3 (ipykernel)",
   "language": "python",
   "name": "python3"
  },
  "language_info": {
   "codemirror_mode": {
    "name": "ipython",
    "version": 3
   },
   "file_extension": ".py",
   "mimetype": "text/x-python",
   "name": "python",
   "nbconvert_exporter": "python",
   "pygments_lexer": "ipython3",
   "version": "3.9.7"
  },
  "toc": {
   "base_numbering": 1,
   "nav_menu": {},
   "number_sections": true,
   "sideBar": true,
   "skip_h1_title": false,
   "title_cell": "Table of Contents",
   "title_sidebar": "Contents",
   "toc_cell": false,
   "toc_position": {},
   "toc_section_display": true,
   "toc_window_display": false
  }
 },
 "nbformat": 4,
 "nbformat_minor": 5
}
