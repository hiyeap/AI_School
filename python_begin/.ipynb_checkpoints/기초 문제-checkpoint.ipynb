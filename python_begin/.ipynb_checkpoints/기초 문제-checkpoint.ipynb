{
 "cells": [
  {
   "cell_type": "markdown",
   "id": "31f72db9",
   "metadata": {},
   "source": [
    "### 문제1 뒤죽박죽 덧셈\n",
    "- 입력 예시 +15*"
   ]
  },
  {
   "cell_type": "code",
   "execution_count": 1,
   "id": "dba49c5c",
   "metadata": {},
   "outputs": [
    {
     "name": "stdout",
     "output_type": "stream",
     "text": [
      "+15*\n"
     ]
    }
   ],
   "source": [
    "# 입력을 받는 부분에서 o1이 연산자1, o2가 연산자2, num이 연산자가 아닌 숫자 N\n",
    "s = input()\n",
    "\n",
    "o1 = s[0] # 연산자 1\n",
    "o2 = s[-1] # 연산자 2\n",
    "\n",
    "num = int(s[1:-1]) # 연산자가 아닌 숫자 부분\n",
    "\n",
    "# 1. 이 5의 배수이면 연산자1만 N번만큼 출력.\n",
    "# 2. 이 3의 배수이면 연산자2만 N번만큼 출력\n",
    "# 3. 만약 N이 3의 배수이면서 5의 배수이면 아무것도 출력하지 않는다.\n",
    "# 4. 이외의 경우에는 두 연산자를 각각 N회만큼 출력\n",
    "\n",
    "if num%5==0 and num%3==0:\n",
    "    pass\n",
    "elif num%5==0:\n",
    "    print(o1*num)\n",
    "elif num%3==0:\n",
    "    print(o2*num)\n",
    "else:\n",
    "    print(o1*num+o2*num)"
   ]
  },
  {
   "cell_type": "markdown",
   "id": "fc14cc4b",
   "metadata": {},
   "source": [
    "### 문제2 음식 궁합\n",
    "- 입력 예시 : 치즈 달걀"
   ]
  },
  {
   "cell_type": "code",
   "execution_count": 2,
   "id": "3deb28e8",
   "metadata": {},
   "outputs": [
    {
     "name": "stdout",
     "output_type": "stream",
     "text": [
      "치즈 달걀\n",
      "True\n"
     ]
    }
   ],
   "source": [
    "#여러 음식들을 공백을 기준으로 입력.\n",
    "food = input().split(\" \")\n",
    "\n",
    "#좋은 음식 궁합\n",
    "#치즈와 달걀, 고구마와 김치, 감자와 토마토\n",
    "#입력된 음식 리스트에 궁합이 좋은 두 음식이 하나라도 같이 있다면 True를 그렇지 않으면 False를 출력.\n",
    "if (\"치즈\" in food and \"달걀\" in food) or (\"고구마\" in food and \"김치\" in food) or (\"감자\" in food and '토마토' in food):\n",
    "    print(\"True\")\n",
    "else:\n",
    "    print(\"False\")"
   ]
  },
  {
   "cell_type": "markdown",
   "id": "d2488dd2",
   "metadata": {},
   "source": [
    "### 문제3 타격왕이 될 거야\n",
    "- 입력 예시 : 3 \\n 2\n",
    "- 출력 예시 : 4할 \\n 2푼 \\n 1리"
   ]
  },
  {
   "cell_type": "code",
   "execution_count": 3,
   "id": "fed47fe7",
   "metadata": {},
   "outputs": [
    {
     "name": "stdout",
     "output_type": "stream",
     "text": [
      "3\n",
      "2\n",
      "4할\n",
      "2푼\n",
      "1리\n"
     ]
    }
   ],
   "source": [
    "#0 이상의 정수인 타수와 안타를 입력받으세요.\n",
    "tasu = int(input())\n",
    "anta = int(input())\n",
    "#16타수 6안타인 상태에서 입력받은 타수와 안타를 더한 타율을 구하세요.\n",
    "anta = anta+6\n",
    "tasu = tasu+16\n",
    "tayul = int((anta/tasu)*1000)/1000\n",
    "hal = int(tayul*10)\n",
    "pun = int(tayul*100%10)\n",
    "li = int(tayul*1000%10)\n",
    "#구한 타율을 할푼리로 출력하세요. 할푼리 아래의 소수점은 모두 버림하며 값이 0인 경우 생략.\n",
    "if hal!=0:\n",
    "    print(str(hal)+\"할\")\n",
    "if pun!=0:\n",
    "    print(str(pun)+\"푼\")\n",
    "if li!=0:\n",
    "    print(str(li)+\"리\")"
   ]
  },
  {
   "cell_type": "markdown",
   "id": "94c52f61",
   "metadata": {},
   "source": [
    "### 문제4 한번에 여러 입력 받기2\n",
    "- map(function, iterable)\n",
    "- 첫 번째 매개변수로는 함수\n",
    "- 두 번째 매개변수로는 반복 가능한 자료형(리스트, 튜플 등)\n",
    "- map 함수의 반환 값은 map객체 이기 때문에 해당 자료형을 list 혹은 tuple로 형변환\n",
    "\n",
    "- 입력 예시 : 1 2 3 4 5\n",
    "- 출력 예시 : 3"
   ]
  },
  {
   "cell_type": "code",
   "execution_count": 4,
   "id": "87f3cb51",
   "metadata": {},
   "outputs": [
    {
     "name": "stdout",
     "output_type": "stream",
     "text": [
      "1 2 3 4 5\n",
      "3\n"
     ]
    }
   ],
   "source": [
    "# 공백을 기준으로 입력되는 숫자를 리스트에 저장.\n",
    "my_list = list(map(int, input().split()))\n",
    "# 리스트의 모든 수에 대한 평균을 출력. 단, 소수점 아래는 모두 버림.\n",
    "sum = 0\n",
    "for i in my_list:\n",
    "    sum += i\n",
    "avg = int(sum/len(my_list))\n",
    "print(avg)"
   ]
  },
  {
   "cell_type": "markdown",
   "id": "ffab8d60",
   "metadata": {},
   "source": [
    "### 문제5 피보나치 수열 출력하기\n",
    "- 입력 예시 : 5\n",
    "- 출력 예시 : [0, 1, 1, 2, 3] --->다음 항은 5인데 5미만이므로 해당되지 않음"
   ]
  },
  {
   "cell_type": "code",
   "execution_count": 5,
   "id": "6ead5be6",
   "metadata": {},
   "outputs": [
    {
     "name": "stdout",
     "output_type": "stream",
     "text": [
      "5\n",
      "[0, 1, 1, 2, 3]\n"
     ]
    }
   ],
   "source": [
    "# 피보나치 수열은 첫째 및 둘째 항이 1이며 그 뒤의 모든 항은 바로 앞 두 항의 합인 수열\n",
    "# 처음 여섯 항은 각각 1, 1, 2, 3, 5, 8. 편의상 0번째 항을 0으로 둔다.\n",
    "# 어떤 자연수 n을 입력받았을 때 피보나치 수열 내 가장 큰 수가 n 미만인 리스트를 출력\n",
    "\n",
    "n = int(input())\n",
    "\n",
    "pibo = [0,1]\n",
    "\n",
    "for i in range(0,n):\n",
    "    if n==1:\n",
    "        pibo.remove(pibo[-1])\n",
    "        break\n",
    "    if pibo[i]+pibo[i+1]>=n:\n",
    "        break\n",
    "    \n",
    "    pibo.append(pibo[i]+pibo[i+1])  \n",
    "print(pibo)"
   ]
  },
  {
   "cell_type": "code",
   "execution_count": null,
   "id": "f1318eb9",
   "metadata": {},
   "outputs": [],
   "source": []
  }
 ],
 "metadata": {
  "kernelspec": {
   "display_name": "Python 3 (ipykernel)",
   "language": "python",
   "name": "python3"
  },
  "language_info": {
   "codemirror_mode": {
    "name": "ipython",
    "version": 3
   },
   "file_extension": ".py",
   "mimetype": "text/x-python",
   "name": "python",
   "nbconvert_exporter": "python",
   "pygments_lexer": "ipython3",
   "version": "3.9.7"
  }
 },
 "nbformat": 4,
 "nbformat_minor": 5
}
