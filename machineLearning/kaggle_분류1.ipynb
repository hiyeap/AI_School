{
 "cells": [
  {
   "cell_type": "code",
   "execution_count": 53,
   "id": "262ae111",
   "metadata": {},
   "outputs": [
    {
     "data": {
      "text/html": [
       "<div>\n",
       "<style scoped>\n",
       "    .dataframe tbody tr th:only-of-type {\n",
       "        vertical-align: middle;\n",
       "    }\n",
       "\n",
       "    .dataframe tbody tr th {\n",
       "        vertical-align: top;\n",
       "    }\n",
       "\n",
       "    .dataframe thead th {\n",
       "        text-align: right;\n",
       "    }\n",
       "</style>\n",
       "<table border=\"1\" class=\"dataframe\">\n",
       "  <thead>\n",
       "    <tr style=\"text-align: right;\">\n",
       "      <th></th>\n",
       "      <th>age</th>\n",
       "      <th>workclass</th>\n",
       "      <th>fnlwgt</th>\n",
       "      <th>education</th>\n",
       "      <th>education-num</th>\n",
       "      <th>marital-status</th>\n",
       "      <th>occupation</th>\n",
       "      <th>relationship</th>\n",
       "      <th>race</th>\n",
       "      <th>sex</th>\n",
       "      <th>capital-gain</th>\n",
       "      <th>capital-loss</th>\n",
       "      <th>hours-per-week</th>\n",
       "      <th>native-country</th>\n",
       "      <th>income</th>\n",
       "    </tr>\n",
       "    <tr>\n",
       "      <th>no</th>\n",
       "      <th></th>\n",
       "      <th></th>\n",
       "      <th></th>\n",
       "      <th></th>\n",
       "      <th></th>\n",
       "      <th></th>\n",
       "      <th></th>\n",
       "      <th></th>\n",
       "      <th></th>\n",
       "      <th></th>\n",
       "      <th></th>\n",
       "      <th></th>\n",
       "      <th></th>\n",
       "      <th></th>\n",
       "      <th></th>\n",
       "    </tr>\n",
       "  </thead>\n",
       "  <tbody>\n",
       "    <tr>\n",
       "      <th>1</th>\n",
       "      <td>25</td>\n",
       "      <td>Private</td>\n",
       "      <td>219199</td>\n",
       "      <td>11th</td>\n",
       "      <td>7</td>\n",
       "      <td>Divorced</td>\n",
       "      <td>Machine-op-inspct</td>\n",
       "      <td>Not-in-family</td>\n",
       "      <td>White</td>\n",
       "      <td>Male</td>\n",
       "      <td>0</td>\n",
       "      <td>0</td>\n",
       "      <td>40</td>\n",
       "      <td>United-States</td>\n",
       "      <td>0</td>\n",
       "    </tr>\n",
       "    <tr>\n",
       "      <th>2</th>\n",
       "      <td>39</td>\n",
       "      <td>Private</td>\n",
       "      <td>52978</td>\n",
       "      <td>Some-college</td>\n",
       "      <td>10</td>\n",
       "      <td>Divorced</td>\n",
       "      <td>Other-service</td>\n",
       "      <td>Not-in-family</td>\n",
       "      <td>White</td>\n",
       "      <td>Female</td>\n",
       "      <td>0</td>\n",
       "      <td>1721</td>\n",
       "      <td>55</td>\n",
       "      <td>United-States</td>\n",
       "      <td>0</td>\n",
       "    </tr>\n",
       "    <tr>\n",
       "      <th>3</th>\n",
       "      <td>35</td>\n",
       "      <td>Private</td>\n",
       "      <td>196899</td>\n",
       "      <td>Bachelors</td>\n",
       "      <td>13</td>\n",
       "      <td>Never-married</td>\n",
       "      <td>Handlers-cleaners</td>\n",
       "      <td>Not-in-family</td>\n",
       "      <td>Asian-Pac-Islander</td>\n",
       "      <td>Female</td>\n",
       "      <td>0</td>\n",
       "      <td>0</td>\n",
       "      <td>50</td>\n",
       "      <td>Haiti</td>\n",
       "      <td>0</td>\n",
       "    </tr>\n",
       "    <tr>\n",
       "      <th>4</th>\n",
       "      <td>64</td>\n",
       "      <td>Private</td>\n",
       "      <td>135527</td>\n",
       "      <td>Assoc-voc</td>\n",
       "      <td>11</td>\n",
       "      <td>Divorced</td>\n",
       "      <td>Tech-support</td>\n",
       "      <td>Not-in-family</td>\n",
       "      <td>White</td>\n",
       "      <td>Female</td>\n",
       "      <td>0</td>\n",
       "      <td>0</td>\n",
       "      <td>40</td>\n",
       "      <td>United-States</td>\n",
       "      <td>0</td>\n",
       "    </tr>\n",
       "    <tr>\n",
       "      <th>5</th>\n",
       "      <td>24</td>\n",
       "      <td>Private</td>\n",
       "      <td>60783</td>\n",
       "      <td>Some-college</td>\n",
       "      <td>10</td>\n",
       "      <td>Married-civ-spouse</td>\n",
       "      <td>Transport-moving</td>\n",
       "      <td>Husband</td>\n",
       "      <td>White</td>\n",
       "      <td>Male</td>\n",
       "      <td>0</td>\n",
       "      <td>0</td>\n",
       "      <td>70</td>\n",
       "      <td>United-States</td>\n",
       "      <td>1</td>\n",
       "    </tr>\n",
       "    <tr>\n",
       "      <th>...</th>\n",
       "      <td>...</td>\n",
       "      <td>...</td>\n",
       "      <td>...</td>\n",
       "      <td>...</td>\n",
       "      <td>...</td>\n",
       "      <td>...</td>\n",
       "      <td>...</td>\n",
       "      <td>...</td>\n",
       "      <td>...</td>\n",
       "      <td>...</td>\n",
       "      <td>...</td>\n",
       "      <td>...</td>\n",
       "      <td>...</td>\n",
       "      <td>...</td>\n",
       "      <td>...</td>\n",
       "    </tr>\n",
       "    <tr>\n",
       "      <th>29301</th>\n",
       "      <td>20</td>\n",
       "      <td>Private</td>\n",
       "      <td>100605</td>\n",
       "      <td>HS-grad</td>\n",
       "      <td>9</td>\n",
       "      <td>Never-married</td>\n",
       "      <td>Sales</td>\n",
       "      <td>Own-child</td>\n",
       "      <td>Other</td>\n",
       "      <td>Male</td>\n",
       "      <td>0</td>\n",
       "      <td>0</td>\n",
       "      <td>40</td>\n",
       "      <td>Puerto-Rico</td>\n",
       "      <td>0</td>\n",
       "    </tr>\n",
       "    <tr>\n",
       "      <th>29302</th>\n",
       "      <td>21</td>\n",
       "      <td>Private</td>\n",
       "      <td>372636</td>\n",
       "      <td>HS-grad</td>\n",
       "      <td>9</td>\n",
       "      <td>Never-married</td>\n",
       "      <td>Sales</td>\n",
       "      <td>Own-child</td>\n",
       "      <td>Black</td>\n",
       "      <td>Male</td>\n",
       "      <td>0</td>\n",
       "      <td>0</td>\n",
       "      <td>40</td>\n",
       "      <td>United-States</td>\n",
       "      <td>0</td>\n",
       "    </tr>\n",
       "    <tr>\n",
       "      <th>29303</th>\n",
       "      <td>18</td>\n",
       "      <td>Self-emp-not-inc</td>\n",
       "      <td>258474</td>\n",
       "      <td>10th</td>\n",
       "      <td>6</td>\n",
       "      <td>Never-married</td>\n",
       "      <td>Farming-fishing</td>\n",
       "      <td>Own-child</td>\n",
       "      <td>White</td>\n",
       "      <td>Male</td>\n",
       "      <td>0</td>\n",
       "      <td>0</td>\n",
       "      <td>40</td>\n",
       "      <td>United-States</td>\n",
       "      <td>0</td>\n",
       "    </tr>\n",
       "    <tr>\n",
       "      <th>29304</th>\n",
       "      <td>33</td>\n",
       "      <td>Private</td>\n",
       "      <td>157446</td>\n",
       "      <td>11th</td>\n",
       "      <td>7</td>\n",
       "      <td>Never-married</td>\n",
       "      <td>Craft-repair</td>\n",
       "      <td>Not-in-family</td>\n",
       "      <td>White</td>\n",
       "      <td>Male</td>\n",
       "      <td>0</td>\n",
       "      <td>0</td>\n",
       "      <td>65</td>\n",
       "      <td>United-States</td>\n",
       "      <td>0</td>\n",
       "    </tr>\n",
       "    <tr>\n",
       "      <th>29305</th>\n",
       "      <td>65</td>\n",
       "      <td>?</td>\n",
       "      <td>94809</td>\n",
       "      <td>HS-grad</td>\n",
       "      <td>9</td>\n",
       "      <td>Widowed</td>\n",
       "      <td>?</td>\n",
       "      <td>Not-in-family</td>\n",
       "      <td>White</td>\n",
       "      <td>Female</td>\n",
       "      <td>0</td>\n",
       "      <td>0</td>\n",
       "      <td>40</td>\n",
       "      <td>United-States</td>\n",
       "      <td>0</td>\n",
       "    </tr>\n",
       "  </tbody>\n",
       "</table>\n",
       "<p>29305 rows × 15 columns</p>\n",
       "</div>"
      ],
      "text/plain": [
       "       age          workclass  fnlwgt      education  education-num  \\\n",
       "no                                                                    \n",
       "1       25            Private  219199           11th              7   \n",
       "2       39            Private   52978   Some-college             10   \n",
       "3       35            Private  196899      Bachelors             13   \n",
       "4       64            Private  135527      Assoc-voc             11   \n",
       "5       24            Private   60783   Some-college             10   \n",
       "...    ...                ...     ...            ...            ...   \n",
       "29301   20            Private  100605        HS-grad              9   \n",
       "29302   21            Private  372636        HS-grad              9   \n",
       "29303   18   Self-emp-not-inc  258474           10th              6   \n",
       "29304   33            Private  157446           11th              7   \n",
       "29305   65                  ?   94809        HS-grad              9   \n",
       "\n",
       "            marital-status          occupation    relationship  \\\n",
       "no                                                               \n",
       "1                 Divorced   Machine-op-inspct   Not-in-family   \n",
       "2                 Divorced       Other-service   Not-in-family   \n",
       "3            Never-married   Handlers-cleaners   Not-in-family   \n",
       "4                 Divorced        Tech-support   Not-in-family   \n",
       "5       Married-civ-spouse    Transport-moving         Husband   \n",
       "...                    ...                 ...             ...   \n",
       "29301        Never-married               Sales       Own-child   \n",
       "29302        Never-married               Sales       Own-child   \n",
       "29303        Never-married     Farming-fishing       Own-child   \n",
       "29304        Never-married        Craft-repair   Not-in-family   \n",
       "29305              Widowed                   ?   Not-in-family   \n",
       "\n",
       "                      race      sex  capital-gain  capital-loss  \\\n",
       "no                                                                \n",
       "1                    White     Male             0             0   \n",
       "2                    White   Female             0          1721   \n",
       "3       Asian-Pac-Islander   Female             0             0   \n",
       "4                    White   Female             0             0   \n",
       "5                    White     Male             0             0   \n",
       "...                    ...      ...           ...           ...   \n",
       "29301                Other     Male             0             0   \n",
       "29302                Black     Male             0             0   \n",
       "29303                White     Male             0             0   \n",
       "29304                White     Male             0             0   \n",
       "29305                White   Female             0             0   \n",
       "\n",
       "       hours-per-week  native-country  income  \n",
       "no                                             \n",
       "1                  40   United-States       0  \n",
       "2                  55   United-States       0  \n",
       "3                  50           Haiti       0  \n",
       "4                  40   United-States       0  \n",
       "5                  70   United-States       1  \n",
       "...               ...             ...     ...  \n",
       "29301              40     Puerto-Rico       0  \n",
       "29302              40   United-States       0  \n",
       "29303              40   United-States       0  \n",
       "29304              65   United-States       0  \n",
       "29305              40   United-States       0  \n",
       "\n",
       "[29305 rows x 15 columns]"
      ]
     },
     "execution_count": 53,
     "metadata": {},
     "output_type": "execute_result"
    }
   ],
   "source": [
    "import pandas as pd\n",
    "train = pd.read_csv(\"./classification220718/train.csv\", index_col=\"no\")\n",
    "test = pd.read_csv(\"./classification220718/test.csv\", index_col=\"no\")\n",
    "train"
   ]
  },
  {
   "cell_type": "code",
   "execution_count": 55,
   "id": "cb6a9fc9",
   "metadata": {},
   "outputs": [],
   "source": [
    "train['workdclass'] =train['workclass'].iloc[1].strip()"
   ]
  },
  {
   "cell_type": "code",
   "execution_count": null,
   "id": "aacf3c36",
   "metadata": {},
   "outputs": [],
   "source": [
    "train['workdclass']"
   ]
  },
  {
   "cell_type": "code",
   "execution_count": 2,
   "id": "a1e80576",
   "metadata": {},
   "outputs": [
    {
     "name": "stdout",
     "output_type": "stream",
     "text": [
      "<class 'pandas.core.frame.DataFrame'>\n",
      "Int64Index: 29305 entries, 1 to 29305\n",
      "Data columns (total 15 columns):\n",
      " #   Column          Non-Null Count  Dtype \n",
      "---  ------          --------------  ----- \n",
      " 0   age             29305 non-null  int64 \n",
      " 1   workclass       29305 non-null  object\n",
      " 2   fnlwgt          29305 non-null  int64 \n",
      " 3   education       29305 non-null  object\n",
      " 4   education-num   29305 non-null  int64 \n",
      " 5   marital-status  29305 non-null  object\n",
      " 6   occupation      29305 non-null  object\n",
      " 7   relationship    29305 non-null  object\n",
      " 8   race            29305 non-null  object\n",
      " 9   sex             29305 non-null  object\n",
      " 10  capital-gain    29305 non-null  int64 \n",
      " 11  capital-loss    29305 non-null  int64 \n",
      " 12  hours-per-week  29305 non-null  int64 \n",
      " 13  native-country  29305 non-null  object\n",
      " 14  income          29305 non-null  int64 \n",
      "dtypes: int64(7), object(8)\n",
      "memory usage: 3.6+ MB\n"
     ]
    }
   ],
   "source": [
    "train.info()"
   ]
  },
  {
   "cell_type": "code",
   "execution_count": 3,
   "id": "890aabc4",
   "metadata": {},
   "outputs": [
    {
     "data": {
      "text/html": [
       "<div>\n",
       "<style scoped>\n",
       "    .dataframe tbody tr th:only-of-type {\n",
       "        vertical-align: middle;\n",
       "    }\n",
       "\n",
       "    .dataframe tbody tr th {\n",
       "        vertical-align: top;\n",
       "    }\n",
       "\n",
       "    .dataframe thead th {\n",
       "        text-align: right;\n",
       "    }\n",
       "</style>\n",
       "<table border=\"1\" class=\"dataframe\">\n",
       "  <thead>\n",
       "    <tr style=\"text-align: right;\">\n",
       "      <th></th>\n",
       "      <th>age</th>\n",
       "      <th>fnlwgt</th>\n",
       "      <th>education-num</th>\n",
       "      <th>capital-gain</th>\n",
       "      <th>capital-loss</th>\n",
       "      <th>hours-per-week</th>\n",
       "      <th>income</th>\n",
       "    </tr>\n",
       "  </thead>\n",
       "  <tbody>\n",
       "    <tr>\n",
       "      <th>age</th>\n",
       "      <td>1.000000</td>\n",
       "      <td>-0.075753</td>\n",
       "      <td>0.035084</td>\n",
       "      <td>0.078498</td>\n",
       "      <td>0.054413</td>\n",
       "      <td>0.073100</td>\n",
       "      <td>0.238460</td>\n",
       "    </tr>\n",
       "    <tr>\n",
       "      <th>fnlwgt</th>\n",
       "      <td>-0.075753</td>\n",
       "      <td>1.000000</td>\n",
       "      <td>-0.030600</td>\n",
       "      <td>-0.005051</td>\n",
       "      <td>-0.001513</td>\n",
       "      <td>-0.010154</td>\n",
       "      <td>-0.002994</td>\n",
       "    </tr>\n",
       "    <tr>\n",
       "      <th>education-num</th>\n",
       "      <td>0.035084</td>\n",
       "      <td>-0.030600</td>\n",
       "      <td>1.000000</td>\n",
       "      <td>0.127651</td>\n",
       "      <td>0.083925</td>\n",
       "      <td>0.147569</td>\n",
       "      <td>0.331798</td>\n",
       "    </tr>\n",
       "    <tr>\n",
       "      <th>capital-gain</th>\n",
       "      <td>0.078498</td>\n",
       "      <td>-0.005051</td>\n",
       "      <td>0.127651</td>\n",
       "      <td>1.000000</td>\n",
       "      <td>-0.031401</td>\n",
       "      <td>0.088609</td>\n",
       "      <td>0.221387</td>\n",
       "    </tr>\n",
       "    <tr>\n",
       "      <th>capital-loss</th>\n",
       "      <td>0.054413</td>\n",
       "      <td>-0.001513</td>\n",
       "      <td>0.083925</td>\n",
       "      <td>-0.031401</td>\n",
       "      <td>1.000000</td>\n",
       "      <td>0.055271</td>\n",
       "      <td>0.135645</td>\n",
       "    </tr>\n",
       "    <tr>\n",
       "      <th>hours-per-week</th>\n",
       "      <td>0.073100</td>\n",
       "      <td>-0.010154</td>\n",
       "      <td>0.147569</td>\n",
       "      <td>0.088609</td>\n",
       "      <td>0.055271</td>\n",
       "      <td>1.000000</td>\n",
       "      <td>0.231045</td>\n",
       "    </tr>\n",
       "    <tr>\n",
       "      <th>income</th>\n",
       "      <td>0.238460</td>\n",
       "      <td>-0.002994</td>\n",
       "      <td>0.331798</td>\n",
       "      <td>0.221387</td>\n",
       "      <td>0.135645</td>\n",
       "      <td>0.231045</td>\n",
       "      <td>1.000000</td>\n",
       "    </tr>\n",
       "  </tbody>\n",
       "</table>\n",
       "</div>"
      ],
      "text/plain": [
       "                     age    fnlwgt  education-num  capital-gain  capital-loss  \\\n",
       "age             1.000000 -0.075753       0.035084      0.078498      0.054413   \n",
       "fnlwgt         -0.075753  1.000000      -0.030600     -0.005051     -0.001513   \n",
       "education-num   0.035084 -0.030600       1.000000      0.127651      0.083925   \n",
       "capital-gain    0.078498 -0.005051       0.127651      1.000000     -0.031401   \n",
       "capital-loss    0.054413 -0.001513       0.083925     -0.031401      1.000000   \n",
       "hours-per-week  0.073100 -0.010154       0.147569      0.088609      0.055271   \n",
       "income          0.238460 -0.002994       0.331798      0.221387      0.135645   \n",
       "\n",
       "                hours-per-week    income  \n",
       "age                   0.073100  0.238460  \n",
       "fnlwgt               -0.010154 -0.002994  \n",
       "education-num         0.147569  0.331798  \n",
       "capital-gain          0.088609  0.221387  \n",
       "capital-loss          0.055271  0.135645  \n",
       "hours-per-week        1.000000  0.231045  \n",
       "income                0.231045  1.000000  "
      ]
     },
     "execution_count": 3,
     "metadata": {},
     "output_type": "execute_result"
    }
   ],
   "source": [
    "train.corr()"
   ]
  },
  {
   "cell_type": "code",
   "execution_count": 4,
   "id": "5e5d73f0",
   "metadata": {},
   "outputs": [
    {
     "data": {
      "text/html": [
       "<div>\n",
       "<style scoped>\n",
       "    .dataframe tbody tr th:only-of-type {\n",
       "        vertical-align: middle;\n",
       "    }\n",
       "\n",
       "    .dataframe tbody tr th {\n",
       "        vertical-align: top;\n",
       "    }\n",
       "\n",
       "    .dataframe thead th {\n",
       "        text-align: right;\n",
       "    }\n",
       "</style>\n",
       "<table border=\"1\" class=\"dataframe\">\n",
       "  <thead>\n",
       "    <tr style=\"text-align: right;\">\n",
       "      <th></th>\n",
       "      <th>age</th>\n",
       "      <th>fnlwgt</th>\n",
       "      <th>education-num</th>\n",
       "      <th>capital-gain</th>\n",
       "      <th>capital-loss</th>\n",
       "      <th>hours-per-week</th>\n",
       "      <th>income</th>\n",
       "    </tr>\n",
       "  </thead>\n",
       "  <tbody>\n",
       "    <tr>\n",
       "      <th>count</th>\n",
       "      <td>29305.000000</td>\n",
       "      <td>2.930500e+04</td>\n",
       "      <td>29305.000000</td>\n",
       "      <td>29305.000000</td>\n",
       "      <td>29305.000000</td>\n",
       "      <td>29305.000000</td>\n",
       "      <td>29305.000000</td>\n",
       "    </tr>\n",
       "    <tr>\n",
       "      <th>mean</th>\n",
       "      <td>38.659171</td>\n",
       "      <td>1.897357e+05</td>\n",
       "      <td>10.083057</td>\n",
       "      <td>1084.531786</td>\n",
       "      <td>87.073571</td>\n",
       "      <td>40.440096</td>\n",
       "      <td>0.240403</td>\n",
       "    </tr>\n",
       "    <tr>\n",
       "      <th>std</th>\n",
       "      <td>13.743827</td>\n",
       "      <td>1.056348e+05</td>\n",
       "      <td>2.570371</td>\n",
       "      <td>7495.715677</td>\n",
       "      <td>401.225580</td>\n",
       "      <td>12.332840</td>\n",
       "      <td>0.427335</td>\n",
       "    </tr>\n",
       "    <tr>\n",
       "      <th>min</th>\n",
       "      <td>17.000000</td>\n",
       "      <td>1.376900e+04</td>\n",
       "      <td>1.000000</td>\n",
       "      <td>0.000000</td>\n",
       "      <td>0.000000</td>\n",
       "      <td>1.000000</td>\n",
       "      <td>0.000000</td>\n",
       "    </tr>\n",
       "    <tr>\n",
       "      <th>25%</th>\n",
       "      <td>28.000000</td>\n",
       "      <td>1.176060e+05</td>\n",
       "      <td>9.000000</td>\n",
       "      <td>0.000000</td>\n",
       "      <td>0.000000</td>\n",
       "      <td>40.000000</td>\n",
       "      <td>0.000000</td>\n",
       "    </tr>\n",
       "    <tr>\n",
       "      <th>50%</th>\n",
       "      <td>37.000000</td>\n",
       "      <td>1.779550e+05</td>\n",
       "      <td>10.000000</td>\n",
       "      <td>0.000000</td>\n",
       "      <td>0.000000</td>\n",
       "      <td>40.000000</td>\n",
       "      <td>0.000000</td>\n",
       "    </tr>\n",
       "    <tr>\n",
       "      <th>75%</th>\n",
       "      <td>48.000000</td>\n",
       "      <td>2.377130e+05</td>\n",
       "      <td>12.000000</td>\n",
       "      <td>0.000000</td>\n",
       "      <td>0.000000</td>\n",
       "      <td>45.000000</td>\n",
       "      <td>0.000000</td>\n",
       "    </tr>\n",
       "    <tr>\n",
       "      <th>max</th>\n",
       "      <td>90.000000</td>\n",
       "      <td>1.490400e+06</td>\n",
       "      <td>16.000000</td>\n",
       "      <td>99999.000000</td>\n",
       "      <td>4356.000000</td>\n",
       "      <td>99.000000</td>\n",
       "      <td>1.000000</td>\n",
       "    </tr>\n",
       "  </tbody>\n",
       "</table>\n",
       "</div>"
      ],
      "text/plain": [
       "                age        fnlwgt  education-num  capital-gain  capital-loss  \\\n",
       "count  29305.000000  2.930500e+04   29305.000000  29305.000000  29305.000000   \n",
       "mean      38.659171  1.897357e+05      10.083057   1084.531786     87.073571   \n",
       "std       13.743827  1.056348e+05       2.570371   7495.715677    401.225580   \n",
       "min       17.000000  1.376900e+04       1.000000      0.000000      0.000000   \n",
       "25%       28.000000  1.176060e+05       9.000000      0.000000      0.000000   \n",
       "50%       37.000000  1.779550e+05      10.000000      0.000000      0.000000   \n",
       "75%       48.000000  2.377130e+05      12.000000      0.000000      0.000000   \n",
       "max       90.000000  1.490400e+06      16.000000  99999.000000   4356.000000   \n",
       "\n",
       "       hours-per-week        income  \n",
       "count    29305.000000  29305.000000  \n",
       "mean        40.440096      0.240403  \n",
       "std         12.332840      0.427335  \n",
       "min          1.000000      0.000000  \n",
       "25%         40.000000      0.000000  \n",
       "50%         40.000000      0.000000  \n",
       "75%         45.000000      0.000000  \n",
       "max         99.000000      1.000000  "
      ]
     },
     "execution_count": 4,
     "metadata": {},
     "output_type": "execute_result"
    }
   ],
   "source": [
    "train.describe()"
   ]
  },
  {
   "cell_type": "markdown",
   "id": "5cfd956f",
   "metadata": {},
   "source": [
    "### train과 test 데이터에 ? 있는 컬럼 : native-country, occupation, workclass\n",
    "### - strip필요 (object Dtype)"
   ]
  },
  {
   "cell_type": "code",
   "execution_count": 5,
   "id": "db92f629",
   "metadata": {},
   "outputs": [
    {
     "data": {
      "text/plain": [
       "Index(['age', 'workclass', 'fnlwgt', 'education', 'education-num',\n",
       "       'marital-status', 'occupation', 'relationship', 'race', 'sex',\n",
       "       'capital-gain', 'capital-loss', 'hours-per-week', 'native-country',\n",
       "       'income'],\n",
       "      dtype='object')"
      ]
     },
     "execution_count": 5,
     "metadata": {},
     "output_type": "execute_result"
    }
   ],
   "source": [
    "train.columns"
   ]
  },
  {
   "cell_type": "code",
   "execution_count": 6,
   "id": "e39a47b6",
   "metadata": {},
   "outputs": [
    {
     "data": {
      "text/plain": [
       "array([' Private', ' Self-emp-not-inc', ' Local-gov', ' ?', ' State-gov',\n",
       "       ' Self-emp-inc', ' Federal-gov', ' Without-pay', ' Never-worked'],\n",
       "      dtype=object)"
      ]
     },
     "execution_count": 6,
     "metadata": {},
     "output_type": "execute_result"
    }
   ],
   "source": [
    "train['workclass'].unique()"
   ]
  },
  {
   "cell_type": "code",
   "execution_count": 7,
   "id": "87386c93",
   "metadata": {},
   "outputs": [],
   "source": [
    "train['workclass'] = train['workclass'].replace(' Private', 'Private')\n",
    "train['workclass'] = train['workclass'].replace(' Self-emp-not-inc', 'Self-emp-not-inc')\n",
    "train['workclass'] = train['workclass'].replace(' Local-gov', 'Local-gov')\n",
    "train['workclass'] = train['workclass'].replace(' ?', 'Private')\n",
    "train['workclass'] = train['workclass'].replace(' State-gov', 'State-gov')\n",
    "train['workclass'] = train['workclass'].replace(' Self-emp-inc', 'Self-emp-inc')\n",
    "train['workclass'] = train['workclass'].replace(' Federal-gov', 'Federal-gov')\n",
    "train['workclass'] = train['workclass'].replace(' Without-pay', 'Without-pay')\n",
    "train['workclass'] = train['workclass'].replace(' Never-worked', 'Never-worked')\n",
    "\n",
    "test['workclass'] = test['workclass'].replace(' Private', 'Private')\n",
    "test['workclass'] = test['workclass'].replace(' Self-emp-not-inc', 'Self-emp-not-inc')\n",
    "test['workclass'] = test['workclass'].replace(' Local-gov', 'Local-gov')\n",
    "test['workclass'] = test['workclass'].replace(' ?', 'Private')\n",
    "test['workclass'] = test['workclass'].replace(' State-gov', 'State-gov')\n",
    "test['workclass'] = test['workclass'].replace(' Self-emp-inc', 'Self-emp-inc')\n",
    "test['workclass'] = test['workclass'].replace(' Federal-gov', 'Federal-gov')\n",
    "test['workclass'] = test['workclass'].replace(' Without-pay', 'Without-pay')\n",
    "test['workclass'] = test['workclass'].replace(' Never-worked', 'Never-worked')"
   ]
  },
  {
   "cell_type": "code",
   "execution_count": 8,
   "id": "ff0bfa68",
   "metadata": {},
   "outputs": [
    {
     "data": {
      "text/plain": [
       "array([' United-States', ' Haiti', ' Mexico', ' Puerto-Rico',\n",
       "       ' Philippines', ' ?', ' Germany', ' Peru', ' Ecuador', ' Iran',\n",
       "       ' Thailand', ' Dominican-Republic', ' Poland', ' Scotland',\n",
       "       ' Italy', ' Jamaica', ' China', ' Portugal', ' Columbia',\n",
       "       ' Hungary', ' Vietnam', ' Taiwan', ' Canada', ' Hong',\n",
       "       ' Guatemala', ' El-Salvador', ' England',\n",
       "       ' Outlying-US(Guam-USVI-etc)', ' India', ' France', ' Cuba',\n",
       "       ' Greece', ' Trinadad&Tobago', ' South', ' Japan', ' Yugoslavia',\n",
       "       ' Nicaragua', ' Ireland', ' Cambodia', ' Laos', ' Honduras',\n",
       "       ' Holand-Netherlands'], dtype=object)"
      ]
     },
     "execution_count": 8,
     "metadata": {},
     "output_type": "execute_result"
    }
   ],
   "source": [
    "train['native-country'].unique()"
   ]
  },
  {
   "cell_type": "code",
   "execution_count": 9,
   "id": "1c6a19e2",
   "metadata": {},
   "outputs": [],
   "source": [
    "train['native-country'] = train['native-country'].replace(' United-States', 'United-States')\n",
    "test['native-country'] = test['native-country'].replace(' United-States', 'United-States')"
   ]
  },
  {
   "cell_type": "code",
   "execution_count": 10,
   "id": "185a001a",
   "metadata": {},
   "outputs": [
    {
     "data": {
      "text/plain": [
       "array([' Machine-op-inspct', ' Other-service', ' Handlers-cleaners',\n",
       "       ' Tech-support', ' Transport-moving', ' Farming-fishing',\n",
       "       ' Prof-specialty', ' Priv-house-serv', ' Adm-clerical',\n",
       "       ' Protective-serv', ' Exec-managerial', ' ?', ' Craft-repair',\n",
       "       ' Sales', ' Armed-Forces'], dtype=object)"
      ]
     },
     "execution_count": 10,
     "metadata": {},
     "output_type": "execute_result"
    }
   ],
   "source": [
    "train['occupation'].unique()"
   ]
  },
  {
   "cell_type": "code",
   "execution_count": 11,
   "id": "759f61ed",
   "metadata": {
    "scrolled": true
   },
   "outputs": [
    {
     "data": {
      "text/plain": [
       "<AxesSubplot:xlabel='age', ylabel='count'>"
      ]
     },
     "execution_count": 11,
     "metadata": {},
     "output_type": "execute_result"
    },
    {
     "data": {
      "image/png": "[encoded data removed]",
      "text/plain": [
       "<Figure size 1080x576 with 1 Axes>"
      ]
     },
     "metadata": {},
     "output_type": "display_data"
    }
   ],
   "source": [
    "# age, income 시각화\n",
    "import seaborn as sns\n",
    "sns.set(rc = {'figure.figsize':(15,8)})\n",
    "sns.countplot(data=train, x='age', hue = 'income')"
   ]
  },
  {
   "cell_type": "code",
   "execution_count": 12,
   "id": "119dacf5",
   "metadata": {},
   "outputs": [
    {
     "data": {
      "text/plain": [
       "<AxesSubplot:xlabel='age', ylabel='count'>"
      ]
     },
     "execution_count": 12,
     "metadata": {},
     "output_type": "execute_result"
    },
    {
     "data": {
      "image/png": "[encoded data removed]",
      "text/plain": [
       "<Figure size 1080x576 with 1 Axes>"
      ]
     },
     "metadata": {},
     "output_type": "display_data"
    }
   ],
   "source": [
    "# age의 구간을 나눠보자\n",
    "bins = [15,20,25,30,35,40,45,50,55,60,65,70,100]\n",
    "labels = ['16-20','21-25','26-30','31-35','36-40','41-45','46-50','51-55','56-60','61-65','66-70','77-']\n",
    "train['age']=pd.cut(train['age'], bins= bins, labels = labels)\n",
    "sns.countplot(data=train, x='age', hue='income')"
   ]
  },
  {
   "cell_type": "code",
   "execution_count": 13,
   "id": "285e67fe",
   "metadata": {},
   "outputs": [],
   "source": [
    "bins = [15,20,25,30,35,40,45,50,55,60,65,70,100]\n",
    "labels = ['16-20','21-25','26-30','31-35','36-40','41-45','46-50','51-55','56-60','61-65','66-70','77-']\n",
    "test['age']=pd.cut(test['age'], bins= bins, labels = labels)"
   ]
  },
  {
   "cell_type": "code",
   "execution_count": 14,
   "id": "4af305f4",
   "metadata": {},
   "outputs": [
    {
     "data": {
      "text/plain": [
       "31-35    4020\n",
       "36-40    3730\n",
       "21-25    3657\n",
       "26-30    3629\n",
       "41-45    3354\n",
       "46-50    2840\n",
       "16-20    2162\n",
       "51-55    2133\n",
       "56-60    1592\n",
       "61-65    1084\n",
       "66-70     571\n",
       "77-       533\n",
       "Name: age, dtype: int64"
      ]
     },
     "execution_count": 14,
     "metadata": {},
     "output_type": "execute_result"
    }
   ],
   "source": [
    "train['age'].value_counts()"
   ]
  },
  {
   "cell_type": "code",
   "execution_count": 15,
   "id": "959f7bd6",
   "metadata": {},
   "outputs": [
    {
     "data": {
      "text/plain": [
       "<AxesSubplot:xlabel='workclass', ylabel='count'>"
      ]
     },
     "execution_count": 15,
     "metadata": {},
     "output_type": "execute_result"
    },
    {
     "data": {
      "image/png": "[encoded data removed]",
      "text/plain": [
       "<Figure size 1080x576 with 1 Axes>"
      ]
     },
     "metadata": {},
     "output_type": "display_data"
    }
   ],
   "source": [
    "sns.set(rc = {'figure.figsize':(15,8)})\n",
    "sns.countplot(data=train, x='workclass', hue ='income')"
   ]
  },
  {
   "cell_type": "code",
   "execution_count": 16,
   "id": "264b0a7d",
   "metadata": {
    "scrolled": true
   },
   "outputs": [
    {
     "data": {
      "text/plain": [
       "<AxesSubplot:xlabel='native-country', ylabel='count'>"
      ]
     },
     "execution_count": 16,
     "metadata": {},
     "output_type": "execute_result"
    },
    {
     "data": {
      "image/png": "[encoded data removed]",
      "text/plain": [
       "<Figure size 1080x576 with 1 Axes>"
      ]
     },
     "metadata": {},
     "output_type": "display_data"
    }
   ],
   "source": [
    "sns.set(rc = {'figure.figsize':(15,8)})\n",
    "sns.countplot(data=train, x='native-country', hue ='income')"
   ]
  },
  {
   "cell_type": "code",
   "execution_count": 17,
   "id": "6c3c990c",
   "metadata": {},
   "outputs": [],
   "source": [
    "# native-country 컬럼의 US 제외 나머지 컬럼을 Other로 변경\n",
    "country = {\"United-States\":\"United-States\"}\n",
    "country_mapping = train['native-country'].map(country)\n",
    "country_mapping[country_mapping.isnull()]\n",
    "train[\"native-country\"] = country_mapping.fillna(\"Other\")"
   ]
  },
  {
   "cell_type": "code",
   "execution_count": 18,
   "id": "4dc2732e",
   "metadata": {},
   "outputs": [
    {
     "data": {
      "text/plain": [
       "array(['United-States', 'Other'], dtype=object)"
      ]
     },
     "execution_count": 18,
     "metadata": {},
     "output_type": "execute_result"
    }
   ],
   "source": [
    "train['native-country'].unique()"
   ]
  },
  {
   "cell_type": "code",
   "execution_count": 19,
   "id": "90c6a754",
   "metadata": {},
   "outputs": [
    {
     "data": {
      "text/plain": [
       "<AxesSubplot:xlabel='native-country', ylabel='count'>"
      ]
     },
     "execution_count": 19,
     "metadata": {},
     "output_type": "execute_result"
    },
    {
     "data": {
      "image/png": "[encoded data removed]",
      "text/plain": [
       "<Figure size 1080x576 with 1 Axes>"
      ]
     },
     "metadata": {},
     "output_type": "display_data"
    }
   ],
   "source": [
    "sns.set(rc = {'figure.figsize':(15,8)})\n",
    "sns.countplot(data=train, x='native-country', hue ='income')"
   ]
  },
  {
   "cell_type": "code",
   "execution_count": 20,
   "id": "7c4768f0",
   "metadata": {},
   "outputs": [
    {
     "data": {
      "text/plain": [
       "array(['United-States', 'Other'], dtype=object)"
      ]
     },
     "execution_count": 20,
     "metadata": {},
     "output_type": "execute_result"
    }
   ],
   "source": [
    "train[\"native-country\"].unique()"
   ]
  },
  {
   "cell_type": "code",
   "execution_count": 21,
   "id": "177fecab",
   "metadata": {},
   "outputs": [
    {
     "data": {
      "text/plain": [
       "<AxesSubplot:xlabel='native-country', ylabel='count'>"
      ]
     },
     "execution_count": 21,
     "metadata": {},
     "output_type": "execute_result"
    },
    {
     "data": {
      "image/png": "[encoded data removed]",
      "text/plain": [
       "<Figure size 1080x576 with 1 Axes>"
      ]
     },
     "metadata": {},
     "output_type": "display_data"
    }
   ],
   "source": [
    "# test데이터도 변경\n",
    "country = {\"United-States\":\"United-States\"}\n",
    "country_mapping = test['native-country'].map(country)\n",
    "country_mapping[country_mapping.isnull()]\n",
    "test[\"native-country\"] = country_mapping.fillna(\"Other\")\n",
    "sns.set(rc = {'figure.figsize':(15,8)})\n",
    "sns.countplot(data=test, x='native-country')"
   ]
  },
  {
   "cell_type": "code",
   "execution_count": 22,
   "id": "6ffee730",
   "metadata": {},
   "outputs": [
    {
     "data": {
      "text/plain": [
       "array(['United-States', 'Other'], dtype=object)"
      ]
     },
     "execution_count": 22,
     "metadata": {},
     "output_type": "execute_result"
    }
   ],
   "source": [
    "test[\"native-country\"].unique()"
   ]
  },
  {
   "cell_type": "code",
   "execution_count": 23,
   "id": "f0ddab30",
   "metadata": {},
   "outputs": [
    {
     "data": {
      "text/plain": [
       "<AxesSubplot:xlabel='occupation', ylabel='count'>"
      ]
     },
     "execution_count": 23,
     "metadata": {},
     "output_type": "execute_result"
    },
    {
     "data": {
      "image/png": "[encoded data removed]",
      "text/plain": [
       "<Figure size 1080x576 with 1 Axes>"
      ]
     },
     "metadata": {},
     "output_type": "display_data"
    }
   ],
   "source": [
    "sns.set(rc = {'figure.figsize':(15,8)})\n",
    "sns.countplot(data=train, x='occupation', hue ='income')"
   ]
  },
  {
   "cell_type": "code",
   "execution_count": 24,
   "id": "dd5cf830",
   "metadata": {},
   "outputs": [
    {
     "data": {
      "text/plain": [
       "<AxesSubplot:xlabel='education', ylabel='count'>"
      ]
     },
     "execution_count": 24,
     "metadata": {},
     "output_type": "execute_result"
    },
    {
     "data": {
      "image/png": "[encoded data removed]",
      "text/plain": [
       "<Figure size 1080x576 with 1 Axes>"
      ]
     },
     "metadata": {},
     "output_type": "display_data"
    }
   ],
   "source": [
    "sns.set(rc = {'figure.figsize':(15,8)})\n",
    "sns.countplot(data=train, x='education', hue ='income')"
   ]
  },
  {
   "cell_type": "code",
   "execution_count": 25,
   "id": "aa3d4816",
   "metadata": {},
   "outputs": [
    {
     "data": {
      "text/plain": [
       "<AxesSubplot:xlabel='education', ylabel='count'>"
      ]
     },
     "execution_count": 25,
     "metadata": {},
     "output_type": "execute_result"
    },
    {
     "data": {
      "image/png": "[encoded data removed]",
      "text/plain": [
       "<Figure size 1080x576 with 1 Axes>"
      ]
     },
     "metadata": {},
     "output_type": "display_data"
    }
   ],
   "source": [
    "sns.set(rc = {'figure.figsize':(15,8)})\n",
    "sns.countplot(data=train, x='education', hue ='income')"
   ]
  },
  {
   "cell_type": "code",
   "execution_count": 26,
   "id": "25125246",
   "metadata": {},
   "outputs": [
    {
     "data": {
      "text/plain": [
       "<AxesSubplot:xlabel='education', ylabel='Count'>"
      ]
     },
     "execution_count": 26,
     "metadata": {},
     "output_type": "execute_result"
    },
    {
     "data": {
      "image/png": "[encoded data removed]",
      "text/plain": [
       "<Figure size 1080x576 with 1 Axes>"
      ]
     },
     "metadata": {},
     "output_type": "display_data"
    }
   ],
   "source": [
    "sns.set(rc = {'figure.figsize':(15,8)})\n",
    "sns.histplot(data=train, x='education', hue='income')"
   ]
  },
  {
   "cell_type": "code",
   "execution_count": 27,
   "id": "d7ed6882",
   "metadata": {},
   "outputs": [
    {
     "data": {
      "text/plain": [
       "<AxesSubplot:xlabel='education-num', ylabel='Count'>"
      ]
     },
     "execution_count": 27,
     "metadata": {},
     "output_type": "execute_result"
    },
    {
     "data": {
      "image/png": "[encoded data removed]",
      "text/plain": [
       "<Figure size 1080x576 with 1 Axes>"
      ]
     },
     "metadata": {},
     "output_type": "display_data"
    }
   ],
   "source": [
    "sns.set(rc = {'figure.figsize':(15,8)})\n",
    "sns.histplot(data=train, x='education-num', hue='income')"
   ]
  },
  {
   "cell_type": "markdown",
   "id": "bf3edfda",
   "metadata": {},
   "source": [
    "### 인코딩"
   ]
  },
  {
   "cell_type": "code",
   "execution_count": 28,
   "id": "c505d30a",
   "metadata": {},
   "outputs": [
    {
     "data": {
      "text/plain": [
       "Index(['age', 'workclass', 'fnlwgt', 'education', 'education-num',\n",
       "       'marital-status', 'occupation', 'relationship', 'race', 'sex',\n",
       "       'capital-gain', 'capital-loss', 'hours-per-week', 'native-country',\n",
       "       'income'],\n",
       "      dtype='object')"
      ]
     },
     "execution_count": 28,
     "metadata": {},
     "output_type": "execute_result"
    }
   ],
   "source": [
    "train.columns"
   ]
  },
  {
   "cell_type": "code",
   "execution_count": 29,
   "id": "923814a0",
   "metadata": {},
   "outputs": [],
   "source": [
    "train = train[[\"income\", \"age\",\"education-num\",\"workclass\",'marital-status', 'occupation', 'relationship']]\n",
    "# 인코딩할 컬럼명만 선택\n",
    "categorical_features = [\"age\",\"workclass\",'marital-status', 'occupation', 'relationship']"
   ]
  },
  {
   "cell_type": "code",
   "execution_count": 30,
   "id": "ff7e648d",
   "metadata": {},
   "outputs": [],
   "source": [
    "# 반복문으로 인코딩하기(train)\n",
    "for feature_name in categorical_features:\n",
    "    one_hot = pd.get_dummies(train[feature_name], prefix=feature_name)\n",
    "    train = pd.concat([train, one_hot], axis=1) # 기존 데이터 끝에 one_hot을 붙임\n",
    "    train.drop(feature_name, axis=1, inplace = True) # 기존 글자컬럼을 삭제"
   ]
  },
  {
   "cell_type": "code",
   "execution_count": 31,
   "id": "9811b9e4",
   "metadata": {},
   "outputs": [
    {
     "data": {
      "text/html": [
       "<div>\n",
       "<style scoped>\n",
       "    .dataframe tbody tr th:only-of-type {\n",
       "        vertical-align: middle;\n",
       "    }\n",
       "\n",
       "    .dataframe tbody tr th {\n",
       "        vertical-align: top;\n",
       "    }\n",
       "\n",
       "    .dataframe thead th {\n",
       "        text-align: right;\n",
       "    }\n",
       "</style>\n",
       "<table border=\"1\" class=\"dataframe\">\n",
       "  <thead>\n",
       "    <tr style=\"text-align: right;\">\n",
       "      <th></th>\n",
       "      <th>income</th>\n",
       "      <th>education-num</th>\n",
       "      <th>age_16-20</th>\n",
       "      <th>age_21-25</th>\n",
       "      <th>age_26-30</th>\n",
       "      <th>age_31-35</th>\n",
       "      <th>age_36-40</th>\n",
       "      <th>age_41-45</th>\n",
       "      <th>age_46-50</th>\n",
       "      <th>age_51-55</th>\n",
       "      <th>...</th>\n",
       "      <th>occupation_ Protective-serv</th>\n",
       "      <th>occupation_ Sales</th>\n",
       "      <th>occupation_ Tech-support</th>\n",
       "      <th>occupation_ Transport-moving</th>\n",
       "      <th>relationship_ Husband</th>\n",
       "      <th>relationship_ Not-in-family</th>\n",
       "      <th>relationship_ Other-relative</th>\n",
       "      <th>relationship_ Own-child</th>\n",
       "      <th>relationship_ Unmarried</th>\n",
       "      <th>relationship_ Wife</th>\n",
       "    </tr>\n",
       "    <tr>\n",
       "      <th>no</th>\n",
       "      <th></th>\n",
       "      <th></th>\n",
       "      <th></th>\n",
       "      <th></th>\n",
       "      <th></th>\n",
       "      <th></th>\n",
       "      <th></th>\n",
       "      <th></th>\n",
       "      <th></th>\n",
       "      <th></th>\n",
       "      <th></th>\n",
       "      <th></th>\n",
       "      <th></th>\n",
       "      <th></th>\n",
       "      <th></th>\n",
       "      <th></th>\n",
       "      <th></th>\n",
       "      <th></th>\n",
       "      <th></th>\n",
       "      <th></th>\n",
       "      <th></th>\n",
       "    </tr>\n",
       "  </thead>\n",
       "  <tbody>\n",
       "    <tr>\n",
       "      <th>1</th>\n",
       "      <td>0</td>\n",
       "      <td>7</td>\n",
       "      <td>0</td>\n",
       "      <td>1</td>\n",
       "      <td>0</td>\n",
       "      <td>0</td>\n",
       "      <td>0</td>\n",
       "      <td>0</td>\n",
       "      <td>0</td>\n",
       "      <td>0</td>\n",
       "      <td>...</td>\n",
       "      <td>0</td>\n",
       "      <td>0</td>\n",
       "      <td>0</td>\n",
       "      <td>0</td>\n",
       "      <td>0</td>\n",
       "      <td>1</td>\n",
       "      <td>0</td>\n",
       "      <td>0</td>\n",
       "      <td>0</td>\n",
       "      <td>0</td>\n",
       "    </tr>\n",
       "    <tr>\n",
       "      <th>2</th>\n",
       "      <td>0</td>\n",
       "      <td>10</td>\n",
       "      <td>0</td>\n",
       "      <td>0</td>\n",
       "      <td>0</td>\n",
       "      <td>0</td>\n",
       "      <td>1</td>\n",
       "      <td>0</td>\n",
       "      <td>0</td>\n",
       "      <td>0</td>\n",
       "      <td>...</td>\n",
       "      <td>0</td>\n",
       "      <td>0</td>\n",
       "      <td>0</td>\n",
       "      <td>0</td>\n",
       "      <td>0</td>\n",
       "      <td>1</td>\n",
       "      <td>0</td>\n",
       "      <td>0</td>\n",
       "      <td>0</td>\n",
       "      <td>0</td>\n",
       "    </tr>\n",
       "    <tr>\n",
       "      <th>3</th>\n",
       "      <td>0</td>\n",
       "      <td>13</td>\n",
       "      <td>0</td>\n",
       "      <td>0</td>\n",
       "      <td>0</td>\n",
       "      <td>1</td>\n",
       "      <td>0</td>\n",
       "      <td>0</td>\n",
       "      <td>0</td>\n",
       "      <td>0</td>\n",
       "      <td>...</td>\n",
       "      <td>0</td>\n",
       "      <td>0</td>\n",
       "      <td>0</td>\n",
       "      <td>0</td>\n",
       "      <td>0</td>\n",
       "      <td>1</td>\n",
       "      <td>0</td>\n",
       "      <td>0</td>\n",
       "      <td>0</td>\n",
       "      <td>0</td>\n",
       "    </tr>\n",
       "    <tr>\n",
       "      <th>4</th>\n",
       "      <td>0</td>\n",
       "      <td>11</td>\n",
       "      <td>0</td>\n",
       "      <td>0</td>\n",
       "      <td>0</td>\n",
       "      <td>0</td>\n",
       "      <td>0</td>\n",
       "      <td>0</td>\n",
       "      <td>0</td>\n",
       "      <td>0</td>\n",
       "      <td>...</td>\n",
       "      <td>0</td>\n",
       "      <td>0</td>\n",
       "      <td>1</td>\n",
       "      <td>0</td>\n",
       "      <td>0</td>\n",
       "      <td>1</td>\n",
       "      <td>0</td>\n",
       "      <td>0</td>\n",
       "      <td>0</td>\n",
       "      <td>0</td>\n",
       "    </tr>\n",
       "    <tr>\n",
       "      <th>5</th>\n",
       "      <td>1</td>\n",
       "      <td>10</td>\n",
       "      <td>0</td>\n",
       "      <td>1</td>\n",
       "      <td>0</td>\n",
       "      <td>0</td>\n",
       "      <td>0</td>\n",
       "      <td>0</td>\n",
       "      <td>0</td>\n",
       "      <td>0</td>\n",
       "      <td>...</td>\n",
       "      <td>0</td>\n",
       "      <td>0</td>\n",
       "      <td>0</td>\n",
       "      <td>1</td>\n",
       "      <td>1</td>\n",
       "      <td>0</td>\n",
       "      <td>0</td>\n",
       "      <td>0</td>\n",
       "      <td>0</td>\n",
       "      <td>0</td>\n",
       "    </tr>\n",
       "    <tr>\n",
       "      <th>...</th>\n",
       "      <td>...</td>\n",
       "      <td>...</td>\n",
       "      <td>...</td>\n",
       "      <td>...</td>\n",
       "      <td>...</td>\n",
       "      <td>...</td>\n",
       "      <td>...</td>\n",
       "      <td>...</td>\n",
       "      <td>...</td>\n",
       "      <td>...</td>\n",
       "      <td>...</td>\n",
       "      <td>...</td>\n",
       "      <td>...</td>\n",
       "      <td>...</td>\n",
       "      <td>...</td>\n",
       "      <td>...</td>\n",
       "      <td>...</td>\n",
       "      <td>...</td>\n",
       "      <td>...</td>\n",
       "      <td>...</td>\n",
       "      <td>...</td>\n",
       "    </tr>\n",
       "    <tr>\n",
       "      <th>29301</th>\n",
       "      <td>0</td>\n",
       "      <td>9</td>\n",
       "      <td>1</td>\n",
       "      <td>0</td>\n",
       "      <td>0</td>\n",
       "      <td>0</td>\n",
       "      <td>0</td>\n",
       "      <td>0</td>\n",
       "      <td>0</td>\n",
       "      <td>0</td>\n",
       "      <td>...</td>\n",
       "      <td>0</td>\n",
       "      <td>1</td>\n",
       "      <td>0</td>\n",
       "      <td>0</td>\n",
       "      <td>0</td>\n",
       "      <td>0</td>\n",
       "      <td>0</td>\n",
       "      <td>1</td>\n",
       "      <td>0</td>\n",
       "      <td>0</td>\n",
       "    </tr>\n",
       "    <tr>\n",
       "      <th>29302</th>\n",
       "      <td>0</td>\n",
       "      <td>9</td>\n",
       "      <td>0</td>\n",
       "      <td>1</td>\n",
       "      <td>0</td>\n",
       "      <td>0</td>\n",
       "      <td>0</td>\n",
       "      <td>0</td>\n",
       "      <td>0</td>\n",
       "      <td>0</td>\n",
       "      <td>...</td>\n",
       "      <td>0</td>\n",
       "      <td>1</td>\n",
       "      <td>0</td>\n",
       "      <td>0</td>\n",
       "      <td>0</td>\n",
       "      <td>0</td>\n",
       "      <td>0</td>\n",
       "      <td>1</td>\n",
       "      <td>0</td>\n",
       "      <td>0</td>\n",
       "    </tr>\n",
       "    <tr>\n",
       "      <th>29303</th>\n",
       "      <td>0</td>\n",
       "      <td>6</td>\n",
       "      <td>1</td>\n",
       "      <td>0</td>\n",
       "      <td>0</td>\n",
       "      <td>0</td>\n",
       "      <td>0</td>\n",
       "      <td>0</td>\n",
       "      <td>0</td>\n",
       "      <td>0</td>\n",
       "      <td>...</td>\n",
       "      <td>0</td>\n",
       "      <td>0</td>\n",
       "      <td>0</td>\n",
       "      <td>0</td>\n",
       "      <td>0</td>\n",
       "      <td>0</td>\n",
       "      <td>0</td>\n",
       "      <td>1</td>\n",
       "      <td>0</td>\n",
       "      <td>0</td>\n",
       "    </tr>\n",
       "    <tr>\n",
       "      <th>29304</th>\n",
       "      <td>0</td>\n",
       "      <td>7</td>\n",
       "      <td>0</td>\n",
       "      <td>0</td>\n",
       "      <td>0</td>\n",
       "      <td>1</td>\n",
       "      <td>0</td>\n",
       "      <td>0</td>\n",
       "      <td>0</td>\n",
       "      <td>0</td>\n",
       "      <td>...</td>\n",
       "      <td>0</td>\n",
       "      <td>0</td>\n",
       "      <td>0</td>\n",
       "      <td>0</td>\n",
       "      <td>0</td>\n",
       "      <td>1</td>\n",
       "      <td>0</td>\n",
       "      <td>0</td>\n",
       "      <td>0</td>\n",
       "      <td>0</td>\n",
       "    </tr>\n",
       "    <tr>\n",
       "      <th>29305</th>\n",
       "      <td>0</td>\n",
       "      <td>9</td>\n",
       "      <td>0</td>\n",
       "      <td>0</td>\n",
       "      <td>0</td>\n",
       "      <td>0</td>\n",
       "      <td>0</td>\n",
       "      <td>0</td>\n",
       "      <td>0</td>\n",
       "      <td>0</td>\n",
       "      <td>...</td>\n",
       "      <td>0</td>\n",
       "      <td>0</td>\n",
       "      <td>0</td>\n",
       "      <td>0</td>\n",
       "      <td>0</td>\n",
       "      <td>1</td>\n",
       "      <td>0</td>\n",
       "      <td>0</td>\n",
       "      <td>0</td>\n",
       "      <td>0</td>\n",
       "    </tr>\n",
       "  </tbody>\n",
       "</table>\n",
       "<p>29305 rows × 50 columns</p>\n",
       "</div>"
      ],
      "text/plain": [
       "       income  education-num  age_16-20  age_21-25  age_26-30  age_31-35  \\\n",
       "no                                                                         \n",
       "1           0              7          0          1          0          0   \n",
       "2           0             10          0          0          0          0   \n",
       "3           0             13          0          0          0          1   \n",
       "4           0             11          0          0          0          0   \n",
       "5           1             10          0          1          0          0   \n",
       "...       ...            ...        ...        ...        ...        ...   \n",
       "29301       0              9          1          0          0          0   \n",
       "29302       0              9          0          1          0          0   \n",
       "29303       0              6          1          0          0          0   \n",
       "29304       0              7          0          0          0          1   \n",
       "29305       0              9          0          0          0          0   \n",
       "\n",
       "       age_36-40  age_41-45  age_46-50  age_51-55  ...  \\\n",
       "no                                                 ...   \n",
       "1              0          0          0          0  ...   \n",
       "2              1          0          0          0  ...   \n",
       "3              0          0          0          0  ...   \n",
       "4              0          0          0          0  ...   \n",
       "5              0          0          0          0  ...   \n",
       "...          ...        ...        ...        ...  ...   \n",
       "29301          0          0          0          0  ...   \n",
       "29302          0          0          0          0  ...   \n",
       "29303          0          0          0          0  ...   \n",
       "29304          0          0          0          0  ...   \n",
       "29305          0          0          0          0  ...   \n",
       "\n",
       "       occupation_ Protective-serv  occupation_ Sales  \\\n",
       "no                                                      \n",
       "1                                0                  0   \n",
       "2                                0                  0   \n",
       "3                                0                  0   \n",
       "4                                0                  0   \n",
       "5                                0                  0   \n",
       "...                            ...                ...   \n",
       "29301                            0                  1   \n",
       "29302                            0                  1   \n",
       "29303                            0                  0   \n",
       "29304                            0                  0   \n",
       "29305                            0                  0   \n",
       "\n",
       "       occupation_ Tech-support  occupation_ Transport-moving  \\\n",
       "no                                                              \n",
       "1                             0                             0   \n",
       "2                             0                             0   \n",
       "3                             0                             0   \n",
       "4                             1                             0   \n",
       "5                             0                             1   \n",
       "...                         ...                           ...   \n",
       "29301                         0                             0   \n",
       "29302                         0                             0   \n",
       "29303                         0                             0   \n",
       "29304                         0                             0   \n",
       "29305                         0                             0   \n",
       "\n",
       "       relationship_ Husband  relationship_ Not-in-family  \\\n",
       "no                                                          \n",
       "1                          0                            1   \n",
       "2                          0                            1   \n",
       "3                          0                            1   \n",
       "4                          0                            1   \n",
       "5                          1                            0   \n",
       "...                      ...                          ...   \n",
       "29301                      0                            0   \n",
       "29302                      0                            0   \n",
       "29303                      0                            0   \n",
       "29304                      0                            1   \n",
       "29305                      0                            1   \n",
       "\n",
       "       relationship_ Other-relative  relationship_ Own-child  \\\n",
       "no                                                             \n",
       "1                                 0                        0   \n",
       "2                                 0                        0   \n",
       "3                                 0                        0   \n",
       "4                                 0                        0   \n",
       "5                                 0                        0   \n",
       "...                             ...                      ...   \n",
       "29301                             0                        1   \n",
       "29302                             0                        1   \n",
       "29303                             0                        1   \n",
       "29304                             0                        0   \n",
       "29305                             0                        0   \n",
       "\n",
       "       relationship_ Unmarried  relationship_ Wife  \n",
       "no                                                  \n",
       "1                            0                   0  \n",
       "2                            0                   0  \n",
       "3                            0                   0  \n",
       "4                            0                   0  \n",
       "5                            0                   0  \n",
       "...                        ...                 ...  \n",
       "29301                        0                   0  \n",
       "29302                        0                   0  \n",
       "29303                        0                   0  \n",
       "29304                        0                   0  \n",
       "29305                        0                   0  \n",
       "\n",
       "[29305 rows x 50 columns]"
      ]
     },
     "execution_count": 31,
     "metadata": {},
     "output_type": "execute_result"
    }
   ],
   "source": [
    "train"
   ]
  },
  {
   "cell_type": "code",
   "execution_count": 32,
   "id": "9a3d7035",
   "metadata": {},
   "outputs": [],
   "source": [
    "test = test[[\"age\",\"education-num\",\"workclass\",'marital-status', 'occupation', 'relationship']]\n",
    "categorical_features = [\"age\",\"workclass\", 'marital-status', 'occupation', 'relationship']\n",
    "for feature_name in categorical_features:\n",
    "    one_hot = pd.get_dummies(test[feature_name], prefix=feature_name)\n",
    "    test = pd.concat([test, one_hot], axis=1) # 기존 데이터 끝에 one_hot을 붙임\n",
    "    test.drop(feature_name, axis=1, inplace = True) # 기존 글자컬럼을 삭제"
   ]
  },
  {
   "cell_type": "code",
   "execution_count": 33,
   "id": "02966f62",
   "metadata": {},
   "outputs": [
    {
     "data": {
      "text/html": [
       "<div>\n",
       "<style scoped>\n",
       "    .dataframe tbody tr th:only-of-type {\n",
       "        vertical-align: middle;\n",
       "    }\n",
       "\n",
       "    .dataframe tbody tr th {\n",
       "        vertical-align: top;\n",
       "    }\n",
       "\n",
       "    .dataframe thead th {\n",
       "        text-align: right;\n",
       "    }\n",
       "</style>\n",
       "<table border=\"1\" class=\"dataframe\">\n",
       "  <thead>\n",
       "    <tr style=\"text-align: right;\">\n",
       "      <th></th>\n",
       "      <th>education-num</th>\n",
       "      <th>age_16-20</th>\n",
       "      <th>age_21-25</th>\n",
       "      <th>age_26-30</th>\n",
       "      <th>age_31-35</th>\n",
       "      <th>age_36-40</th>\n",
       "      <th>age_41-45</th>\n",
       "      <th>age_46-50</th>\n",
       "      <th>age_51-55</th>\n",
       "      <th>age_56-60</th>\n",
       "      <th>...</th>\n",
       "      <th>occupation_ Protective-serv</th>\n",
       "      <th>occupation_ Sales</th>\n",
       "      <th>occupation_ Tech-support</th>\n",
       "      <th>occupation_ Transport-moving</th>\n",
       "      <th>relationship_ Husband</th>\n",
       "      <th>relationship_ Not-in-family</th>\n",
       "      <th>relationship_ Other-relative</th>\n",
       "      <th>relationship_ Own-child</th>\n",
       "      <th>relationship_ Unmarried</th>\n",
       "      <th>relationship_ Wife</th>\n",
       "    </tr>\n",
       "    <tr>\n",
       "      <th>no</th>\n",
       "      <th></th>\n",
       "      <th></th>\n",
       "      <th></th>\n",
       "      <th></th>\n",
       "      <th></th>\n",
       "      <th></th>\n",
       "      <th></th>\n",
       "      <th></th>\n",
       "      <th></th>\n",
       "      <th></th>\n",
       "      <th></th>\n",
       "      <th></th>\n",
       "      <th></th>\n",
       "      <th></th>\n",
       "      <th></th>\n",
       "      <th></th>\n",
       "      <th></th>\n",
       "      <th></th>\n",
       "      <th></th>\n",
       "      <th></th>\n",
       "      <th></th>\n",
       "    </tr>\n",
       "  </thead>\n",
       "  <tbody>\n",
       "    <tr>\n",
       "      <th>29306</th>\n",
       "      <td>10</td>\n",
       "      <td>1</td>\n",
       "      <td>0</td>\n",
       "      <td>0</td>\n",
       "      <td>0</td>\n",
       "      <td>0</td>\n",
       "      <td>0</td>\n",
       "      <td>0</td>\n",
       "      <td>0</td>\n",
       "      <td>0</td>\n",
       "      <td>...</td>\n",
       "      <td>0</td>\n",
       "      <td>0</td>\n",
       "      <td>0</td>\n",
       "      <td>0</td>\n",
       "      <td>0</td>\n",
       "      <td>0</td>\n",
       "      <td>0</td>\n",
       "      <td>1</td>\n",
       "      <td>0</td>\n",
       "      <td>0</td>\n",
       "    </tr>\n",
       "    <tr>\n",
       "      <th>29307</th>\n",
       "      <td>9</td>\n",
       "      <td>0</td>\n",
       "      <td>0</td>\n",
       "      <td>1</td>\n",
       "      <td>0</td>\n",
       "      <td>0</td>\n",
       "      <td>0</td>\n",
       "      <td>0</td>\n",
       "      <td>0</td>\n",
       "      <td>0</td>\n",
       "      <td>...</td>\n",
       "      <td>0</td>\n",
       "      <td>0</td>\n",
       "      <td>0</td>\n",
       "      <td>0</td>\n",
       "      <td>0</td>\n",
       "      <td>0</td>\n",
       "      <td>0</td>\n",
       "      <td>0</td>\n",
       "      <td>0</td>\n",
       "      <td>1</td>\n",
       "    </tr>\n",
       "    <tr>\n",
       "      <th>29308</th>\n",
       "      <td>13</td>\n",
       "      <td>0</td>\n",
       "      <td>0</td>\n",
       "      <td>0</td>\n",
       "      <td>0</td>\n",
       "      <td>0</td>\n",
       "      <td>1</td>\n",
       "      <td>0</td>\n",
       "      <td>0</td>\n",
       "      <td>0</td>\n",
       "      <td>...</td>\n",
       "      <td>0</td>\n",
       "      <td>0</td>\n",
       "      <td>1</td>\n",
       "      <td>0</td>\n",
       "      <td>1</td>\n",
       "      <td>0</td>\n",
       "      <td>0</td>\n",
       "      <td>0</td>\n",
       "      <td>0</td>\n",
       "      <td>0</td>\n",
       "    </tr>\n",
       "    <tr>\n",
       "      <th>29309</th>\n",
       "      <td>13</td>\n",
       "      <td>0</td>\n",
       "      <td>0</td>\n",
       "      <td>0</td>\n",
       "      <td>0</td>\n",
       "      <td>0</td>\n",
       "      <td>1</td>\n",
       "      <td>0</td>\n",
       "      <td>0</td>\n",
       "      <td>0</td>\n",
       "      <td>...</td>\n",
       "      <td>0</td>\n",
       "      <td>0</td>\n",
       "      <td>0</td>\n",
       "      <td>0</td>\n",
       "      <td>1</td>\n",
       "      <td>0</td>\n",
       "      <td>0</td>\n",
       "      <td>0</td>\n",
       "      <td>0</td>\n",
       "      <td>0</td>\n",
       "    </tr>\n",
       "    <tr>\n",
       "      <th>29310</th>\n",
       "      <td>16</td>\n",
       "      <td>0</td>\n",
       "      <td>0</td>\n",
       "      <td>0</td>\n",
       "      <td>0</td>\n",
       "      <td>0</td>\n",
       "      <td>1</td>\n",
       "      <td>0</td>\n",
       "      <td>0</td>\n",
       "      <td>0</td>\n",
       "      <td>...</td>\n",
       "      <td>0</td>\n",
       "      <td>0</td>\n",
       "      <td>0</td>\n",
       "      <td>0</td>\n",
       "      <td>0</td>\n",
       "      <td>0</td>\n",
       "      <td>0</td>\n",
       "      <td>0</td>\n",
       "      <td>0</td>\n",
       "      <td>1</td>\n",
       "    </tr>\n",
       "    <tr>\n",
       "      <th>...</th>\n",
       "      <td>...</td>\n",
       "      <td>...</td>\n",
       "      <td>...</td>\n",
       "      <td>...</td>\n",
       "      <td>...</td>\n",
       "      <td>...</td>\n",
       "      <td>...</td>\n",
       "      <td>...</td>\n",
       "      <td>...</td>\n",
       "      <td>...</td>\n",
       "      <td>...</td>\n",
       "      <td>...</td>\n",
       "      <td>...</td>\n",
       "      <td>...</td>\n",
       "      <td>...</td>\n",
       "      <td>...</td>\n",
       "      <td>...</td>\n",
       "      <td>...</td>\n",
       "      <td>...</td>\n",
       "      <td>...</td>\n",
       "      <td>...</td>\n",
       "    </tr>\n",
       "    <tr>\n",
       "      <th>48838</th>\n",
       "      <td>9</td>\n",
       "      <td>0</td>\n",
       "      <td>0</td>\n",
       "      <td>0</td>\n",
       "      <td>0</td>\n",
       "      <td>0</td>\n",
       "      <td>1</td>\n",
       "      <td>0</td>\n",
       "      <td>0</td>\n",
       "      <td>0</td>\n",
       "      <td>...</td>\n",
       "      <td>0</td>\n",
       "      <td>0</td>\n",
       "      <td>0</td>\n",
       "      <td>0</td>\n",
       "      <td>1</td>\n",
       "      <td>0</td>\n",
       "      <td>0</td>\n",
       "      <td>0</td>\n",
       "      <td>0</td>\n",
       "      <td>0</td>\n",
       "    </tr>\n",
       "    <tr>\n",
       "      <th>48839</th>\n",
       "      <td>9</td>\n",
       "      <td>0</td>\n",
       "      <td>0</td>\n",
       "      <td>0</td>\n",
       "      <td>0</td>\n",
       "      <td>0</td>\n",
       "      <td>0</td>\n",
       "      <td>1</td>\n",
       "      <td>0</td>\n",
       "      <td>0</td>\n",
       "      <td>...</td>\n",
       "      <td>0</td>\n",
       "      <td>0</td>\n",
       "      <td>0</td>\n",
       "      <td>0</td>\n",
       "      <td>0</td>\n",
       "      <td>1</td>\n",
       "      <td>0</td>\n",
       "      <td>0</td>\n",
       "      <td>0</td>\n",
       "      <td>0</td>\n",
       "    </tr>\n",
       "    <tr>\n",
       "      <th>48840</th>\n",
       "      <td>10</td>\n",
       "      <td>0</td>\n",
       "      <td>0</td>\n",
       "      <td>0</td>\n",
       "      <td>0</td>\n",
       "      <td>0</td>\n",
       "      <td>0</td>\n",
       "      <td>0</td>\n",
       "      <td>0</td>\n",
       "      <td>0</td>\n",
       "      <td>...</td>\n",
       "      <td>0</td>\n",
       "      <td>0</td>\n",
       "      <td>0</td>\n",
       "      <td>0</td>\n",
       "      <td>1</td>\n",
       "      <td>0</td>\n",
       "      <td>0</td>\n",
       "      <td>0</td>\n",
       "      <td>0</td>\n",
       "      <td>0</td>\n",
       "    </tr>\n",
       "    <tr>\n",
       "      <th>48841</th>\n",
       "      <td>7</td>\n",
       "      <td>1</td>\n",
       "      <td>0</td>\n",
       "      <td>0</td>\n",
       "      <td>0</td>\n",
       "      <td>0</td>\n",
       "      <td>0</td>\n",
       "      <td>0</td>\n",
       "      <td>0</td>\n",
       "      <td>0</td>\n",
       "      <td>...</td>\n",
       "      <td>0</td>\n",
       "      <td>1</td>\n",
       "      <td>0</td>\n",
       "      <td>0</td>\n",
       "      <td>0</td>\n",
       "      <td>0</td>\n",
       "      <td>0</td>\n",
       "      <td>1</td>\n",
       "      <td>0</td>\n",
       "      <td>0</td>\n",
       "    </tr>\n",
       "    <tr>\n",
       "      <th>48842</th>\n",
       "      <td>12</td>\n",
       "      <td>0</td>\n",
       "      <td>0</td>\n",
       "      <td>0</td>\n",
       "      <td>1</td>\n",
       "      <td>0</td>\n",
       "      <td>0</td>\n",
       "      <td>0</td>\n",
       "      <td>0</td>\n",
       "      <td>0</td>\n",
       "      <td>...</td>\n",
       "      <td>0</td>\n",
       "      <td>0</td>\n",
       "      <td>1</td>\n",
       "      <td>0</td>\n",
       "      <td>1</td>\n",
       "      <td>0</td>\n",
       "      <td>0</td>\n",
       "      <td>0</td>\n",
       "      <td>0</td>\n",
       "      <td>0</td>\n",
       "    </tr>\n",
       "  </tbody>\n",
       "</table>\n",
       "<p>19537 rows × 49 columns</p>\n",
       "</div>"
      ],
      "text/plain": [
       "       education-num  age_16-20  age_21-25  age_26-30  age_31-35  age_36-40  \\\n",
       "no                                                                            \n",
       "29306             10          1          0          0          0          0   \n",
       "29307              9          0          0          1          0          0   \n",
       "29308             13          0          0          0          0          0   \n",
       "29309             13          0          0          0          0          0   \n",
       "29310             16          0          0          0          0          0   \n",
       "...              ...        ...        ...        ...        ...        ...   \n",
       "48838              9          0          0          0          0          0   \n",
       "48839              9          0          0          0          0          0   \n",
       "48840             10          0          0          0          0          0   \n",
       "48841              7          1          0          0          0          0   \n",
       "48842             12          0          0          0          1          0   \n",
       "\n",
       "       age_41-45  age_46-50  age_51-55  age_56-60  ...  \\\n",
       "no                                                 ...   \n",
       "29306          0          0          0          0  ...   \n",
       "29307          0          0          0          0  ...   \n",
       "29308          1          0          0          0  ...   \n",
       "29309          1          0          0          0  ...   \n",
       "29310          1          0          0          0  ...   \n",
       "...          ...        ...        ...        ...  ...   \n",
       "48838          1          0          0          0  ...   \n",
       "48839          0          1          0          0  ...   \n",
       "48840          0          0          0          0  ...   \n",
       "48841          0          0          0          0  ...   \n",
       "48842          0          0          0          0  ...   \n",
       "\n",
       "       occupation_ Protective-serv  occupation_ Sales  \\\n",
       "no                                                      \n",
       "29306                            0                  0   \n",
       "29307                            0                  0   \n",
       "29308                            0                  0   \n",
       "29309                            0                  0   \n",
       "29310                            0                  0   \n",
       "...                            ...                ...   \n",
       "48838                            0                  0   \n",
       "48839                            0                  0   \n",
       "48840                            0                  0   \n",
       "48841                            0                  1   \n",
       "48842                            0                  0   \n",
       "\n",
       "       occupation_ Tech-support  occupation_ Transport-moving  \\\n",
       "no                                                              \n",
       "29306                         0                             0   \n",
       "29307                         0                             0   \n",
       "29308                         1                             0   \n",
       "29309                         0                             0   \n",
       "29310                         0                             0   \n",
       "...                         ...                           ...   \n",
       "48838                         0                             0   \n",
       "48839                         0                             0   \n",
       "48840                         0                             0   \n",
       "48841                         0                             0   \n",
       "48842                         1                             0   \n",
       "\n",
       "       relationship_ Husband  relationship_ Not-in-family  \\\n",
       "no                                                          \n",
       "29306                      0                            0   \n",
       "29307                      0                            0   \n",
       "29308                      1                            0   \n",
       "29309                      1                            0   \n",
       "29310                      0                            0   \n",
       "...                      ...                          ...   \n",
       "48838                      1                            0   \n",
       "48839                      0                            1   \n",
       "48840                      1                            0   \n",
       "48841                      0                            0   \n",
       "48842                      1                            0   \n",
       "\n",
       "       relationship_ Other-relative  relationship_ Own-child  \\\n",
       "no                                                             \n",
       "29306                             0                        1   \n",
       "29307                             0                        0   \n",
       "29308                             0                        0   \n",
       "29309                             0                        0   \n",
       "29310                             0                        0   \n",
       "...                             ...                      ...   \n",
       "48838                             0                        0   \n",
       "48839                             0                        0   \n",
       "48840                             0                        0   \n",
       "48841                             0                        1   \n",
       "48842                             0                        0   \n",
       "\n",
       "       relationship_ Unmarried  relationship_ Wife  \n",
       "no                                                  \n",
       "29306                        0                   0  \n",
       "29307                        0                   1  \n",
       "29308                        0                   0  \n",
       "29309                        0                   0  \n",
       "29310                        0                   1  \n",
       "...                        ...                 ...  \n",
       "48838                        0                   0  \n",
       "48839                        0                   0  \n",
       "48840                        0                   0  \n",
       "48841                        0                   0  \n",
       "48842                        0                   0  \n",
       "\n",
       "[19537 rows x 49 columns]"
      ]
     },
     "execution_count": 33,
     "metadata": {},
     "output_type": "execute_result"
    }
   ],
   "source": [
    "test"
   ]
  },
  {
   "cell_type": "code",
   "execution_count": 34,
   "id": "37efa1aa",
   "metadata": {},
   "outputs": [
    {
     "data": {
      "text/plain": [
       "((29305, 49), (29305,))"
      ]
     },
     "execution_count": 34,
     "metadata": {},
     "output_type": "execute_result"
    }
   ],
   "source": [
    "X_train = train.iloc[:,1:]\n",
    "y_train = train.income\n",
    "X_test = test\n",
    "X_train.shape, y_train.shape"
   ]
  },
  {
   "cell_type": "markdown",
   "id": "56e1fe32",
   "metadata": {},
   "source": [
    "### 학습"
   ]
  },
  {
   "cell_type": "code",
   "execution_count": 35,
   "id": "849ab12f",
   "metadata": {},
   "outputs": [],
   "source": [
    "from sklearn.neighbors import KNeighborsClassifier\n",
    "from sklearn.tree import DecisionTreeClassifier\n",
    "# 모델 생성\n",
    "knn_model = KNeighborsClassifier()\n",
    "tree_model = DecisionTreeClassifier()\n",
    "# 모델 학습\n",
    "knn_model.fit(X_train, y_train)\n",
    "tree_model.fit(X_train, y_train)\n",
    "# 모델 예측\n",
    "knn_pre = knn_model.predict(X_test)\n",
    "tree_pre = tree_model.predict(X_test)"
   ]
  },
  {
   "cell_type": "markdown",
   "id": "875082bb",
   "metadata": {},
   "source": [
    "### 하이퍼 파라미터 튜닝"
   ]
  },
  {
   "cell_type": "code",
   "execution_count": 36,
   "id": "59906cde",
   "metadata": {},
   "outputs": [],
   "source": [
    "from sklearn.model_selection import train_test_split\n",
    "X_train2, X_val, y_train2, y_val = train_test_split(X_train,\n",
    "                                                   y_train,\n",
    "                                                   test_size=0.3,\n",
    "                                                   random_state=99)"
   ]
  },
  {
   "cell_type": "code",
   "execution_count": 37,
   "id": "d14622b7",
   "metadata": {},
   "outputs": [
    {
     "data": {
      "text/plain": [
       "((20513, 49), (20513,))"
      ]
     },
     "execution_count": 37,
     "metadata": {},
     "output_type": "execute_result"
    }
   ],
   "source": [
    "X_train2.shape, y_train2.shape"
   ]
  },
  {
   "cell_type": "code",
   "execution_count": 38,
   "id": "ca96de19",
   "metadata": {},
   "outputs": [
    {
     "data": {
      "text/plain": [
       "((8792, 49), (8792,))"
      ]
     },
     "execution_count": 38,
     "metadata": {},
     "output_type": "execute_result"
    }
   ],
   "source": [
    "X_val.shape, y_val.shape"
   ]
  },
  {
   "cell_type": "markdown",
   "id": "d8b1bc36",
   "metadata": {},
   "source": [
    "### KNN 튜닝"
   ]
  },
  {
   "cell_type": "code",
   "execution_count": 39,
   "id": "c2b76eec",
   "metadata": {},
   "outputs": [],
   "source": [
    "train_score = [] # 훈련데이터의 점수가 들어갈 리스트\n",
    "val_score = [] # 검증데이터의 점수가 들어갈 리스트\n",
    "\n",
    "for n in range(1,20): \n",
    "    # 이웃을 1~19개까지 변경하면서 모델생성\n",
    "    knn_model = KNeighborsClassifier(n_neighbors=n)\n",
    "    # 모델 학습\n",
    "    knn_model.fit(X_train2, y_train2)\n",
    "    # 훈련데이터에 대한 점수 누적\n",
    "    train_score.append(knn_model.score(X_train2, y_train2))\n",
    "    # 검증데이터에 대한 점수 누적\n",
    "    val_score.append(knn_model.score(X_val, y_val))"
   ]
  },
  {
   "cell_type": "code",
   "execution_count": 40,
   "id": "cbc41934",
   "metadata": {},
   "outputs": [
    {
     "data": {
      "image/png": "[encoded data removed]",
      "text/plain": [
       "<Figure size 1080x360 with 1 Axes>"
      ]
     },
     "metadata": {},
     "output_type": "display_data"
    }
   ],
   "source": [
    "import matplotlib.pyplot as plt\n",
    "plt.figure(figsize=(15,5))\n",
    "plt.plot(train_score, label=\"train\")\n",
    "plt.plot(range(1,20), val_score, label=\"val\")\n",
    "plt.xticks(range(1,20))\n",
    "plt.grid()\n",
    "plt.legend()\n",
    "plt.ylabel(\"accuracy\")\n",
    "plt.xlabel('n_neighbors')\n",
    "plt.show()"
   ]
  },
  {
   "cell_type": "markdown",
   "id": "d2354a84",
   "metadata": {},
   "source": [
    "### DecisionTree 튜닝"
   ]
  },
  {
   "cell_type": "code",
   "execution_count": 41,
   "id": "48a0a40b",
   "metadata": {},
   "outputs": [],
   "source": [
    "# 교차검증함수\n",
    "from sklearn.model_selection import cross_val_score\n",
    "train_score = []\n",
    "val_score = []\n",
    "\n",
    "for d in range(1,30):\n",
    "    tree_model = DecisionTreeClassifier(max_depth=d, random_state=99)\n",
    "    result = cross_val_score(tree_model, X_train, y_train, cv=5)\n",
    "    val_score.append(result.mean())"
   ]
  },
  {
   "cell_type": "code",
   "execution_count": 42,
   "id": "1901d27b",
   "metadata": {},
   "outputs": [
    {
     "data": {
      "image/png": "[encoded data removed]",
      "text/plain": [
       "<Figure size 1080x360 with 1 Axes>"
      ]
     },
     "metadata": {},
     "output_type": "display_data"
    }
   ],
   "source": [
    "plt.figure(figsize=(15,5))\n",
    "plt.plot(range(1,30), val_score, label=\"val\")\n",
    "plt.xticks(range(1,30))\n",
    "plt.grid()\n",
    "plt.legend()\n",
    "plt.ylabel(\"accuracy\")\n",
    "plt.xlabel('max_depth')\n",
    "plt.show()"
   ]
  },
  {
   "cell_type": "markdown",
   "id": "fa53bde4",
   "metadata": {},
   "source": [
    "### 모델 평가\n",
    "- KNN : n_neighbors=11\n",
    "- DecisionTree :  max_depth=7"
   ]
  },
  {
   "cell_type": "code",
   "execution_count": 43,
   "id": "e39babc0",
   "metadata": {},
   "outputs": [],
   "source": [
    "final_knn = KNeighborsClassifier(n_neighbors=11)\n",
    "final_tree = DecisionTreeClassifier(max_depth=7, random_state=720)"
   ]
  },
  {
   "cell_type": "code",
   "execution_count": 44,
   "id": "03dc445e",
   "metadata": {},
   "outputs": [
    {
     "data": {
      "text/plain": [
       "DecisionTreeClassifier(max_depth=7, random_state=720)"
      ]
     },
     "execution_count": 44,
     "metadata": {},
     "output_type": "execute_result"
    }
   ],
   "source": [
    "final_knn.fit(X_train, y_train)\n",
    "final_tree.fit(X_train, y_train)"
   ]
  },
  {
   "cell_type": "code",
   "execution_count": 45,
   "id": "ca160939",
   "metadata": {},
   "outputs": [],
   "source": [
    "knn_pre = final_knn.predict(X_test)\n",
    "tree_pre = final_tree.predict(X_test)"
   ]
  },
  {
   "cell_type": "code",
   "execution_count": 46,
   "id": "603a8f2c",
   "metadata": {},
   "outputs": [],
   "source": [
    "# 정답파일 만들기\n",
    "submission = pd.read_csv('classification220718/sample_submission.csv')\n",
    "submission['income'] = knn_pre\n",
    "# 데이터프레임을 csv파일로 저장\n",
    "submission.to_csv(\"./classification220718/knn_pre.csv\", index=False)"
   ]
  },
  {
   "cell_type": "code",
   "execution_count": 47,
   "id": "579b9282",
   "metadata": {},
   "outputs": [],
   "source": [
    "submission['income'] = tree_pre\n",
    "submission.to_csv(\"./classification220718/tree_pre.csv\", index=False)"
   ]
  },
  {
   "cell_type": "code",
   "execution_count": 52,
   "id": "55649a29",
   "metadata": {},
   "outputs": [
    {
     "data": {
      "text/plain": [
       "array([0.83040437, 0.83842348, 0.8218734 , 0.82921003, 0.82818632])"
      ]
     },
     "execution_count": 52,
     "metadata": {},
     "output_type": "execute_result"
    }
   ],
   "source": [
    "from sklearn.ensemble import RandomForestClassifier\n",
    "rf_model = RandomForestClassifier(n_estimators=100, # 배깅할 모델 개수\n",
    "                                 max_features=0.9, # 각 모델이 랜덤하게 사용할 특성 수\n",
    "                                  max_depth=8, # 각 모델의 최대 깊이\n",
    "                                  min_samples_leaf=10, # 리프노드의 최소샘플수\n",
    "                                  random_state=99\n",
    "                                 )\n",
    "rf_rs = cross_val_score(rf_model, X_train, y_train, cv=5)\n",
    "rf_rs"
   ]
  },
  {
   "cell_type": "code",
   "execution_count": null,
   "id": "53acc840",
   "metadata": {},
   "outputs": [],
   "source": []
  }
 ],
 "metadata": {
  "kernelspec": {
   "display_name": "Python 3 (ipykernel)",
   "language": "python",
   "name": "python3"
  },
  "language_info": {
   "codemirror_mode": {
    "name": "ipython",
    "version": 3
   },
   "file_extension": ".py",
   "mimetype": "text/x-python",
   "name": "python",
   "nbconvert_exporter": "python",
   "pygments_lexer": "ipython3",
   "version": "3.7.13"
  },
  "toc": {
   "base_numbering": 1,
   "nav_menu": {},
   "number_sections": true,
   "sideBar": true,
   "skip_h1_title": false,
   "title_cell": "Table of Contents",
   "title_sidebar": "Contents",
   "toc_cell": false,
   "toc_position": {},
   "toc_section_display": true,
   "toc_window_display": false
  }
 },
 "nbformat": 4,
 "nbformat_minor": 5
}
