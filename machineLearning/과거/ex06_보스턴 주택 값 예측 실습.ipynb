{
 "cells": [
  {
   "cell_type": "code",
   "execution_count": 1,
   "id": "47046527",
   "metadata": {},
   "outputs": [],
   "source": [
    "import numpy as np\n",
    "import pandas as pd\n",
    "from sklearn.datasets import load_boston"
   ]
  },
  {
   "cell_type": "code",
   "execution_count": 2,
   "id": "02b2b95d",
   "metadata": {},
   "outputs": [],
   "source": [
    "boston = load_boston()"
   ]
  },
  {
   "cell_type": "code",
   "execution_count": 3,
   "id": "4f137237",
   "metadata": {},
   "outputs": [
    {
     "data": {
      "text/plain": [
       "dict_keys(['data', 'target', 'feature_names', 'DESCR', 'filename'])"
      ]
     },
     "execution_count": 3,
     "metadata": {},
     "output_type": "execute_result"
    }
   ],
   "source": [
    "boston.keys()"
   ]
  },
  {
   "cell_type": "code",
   "execution_count": 4,
   "id": "b15d0541",
   "metadata": {},
   "outputs": [
    {
     "data": {
      "text/plain": [
       "array(['CRIM', 'ZN', 'INDUS', 'CHAS', 'NOX', 'RM', 'AGE', 'DIS', 'RAD',\n",
       "       'TAX', 'PTRATIO', 'B', 'LSTAT'], dtype='<U7')"
      ]
     },
     "execution_count": 4,
     "metadata": {},
     "output_type": "execute_result"
    }
   ],
   "source": [
    "boston.feature_names # 컬럼 이름"
   ]
  },
  {
   "cell_type": "code",
   "execution_count": 5,
   "id": "b31b1740",
   "metadata": {},
   "outputs": [
    {
     "data": {
      "text/html": [
       "<div>\n",
       "<style scoped>\n",
       "    .dataframe tbody tr th:only-of-type {\n",
       "        vertical-align: middle;\n",
       "    }\n",
       "\n",
       "    .dataframe tbody tr th {\n",
       "        vertical-align: top;\n",
       "    }\n",
       "\n",
       "    .dataframe thead th {\n",
       "        text-align: right;\n",
       "    }\n",
       "</style>\n",
       "<table border=\"1\" class=\"dataframe\">\n",
       "  <thead>\n",
       "    <tr style=\"text-align: right;\">\n",
       "      <th></th>\n",
       "      <th>CRIM</th>\n",
       "      <th>ZN</th>\n",
       "      <th>INDUS</th>\n",
       "      <th>CHAS</th>\n",
       "      <th>NOX</th>\n",
       "      <th>RM</th>\n",
       "      <th>AGE</th>\n",
       "      <th>DIS</th>\n",
       "      <th>RAD</th>\n",
       "      <th>TAX</th>\n",
       "      <th>PTRATIO</th>\n",
       "      <th>B</th>\n",
       "      <th>LSTAT</th>\n",
       "    </tr>\n",
       "  </thead>\n",
       "  <tbody>\n",
       "    <tr>\n",
       "      <th>0</th>\n",
       "      <td>0.00632</td>\n",
       "      <td>18.0</td>\n",
       "      <td>2.31</td>\n",
       "      <td>0.0</td>\n",
       "      <td>0.538</td>\n",
       "      <td>6.575</td>\n",
       "      <td>65.2</td>\n",
       "      <td>4.0900</td>\n",
       "      <td>1.0</td>\n",
       "      <td>296.0</td>\n",
       "      <td>15.3</td>\n",
       "      <td>396.90</td>\n",
       "      <td>4.98</td>\n",
       "    </tr>\n",
       "    <tr>\n",
       "      <th>1</th>\n",
       "      <td>0.02731</td>\n",
       "      <td>0.0</td>\n",
       "      <td>7.07</td>\n",
       "      <td>0.0</td>\n",
       "      <td>0.469</td>\n",
       "      <td>6.421</td>\n",
       "      <td>78.9</td>\n",
       "      <td>4.9671</td>\n",
       "      <td>2.0</td>\n",
       "      <td>242.0</td>\n",
       "      <td>17.8</td>\n",
       "      <td>396.90</td>\n",
       "      <td>9.14</td>\n",
       "    </tr>\n",
       "    <tr>\n",
       "      <th>2</th>\n",
       "      <td>0.02729</td>\n",
       "      <td>0.0</td>\n",
       "      <td>7.07</td>\n",
       "      <td>0.0</td>\n",
       "      <td>0.469</td>\n",
       "      <td>7.185</td>\n",
       "      <td>61.1</td>\n",
       "      <td>4.9671</td>\n",
       "      <td>2.0</td>\n",
       "      <td>242.0</td>\n",
       "      <td>17.8</td>\n",
       "      <td>392.83</td>\n",
       "      <td>4.03</td>\n",
       "    </tr>\n",
       "    <tr>\n",
       "      <th>3</th>\n",
       "      <td>0.03237</td>\n",
       "      <td>0.0</td>\n",
       "      <td>2.18</td>\n",
       "      <td>0.0</td>\n",
       "      <td>0.458</td>\n",
       "      <td>6.998</td>\n",
       "      <td>45.8</td>\n",
       "      <td>6.0622</td>\n",
       "      <td>3.0</td>\n",
       "      <td>222.0</td>\n",
       "      <td>18.7</td>\n",
       "      <td>394.63</td>\n",
       "      <td>2.94</td>\n",
       "    </tr>\n",
       "    <tr>\n",
       "      <th>4</th>\n",
       "      <td>0.06905</td>\n",
       "      <td>0.0</td>\n",
       "      <td>2.18</td>\n",
       "      <td>0.0</td>\n",
       "      <td>0.458</td>\n",
       "      <td>7.147</td>\n",
       "      <td>54.2</td>\n",
       "      <td>6.0622</td>\n",
       "      <td>3.0</td>\n",
       "      <td>222.0</td>\n",
       "      <td>18.7</td>\n",
       "      <td>396.90</td>\n",
       "      <td>5.33</td>\n",
       "    </tr>\n",
       "  </tbody>\n",
       "</table>\n",
       "</div>"
      ],
      "text/plain": [
       "      CRIM    ZN  INDUS  CHAS    NOX     RM   AGE     DIS  RAD    TAX  \\\n",
       "0  0.00632  18.0   2.31   0.0  0.538  6.575  65.2  4.0900  1.0  296.0   \n",
       "1  0.02731   0.0   7.07   0.0  0.469  6.421  78.9  4.9671  2.0  242.0   \n",
       "2  0.02729   0.0   7.07   0.0  0.469  7.185  61.1  4.9671  2.0  242.0   \n",
       "3  0.03237   0.0   2.18   0.0  0.458  6.998  45.8  6.0622  3.0  222.0   \n",
       "4  0.06905   0.0   2.18   0.0  0.458  7.147  54.2  6.0622  3.0  222.0   \n",
       "\n",
       "   PTRATIO       B  LSTAT  \n",
       "0     15.3  396.90   4.98  \n",
       "1     17.8  396.90   9.14  \n",
       "2     17.8  392.83   4.03  \n",
       "3     18.7  394.63   2.94  \n",
       "4     18.7  396.90   5.33  "
      ]
     },
     "execution_count": 5,
     "metadata": {},
     "output_type": "execute_result"
    }
   ],
   "source": [
    "data=pd.DataFrame(boston.data, columns = boston.feature_names)\n",
    "data.head()"
   ]
  },
  {
   "cell_type": "code",
   "execution_count": 6,
   "id": "22f2e222",
   "metadata": {},
   "outputs": [],
   "source": [
    "y = boston.target"
   ]
  },
  {
   "cell_type": "code",
   "execution_count": 7,
   "id": "8fa0e226",
   "metadata": {},
   "outputs": [
    {
     "name": "stdout",
     "output_type": "stream",
     "text": [
      ".. _boston_dataset:\n",
      "\n",
      "Boston house prices dataset\n",
      "---------------------------\n",
      "\n",
      "**Data Set Characteristics:**  \n",
      "\n",
      "    :Number of Instances: 506 \n",
      "\n",
      "    :Number of Attributes: 13 numeric/categorical predictive. Median Value (attribute 14) is usually the target.\n",
      "\n",
      "    :Attribute Information (in order):\n",
      "        - CRIM     per capita crime rate by town\n",
      "        - ZN       proportion of residential land zoned for lots over 25,000 sq.ft.\n",
      "        - INDUS    proportion of non-retail business acres per town\n",
      "        - CHAS     Charles River dummy variable (= 1 if tract bounds river; 0 otherwise)\n",
      "        - NOX      nitric oxides concentration (parts per 10 million)\n",
      "        - RM       average number of rooms per dwelling\n",
      "        - AGE      proportion of owner-occupied units built prior to 1940\n",
      "        - DIS      weighted distances to five Boston employment centres\n",
      "        - RAD      index of accessibility to radial highways\n",
      "        - TAX      full-value property-tax rate per $10,000\n",
      "        - PTRATIO  pupil-teacher ratio by town\n",
      "        - B        1000(Bk - 0.63)^2 where Bk is the proportion of black people by town\n",
      "        - LSTAT    % lower status of the population\n",
      "        - MEDV     Median value of owner-occupied homes in $1000's\n",
      "\n",
      "    :Missing Attribute Values: None\n",
      "\n",
      "    :Creator: Harrison, D. and Rubinfeld, D.L.\n",
      "\n",
      "This is a copy of UCI ML housing dataset.\n",
      "https://archive.ics.uci.edu/ml/machine-learning-databases/housing/\n",
      "\n",
      "\n",
      "This dataset was taken from the StatLib library which is maintained at Carnegie Mellon University.\n",
      "\n",
      "The Boston house-price data of Harrison, D. and Rubinfeld, D.L. 'Hedonic\n",
      "prices and the demand for clean air', J. Environ. Economics & Management,\n",
      "vol.5, 81-102, 1978.   Used in Belsley, Kuh & Welsch, 'Regression diagnostics\n",
      "...', Wiley, 1980.   N.B. Various transformations are used in the table on\n",
      "pages 244-261 of the latter.\n",
      "\n",
      "The Boston house-price data has been used in many machine learning papers that address regression\n",
      "problems.   \n",
      "     \n",
      ".. topic:: References\n",
      "\n",
      "   - Belsley, Kuh & Welsch, 'Regression diagnostics: Identifying Influential Data and Sources of Collinearity', Wiley, 1980. 244-261.\n",
      "   - Quinlan,R. (1993). Combining Instance-Based and Model-Based Learning. In Proceedings on the Tenth International Conference of Machine Learning, 236-243, University of Massachusetts, Amherst. Morgan Kaufmann.\n",
      "\n"
     ]
    }
   ],
   "source": [
    "print(boston.DESCR)"
   ]
  },
  {
   "attachments": {
    "image.png": {
     "image/png": "[encoded data removed]"
    }
   },
   "cell_type": "markdown",
   "id": "60e15b6f",
   "metadata": {},
   "source": [
    "![image.png](attachment:image.png)"
   ]
  },
  {
   "cell_type": "code",
   "execution_count": 8,
   "id": "fdfb086d",
   "metadata": {},
   "outputs": [
    {
     "name": "stdout",
     "output_type": "stream",
     "text": [
      "<class 'pandas.core.frame.DataFrame'>\n",
      "RangeIndex: 506 entries, 0 to 505\n",
      "Data columns (total 13 columns):\n",
      " #   Column   Non-Null Count  Dtype  \n",
      "---  ------   --------------  -----  \n",
      " 0   CRIM     506 non-null    float64\n",
      " 1   ZN       506 non-null    float64\n",
      " 2   INDUS    506 non-null    float64\n",
      " 3   CHAS     506 non-null    float64\n",
      " 4   NOX      506 non-null    float64\n",
      " 5   RM       506 non-null    float64\n",
      " 6   AGE      506 non-null    float64\n",
      " 7   DIS      506 non-null    float64\n",
      " 8   RAD      506 non-null    float64\n",
      " 9   TAX      506 non-null    float64\n",
      " 10  PTRATIO  506 non-null    float64\n",
      " 11  B        506 non-null    float64\n",
      " 12  LSTAT    506 non-null    float64\n",
      "dtypes: float64(13)\n",
      "memory usage: 51.5 KB\n"
     ]
    }
   ],
   "source": [
    "data.info()"
   ]
  },
  {
   "cell_type": "markdown",
   "id": "1e0a8bed",
   "metadata": {},
   "source": [
    "#### Train, Test로 분리"
   ]
  },
  {
   "cell_type": "code",
   "execution_count": 9,
   "id": "bdcee8d5",
   "metadata": {},
   "outputs": [],
   "source": [
    "from sklearn.model_selection import train_test_split"
   ]
  },
  {
   "cell_type": "code",
   "execution_count": 10,
   "id": "a6192ed6",
   "metadata": {},
   "outputs": [],
   "source": [
    "X_train, X_test, y_train, y_test = train_test_split(data, y, \n",
    "                                                    test_size = 0.3, \n",
    "                                                    random_state = 1)"
   ]
  },
  {
   "cell_type": "code",
   "execution_count": 11,
   "id": "e27ec938",
   "metadata": {},
   "outputs": [
    {
     "name": "stdout",
     "output_type": "stream",
     "text": [
      "(354, 13)\n",
      "(152, 13)\n",
      "(354,)\n",
      "(152,)\n"
     ]
    }
   ],
   "source": [
    "print(X_train.shape)\n",
    "print(X_test.shape)\n",
    "print(y_train.shape)\n",
    "print(y_test.shape)"
   ]
  },
  {
   "cell_type": "markdown",
   "id": "9a655344",
   "metadata": {},
   "source": [
    "#### LinearRegression"
   ]
  },
  {
   "cell_type": "code",
   "execution_count": 12,
   "id": "49de9929",
   "metadata": {},
   "outputs": [],
   "source": [
    "from sklearn.linear_model import LinearRegression"
   ]
  },
  {
   "cell_type": "code",
   "execution_count": 13,
   "id": "839d685a",
   "metadata": {},
   "outputs": [],
   "source": [
    "l_model = LinearRegression()"
   ]
  },
  {
   "cell_type": "code",
   "execution_count": 14,
   "id": "847cfd56",
   "metadata": {},
   "outputs": [
    {
     "data": {
      "text/plain": [
       "LinearRegression()"
      ]
     },
     "execution_count": 14,
     "metadata": {},
     "output_type": "execute_result"
    }
   ],
   "source": [
    "l_model.fit(X_train, y_train)"
   ]
  },
  {
   "cell_type": "code",
   "execution_count": 15,
   "id": "2867d46e",
   "metadata": {},
   "outputs": [
    {
     "data": {
      "text/plain": [
       "0.7836295385076281"
      ]
     },
     "execution_count": 15,
     "metadata": {},
     "output_type": "execute_result"
    }
   ],
   "source": [
    "# 평가\n",
    "l_model.score(X_test, y_test) # R square : 적합한 정도"
   ]
  },
  {
   "cell_type": "code",
   "execution_count": 16,
   "id": "19525ccf",
   "metadata": {},
   "outputs": [
    {
     "name": "stdout",
     "output_type": "stream",
     "text": [
      "[-9.85424717e-02  6.07841138e-02  5.91715401e-02  2.43955988e+00\n",
      " -2.14699650e+01  2.79581385e+00  3.57459778e-03 -1.51627218e+00\n",
      "  3.07541745e-01 -1.12800166e-02 -1.00546640e+00  6.45018446e-03\n",
      " -5.68834539e-01]\n"
     ]
    }
   ],
   "source": [
    "print(l_model.coef_) #가중치 == 컬럼의 개수 = 특성의 개수"
   ]
  },
  {
   "cell_type": "code",
   "execution_count": 17,
   "id": "29f1b124",
   "metadata": {},
   "outputs": [
    {
     "name": "stdout",
     "output_type": "stream",
     "text": [
      "46.396493871823864\n"
     ]
    }
   ],
   "source": [
    "print(l_model.intercept_) # 절편"
   ]
  },
  {
   "cell_type": "markdown",
   "id": "f36e6fdf",
   "metadata": {},
   "source": [
    "#### 특성확장"
   ]
  },
  {
   "cell_type": "code",
   "execution_count": 18,
   "id": "7c948ea2",
   "metadata": {},
   "outputs": [],
   "source": [
    "ex_X_train = X_train.copy()"
   ]
  },
  {
   "cell_type": "code",
   "execution_count": 19,
   "id": "84d70593",
   "metadata": {
    "scrolled": false
   },
   "outputs": [
    {
     "name": "stdout",
     "output_type": "stream",
     "text": [
      "CRIM\n",
      "ZN\n",
      "INDUS\n",
      "CHAS\n",
      "NOX\n",
      "RM\n",
      "AGE\n",
      "DIS\n",
      "RAD\n",
      "TAX\n",
      "PTRATIO\n",
      "B\n",
      "LSTAT\n"
     ]
    }
   ],
   "source": [
    "for i in ex_X_train.columns:\n",
    "    print(i)"
   ]
  },
  {
   "cell_type": "code",
   "execution_count": 20,
   "id": "0b051bd9",
   "metadata": {},
   "outputs": [
    {
     "name": "stderr",
     "output_type": "stream",
     "text": [
      "C:\\Users\\smhrd\\AppData\\Local\\Temp/ipykernel_6208/2765962757.py:3: PerformanceWarning: DataFrame is highly fragmented.  This is usually the result of calling `frame.insert` many times, which has poor performance.  Consider joining all columns at once using pd.concat(axis=1) instead.  To get a de-fragmented frame, use `newframe = frame.copy()`\n",
      "  ex_X_train[j+ '*'+i]=X_train[j]*X_train[i]\n"
     ]
    }
   ],
   "source": [
    "for j in X_train.columns: # 총 몇번이 반복되는걸까?\n",
    "    for i in X_train.columns:\n",
    "        ex_X_train[j+ '*'+i]=X_train[j]*X_train[i]"
   ]
  },
  {
   "cell_type": "code",
   "execution_count": 21,
   "id": "738c9cc4",
   "metadata": {},
   "outputs": [
    {
     "data": {
      "text/html": [
       "<div>\n",
       "<style scoped>\n",
       "    .dataframe tbody tr th:only-of-type {\n",
       "        vertical-align: middle;\n",
       "    }\n",
       "\n",
       "    .dataframe tbody tr th {\n",
       "        vertical-align: top;\n",
       "    }\n",
       "\n",
       "    .dataframe thead th {\n",
       "        text-align: right;\n",
       "    }\n",
       "</style>\n",
       "<table border=\"1\" class=\"dataframe\">\n",
       "  <thead>\n",
       "    <tr style=\"text-align: right;\">\n",
       "      <th></th>\n",
       "      <th>CRIM</th>\n",
       "      <th>ZN</th>\n",
       "      <th>INDUS</th>\n",
       "      <th>CHAS</th>\n",
       "      <th>NOX</th>\n",
       "      <th>RM</th>\n",
       "      <th>AGE</th>\n",
       "      <th>DIS</th>\n",
       "      <th>RAD</th>\n",
       "      <th>TAX</th>\n",
       "      <th>...</th>\n",
       "      <th>LSTAT*CHAS</th>\n",
       "      <th>LSTAT*NOX</th>\n",
       "      <th>LSTAT*RM</th>\n",
       "      <th>LSTAT*AGE</th>\n",
       "      <th>LSTAT*DIS</th>\n",
       "      <th>LSTAT*RAD</th>\n",
       "      <th>LSTAT*TAX</th>\n",
       "      <th>LSTAT*PTRATIO</th>\n",
       "      <th>LSTAT*B</th>\n",
       "      <th>LSTAT*LSTAT</th>\n",
       "    </tr>\n",
       "  </thead>\n",
       "  <tbody>\n",
       "    <tr>\n",
       "      <th>13</th>\n",
       "      <td>0.62976</td>\n",
       "      <td>0.0</td>\n",
       "      <td>8.14</td>\n",
       "      <td>0.0</td>\n",
       "      <td>0.538</td>\n",
       "      <td>5.949</td>\n",
       "      <td>61.8</td>\n",
       "      <td>4.7075</td>\n",
       "      <td>4.0</td>\n",
       "      <td>307.0</td>\n",
       "      <td>...</td>\n",
       "      <td>0.0</td>\n",
       "      <td>4.44388</td>\n",
       "      <td>49.13874</td>\n",
       "      <td>510.468</td>\n",
       "      <td>38.883950</td>\n",
       "      <td>33.04</td>\n",
       "      <td>2535.82</td>\n",
       "      <td>173.460</td>\n",
       "      <td>3278.3940</td>\n",
       "      <td>68.2276</td>\n",
       "    </tr>\n",
       "    <tr>\n",
       "      <th>61</th>\n",
       "      <td>0.17171</td>\n",
       "      <td>25.0</td>\n",
       "      <td>5.13</td>\n",
       "      <td>0.0</td>\n",
       "      <td>0.453</td>\n",
       "      <td>5.966</td>\n",
       "      <td>93.4</td>\n",
       "      <td>6.8185</td>\n",
       "      <td>8.0</td>\n",
       "      <td>284.0</td>\n",
       "      <td>...</td>\n",
       "      <td>0.0</td>\n",
       "      <td>6.54132</td>\n",
       "      <td>86.14904</td>\n",
       "      <td>1348.696</td>\n",
       "      <td>98.459140</td>\n",
       "      <td>115.52</td>\n",
       "      <td>4100.96</td>\n",
       "      <td>284.468</td>\n",
       "      <td>5459.4752</td>\n",
       "      <td>208.5136</td>\n",
       "    </tr>\n",
       "    <tr>\n",
       "      <th>377</th>\n",
       "      <td>9.82349</td>\n",
       "      <td>0.0</td>\n",
       "      <td>18.10</td>\n",
       "      <td>0.0</td>\n",
       "      <td>0.671</td>\n",
       "      <td>6.794</td>\n",
       "      <td>98.8</td>\n",
       "      <td>1.3580</td>\n",
       "      <td>24.0</td>\n",
       "      <td>666.0</td>\n",
       "      <td>...</td>\n",
       "      <td>0.0</td>\n",
       "      <td>14.25204</td>\n",
       "      <td>144.30456</td>\n",
       "      <td>2098.512</td>\n",
       "      <td>28.843920</td>\n",
       "      <td>509.76</td>\n",
       "      <td>14145.84</td>\n",
       "      <td>429.048</td>\n",
       "      <td>8430.1560</td>\n",
       "      <td>451.1376</td>\n",
       "    </tr>\n",
       "    <tr>\n",
       "      <th>39</th>\n",
       "      <td>0.02763</td>\n",
       "      <td>75.0</td>\n",
       "      <td>2.95</td>\n",
       "      <td>0.0</td>\n",
       "      <td>0.428</td>\n",
       "      <td>6.595</td>\n",
       "      <td>21.8</td>\n",
       "      <td>5.4011</td>\n",
       "      <td>3.0</td>\n",
       "      <td>252.0</td>\n",
       "      <td>...</td>\n",
       "      <td>0.0</td>\n",
       "      <td>1.84896</td>\n",
       "      <td>28.49040</td>\n",
       "      <td>94.176</td>\n",
       "      <td>23.332752</td>\n",
       "      <td>12.96</td>\n",
       "      <td>1088.64</td>\n",
       "      <td>79.056</td>\n",
       "      <td>1709.1216</td>\n",
       "      <td>18.6624</td>\n",
       "    </tr>\n",
       "    <tr>\n",
       "      <th>365</th>\n",
       "      <td>4.55587</td>\n",
       "      <td>0.0</td>\n",
       "      <td>18.10</td>\n",
       "      <td>0.0</td>\n",
       "      <td>0.718</td>\n",
       "      <td>3.561</td>\n",
       "      <td>87.9</td>\n",
       "      <td>1.6132</td>\n",
       "      <td>24.0</td>\n",
       "      <td>666.0</td>\n",
       "      <td>...</td>\n",
       "      <td>0.0</td>\n",
       "      <td>5.11216</td>\n",
       "      <td>25.35432</td>\n",
       "      <td>625.848</td>\n",
       "      <td>11.485984</td>\n",
       "      <td>170.88</td>\n",
       "      <td>4741.92</td>\n",
       "      <td>143.824</td>\n",
       "      <td>2525.4640</td>\n",
       "      <td>50.6944</td>\n",
       "    </tr>\n",
       "  </tbody>\n",
       "</table>\n",
       "<p>5 rows × 182 columns</p>\n",
       "</div>"
      ],
      "text/plain": [
       "        CRIM    ZN  INDUS  CHAS    NOX     RM   AGE     DIS   RAD    TAX  ...  \\\n",
       "13   0.62976   0.0   8.14   0.0  0.538  5.949  61.8  4.7075   4.0  307.0  ...   \n",
       "61   0.17171  25.0   5.13   0.0  0.453  5.966  93.4  6.8185   8.0  284.0  ...   \n",
       "377  9.82349   0.0  18.10   0.0  0.671  6.794  98.8  1.3580  24.0  666.0  ...   \n",
       "39   0.02763  75.0   2.95   0.0  0.428  6.595  21.8  5.4011   3.0  252.0  ...   \n",
       "365  4.55587   0.0  18.10   0.0  0.718  3.561  87.9  1.6132  24.0  666.0  ...   \n",
       "\n",
       "     LSTAT*CHAS  LSTAT*NOX   LSTAT*RM  LSTAT*AGE  LSTAT*DIS  LSTAT*RAD  \\\n",
       "13          0.0    4.44388   49.13874    510.468  38.883950      33.04   \n",
       "61          0.0    6.54132   86.14904   1348.696  98.459140     115.52   \n",
       "377         0.0   14.25204  144.30456   2098.512  28.843920     509.76   \n",
       "39          0.0    1.84896   28.49040     94.176  23.332752      12.96   \n",
       "365         0.0    5.11216   25.35432    625.848  11.485984     170.88   \n",
       "\n",
       "     LSTAT*TAX  LSTAT*PTRATIO    LSTAT*B  LSTAT*LSTAT  \n",
       "13     2535.82        173.460  3278.3940      68.2276  \n",
       "61     4100.96        284.468  5459.4752     208.5136  \n",
       "377   14145.84        429.048  8430.1560     451.1376  \n",
       "39     1088.64         79.056  1709.1216      18.6624  \n",
       "365    4741.92        143.824  2525.4640      50.6944  \n",
       "\n",
       "[5 rows x 182 columns]"
      ]
     },
     "execution_count": 21,
     "metadata": {},
     "output_type": "execute_result"
    }
   ],
   "source": [
    "ex_X_train.head()"
   ]
  },
  {
   "cell_type": "code",
   "execution_count": 22,
   "id": "af8b2a6a",
   "metadata": {},
   "outputs": [
    {
     "data": {
      "text/plain": [
       "(354, 182)"
      ]
     },
     "execution_count": 22,
     "metadata": {},
     "output_type": "execute_result"
    }
   ],
   "source": [
    "ex_X_train.shape"
   ]
  },
  {
   "cell_type": "code",
   "execution_count": 23,
   "id": "e7c01756",
   "metadata": {},
   "outputs": [
    {
     "name": "stderr",
     "output_type": "stream",
     "text": [
      "C:\\Users\\smhrd\\AppData\\Local\\Temp/ipykernel_6208/2004598971.py:4: PerformanceWarning: DataFrame is highly fragmented.  This is usually the result of calling `frame.insert` many times, which has poor performance.  Consider joining all columns at once using pd.concat(axis=1) instead.  To get a de-fragmented frame, use `newframe = frame.copy()`\n",
      "  ex_X_test[j+ '*'+i]=X_test[j]*X_test[i]\n"
     ]
    }
   ],
   "source": [
    "ex_X_test = X_test.copy()\n",
    "for j in X_test.columns: # 총 몇번이 반복되는걸까?\n",
    "    for i in X_test.columns:\n",
    "        ex_X_test[j+ '*'+i]=X_test[j]*X_test[i]"
   ]
  },
  {
   "cell_type": "code",
   "execution_count": 24,
   "id": "f0f341f2",
   "metadata": {},
   "outputs": [
    {
     "data": {
      "text/plain": [
       "LinearRegression()"
      ]
     },
     "execution_count": 24,
     "metadata": {},
     "output_type": "execute_result"
    }
   ],
   "source": [
    "l_model.fit(ex_X_train, y_train)"
   ]
  },
  {
   "cell_type": "code",
   "execution_count": 25,
   "id": "844a9b0d",
   "metadata": {},
   "outputs": [
    {
     "data": {
      "text/plain": [
       "0.8043803930997194"
      ]
     },
     "execution_count": 25,
     "metadata": {},
     "output_type": "execute_result"
    }
   ],
   "source": [
    "l_model.score(ex_X_test, y_test)"
   ]
  },
  {
   "cell_type": "markdown",
   "id": "38e06796",
   "metadata": {},
   "source": [
    "#### Ridge"
   ]
  },
  {
   "cell_type": "code",
   "execution_count": 26,
   "id": "9220dc33",
   "metadata": {},
   "outputs": [],
   "source": [
    "from sklearn.linear_model import Ridge"
   ]
  },
  {
   "cell_type": "code",
   "execution_count": 27,
   "id": "b541cedf",
   "metadata": {},
   "outputs": [],
   "source": [
    "ridge_model = Ridge()"
   ]
  },
  {
   "cell_type": "code",
   "execution_count": 28,
   "id": "84db56c4",
   "metadata": {},
   "outputs": [
    {
     "data": {
      "text/plain": [
       "Ridge()"
      ]
     },
     "execution_count": 28,
     "metadata": {},
     "output_type": "execute_result"
    }
   ],
   "source": [
    "ridge_model.fit(ex_X_train,y_train)"
   ]
  },
  {
   "cell_type": "code",
   "execution_count": 30,
   "id": "a85cfb8d",
   "metadata": {},
   "outputs": [
    {
     "data": {
      "text/plain": [
       "0.8239994029608095"
      ]
     },
     "execution_count": 30,
     "metadata": {},
     "output_type": "execute_result"
    }
   ],
   "source": [
    "ridge_model.score(ex_X_test, y_test)"
   ]
  },
  {
   "cell_type": "markdown",
   "id": "65d17c4d",
   "metadata": {},
   "source": [
    "#### Ridge vs Lasso"
   ]
  },
  {
   "cell_type": "code",
   "execution_count": 32,
   "id": "7433e2b8",
   "metadata": {},
   "outputs": [],
   "source": [
    "from sklearn.linear_model import Lasso"
   ]
  },
  {
   "cell_type": "code",
   "execution_count": 33,
   "id": "e4dfdbde",
   "metadata": {},
   "outputs": [
    {
     "name": "stderr",
     "output_type": "stream",
     "text": [
      "C:\\Users\\smhrd\\anaconda3\\lib\\site-packages\\sklearn\\linear_model\\_ridge.py:147: LinAlgWarning: Ill-conditioned matrix (rcond=4.57206e-17): result may not be accurate.\n",
      "  return linalg.solve(A, Xy, sym_pos=True,\n",
      "C:\\Users\\smhrd\\anaconda3\\lib\\site-packages\\sklearn\\linear_model\\_coordinate_descent.py:530: ConvergenceWarning: Objective did not converge. You might want to increase the number of iterations. Duality gap: 1211.1689722450355, tolerance: 2.8740928389830507\n",
      "  model = cd_fast.enet_coordinate_descent(\n",
      "C:\\Users\\smhrd\\anaconda3\\lib\\site-packages\\sklearn\\linear_model\\_coordinate_descent.py:530: ConvergenceWarning: Objective did not converge. You might want to increase the number of iterations. Duality gap: 1391.0544800246391, tolerance: 2.8740928389830507\n",
      "  model = cd_fast.enet_coordinate_descent(\n",
      "C:\\Users\\smhrd\\anaconda3\\lib\\site-packages\\sklearn\\linear_model\\_coordinate_descent.py:530: ConvergenceWarning: Objective did not converge. You might want to increase the number of iterations. Duality gap: 1722.2667869768402, tolerance: 2.8740928389830507\n",
      "  model = cd_fast.enet_coordinate_descent(\n",
      "C:\\Users\\smhrd\\anaconda3\\lib\\site-packages\\sklearn\\linear_model\\_coordinate_descent.py:530: ConvergenceWarning: Objective did not converge. You might want to increase the number of iterations. Duality gap: 2576.6917014399883, tolerance: 2.8740928389830507\n",
      "  model = cd_fast.enet_coordinate_descent(\n"
     ]
    }
   ],
   "source": [
    "alpha_list = [0.001, 0.01, 0.1, 10, 100, 1000]\n",
    "\n",
    "r_coef_list = []\n",
    "l_coef_list = []\n",
    "\n",
    "for a in alpha_list:\n",
    "    ridge_model = Ridge(alpha = a)\n",
    "    lasso_model = Lasso(alpha = a)\n",
    "    \n",
    "    ridge_model.fit(ex_X_train, y_train)\n",
    "    lasso_model.fit(ex_X_train, y_train)\n",
    "    \n",
    "    r_coef_list.append(ridge_model.coef_)\n",
    "    l_coef_list.append(lasso_model.coef_)"
   ]
  },
  {
   "cell_type": "code",
   "execution_count": 34,
   "id": "22b2e3a9",
   "metadata": {},
   "outputs": [
    {
     "data": {
      "text/plain": [
       "6"
      ]
     },
     "execution_count": 34,
     "metadata": {},
     "output_type": "execute_result"
    }
   ],
   "source": [
    "len(r_coef_list)"
   ]
  },
  {
   "cell_type": "code",
   "execution_count": 35,
   "id": "9ea3459f",
   "metadata": {},
   "outputs": [
    {
     "data": {
      "text/plain": [
       "6"
      ]
     },
     "execution_count": 35,
     "metadata": {},
     "output_type": "execute_result"
    }
   ],
   "source": [
    "len(l_coef_list)"
   ]
  },
  {
   "cell_type": "code",
   "execution_count": 36,
   "id": "4f21d6a9",
   "metadata": {
    "scrolled": true
   },
   "outputs": [
    {
     "data": {
      "text/plain": [
       "array([-2.96794630e+00,  4.40672170e-01, -4.97153974e+00,  3.77907262e+01,\n",
       "        4.27237399e+01,  2.25141743e+01,  1.11012131e+00, -9.64573443e+00,\n",
       "       -5.11285201e-01,  1.16692308e-01,  3.30379822e+00,  7.53175537e-02,\n",
       "        9.39215885e-01,  5.63109559e-03,  5.88188889e-02,  7.24854574e-02,\n",
       "        1.17493416e+00, -9.79293999e-01,  1.56968757e-01, -4.50205423e-03,\n",
       "       -3.86814493e-02,  3.63637187e-02, -5.89593737e-03,  1.44195050e-01,\n",
       "       -1.92417332e-05,  1.40067793e-02,  5.88188947e-02, -4.30502053e-04,\n",
       "       -2.49369771e-03, -7.27163725e-02, -8.04039192e-01,  8.45322452e-03,\n",
       "        3.48635761e-04, -1.01194594e-02,  6.68477995e-04,  2.99119055e-04,\n",
       "        3.59404610e-03,  5.81894142e-05, -3.02804457e-03,  7.24852837e-02,\n",
       "       -2.49369365e-03,  3.05929929e-02, -1.46580283e-01,  1.22890099e+00,\n",
       "        1.05272463e-01,  1.96096703e-03,  8.38414735e-02, -1.71587818e-02,\n",
       "        7.03460060e-04,  1.40663695e-02,  4.94887238e-04, -8.43058188e-03,\n",
       "        1.17493416e+00, -7.27163731e-02, -1.46580283e-01,  3.77907262e+01,\n",
       "       -2.62059355e+01, -2.87138635e+00,  1.73981989e-03,  6.84643490e-01,\n",
       "       -4.08140785e-01,  3.10641091e-02, -7.58243186e-01,  4.46546580e-03,\n",
       "       -1.47165497e-01, -9.79294094e-01, -8.04039193e-01,  1.22890099e+00,\n",
       "       -2.62059355e+01, -4.10531207e-01,  5.54195840e+00, -2.66668721e-01,\n",
       "        9.98237358e+00,  1.01532190e-02,  3.79976888e-02, -6.29230695e+00,\n",
       "        9.53095626e-03,  9.07285934e-01,  1.56969113e-01,  8.45319778e-03,\n",
       "        1.05272460e-01, -2.87138635e+00,  5.54195840e+00,  4.05277712e-02,\n",
       "       -4.75099099e-02, -5.67287811e-02, -3.59474456e-02, -1.20780984e-02,\n",
       "       -1.68295287e-01, -8.81954977e-04, -1.25392635e-01, -4.50499165e-03,\n",
       "        3.48500211e-04,  1.96126138e-03,  1.73981909e-03, -2.66668728e-01,\n",
       "       -4.75099807e-02,  7.50348022e-04, -1.15004361e-04,  6.54738246e-03,\n",
       "       -1.58292003e-04, -6.60057518e-04, -3.37596675e-04, -6.33582525e-03,\n",
       "       -3.86814417e-02, -1.01194367e-02,  8.38414713e-02,  6.84643490e-01,\n",
       "        9.98237358e+00, -5.67287881e-02, -1.15004532e-04,  5.69585388e-01,\n",
       "       -1.05732559e-01, -1.52151972e-03, -1.17149194e-01, -1.19411758e-03,\n",
       "        2.54551757e-02,  3.63637076e-02,  6.68474321e-04, -1.71588661e-02,\n",
       "       -4.08140785e-01,  1.01532195e-02, -3.59474378e-02,  6.54770684e-03,\n",
       "       -1.05732557e-01, -1.88023239e-01,  4.82353764e-03,  2.15537645e-02,\n",
       "        7.93282611e-05, -9.41248374e-03, -5.91465502e-03,  2.98458705e-04,\n",
       "        7.00796390e-04,  3.10641085e-02,  3.79976584e-02, -1.20777832e-02,\n",
       "       -1.54193518e-04, -1.52156521e-03,  4.82285190e-03, -7.54066368e-05,\n",
       "        1.76052909e-03, -5.98761110e-05, -8.20000836e-04,  1.44194985e-01,\n",
       "        3.59403252e-03,  1.40663566e-02, -7.58243187e-01, -6.29230695e+00,\n",
       "       -1.68295287e-01, -6.59941315e-04, -1.17149180e-01,  2.15537726e-02,\n",
       "        1.76052876e-03,  6.79982689e-02,  1.87748970e-03,  1.99507314e-02,\n",
       "       -1.88250281e-05,  5.99008529e-05,  4.95409513e-04,  4.46544820e-03,\n",
       "        9.53095008e-03, -8.82064484e-04, -3.39156567e-04, -1.19421042e-03,\n",
       "        7.92384028e-05, -6.05143556e-05,  1.87744775e-03, -3.18826291e-05,\n",
       "       -3.09146208e-04,  1.40068109e-02, -3.02806538e-03, -8.43069320e-03,\n",
       "       -1.47165497e-01,  9.07285934e-01, -1.25392648e-01, -6.33639071e-03,\n",
       "        2.54551583e-02, -9.41280499e-03, -9.07655103e-04,  1.99503045e-02,\n",
       "       -2.97037748e-04,  1.55269922e-02])"
      ]
     },
     "execution_count": 36,
     "metadata": {},
     "output_type": "execute_result"
    }
   ],
   "source": [
    "r_coef_list[0]"
   ]
  },
  {
   "cell_type": "code",
   "execution_count": 37,
   "id": "0a26ecd5",
   "metadata": {},
   "outputs": [
    {
     "data": {
      "text/plain": [
       "array([[-2.96794630e+00, -3.08402924e+00, -2.66183560e+00,\n",
       "        -7.58614558e-02, -4.69519862e-03,  5.03515499e-04],\n",
       "       [ 4.40672170e-01,  4.14180274e-01,  3.14357236e-01,\n",
       "        -1.94213584e-01, -1.58360549e-01, -3.51651553e-02],\n",
       "       [-4.97153974e+00, -4.57650497e+00, -3.89382208e+00,\n",
       "        -2.30468891e-01,  7.06458471e-03,  4.05760366e-03],\n",
       "       ...,\n",
       "       [ 1.99503045e-02,  2.00615720e-02,  2.18769040e-02,\n",
       "         1.67186938e-02,  1.25866800e-02,  5.45238842e-03],\n",
       "       [-2.97037748e-04, -3.07551499e-04, -3.21996441e-04,\n",
       "        -3.15266587e-04, -2.92371892e-04, -8.52131381e-05],\n",
       "       [ 1.55269922e-02,  1.53796284e-02,  1.53795007e-02,\n",
       "         2.08191307e-02,  2.52359035e-02,  3.15149329e-02]])"
      ]
     },
     "execution_count": 37,
     "metadata": {},
     "output_type": "execute_result"
    }
   ],
   "source": [
    "np.array(r_coef_list).T"
   ]
  },
  {
   "cell_type": "code",
   "execution_count": 38,
   "id": "878e35e1",
   "metadata": {},
   "outputs": [
    {
     "data": {
      "text/plain": [
       "(182, 6)"
      ]
     },
     "execution_count": 38,
     "metadata": {},
     "output_type": "execute_result"
    }
   ],
   "source": [
    "np.array(r_coef_list).T.shape"
   ]
  },
  {
   "cell_type": "code",
   "execution_count": 39,
   "id": "ac84bd95",
   "metadata": {},
   "outputs": [],
   "source": [
    "rid_df = pd.DataFrame(np.array(r_coef_list).T, columns = alpha_list)"
   ]
  },
  {
   "cell_type": "code",
   "execution_count": 41,
   "id": "56a80732",
   "metadata": {},
   "outputs": [
    {
     "data": {
      "text/html": [
       "<div>\n",
       "<style scoped>\n",
       "    .dataframe tbody tr th:only-of-type {\n",
       "        vertical-align: middle;\n",
       "    }\n",
       "\n",
       "    .dataframe tbody tr th {\n",
       "        vertical-align: top;\n",
       "    }\n",
       "\n",
       "    .dataframe thead th {\n",
       "        text-align: right;\n",
       "    }\n",
       "</style>\n",
       "<table border=\"1\" class=\"dataframe\">\n",
       "  <thead>\n",
       "    <tr style=\"text-align: right;\">\n",
       "      <th></th>\n",
       "      <th>0.001</th>\n",
       "      <th>0.010</th>\n",
       "      <th>0.100</th>\n",
       "      <th>10.000</th>\n",
       "      <th>100.000</th>\n",
       "      <th>1000.000</th>\n",
       "    </tr>\n",
       "  </thead>\n",
       "  <tbody>\n",
       "    <tr>\n",
       "      <th>0</th>\n",
       "      <td>-2.967946</td>\n",
       "      <td>-3.084029</td>\n",
       "      <td>-2.661836</td>\n",
       "      <td>-0.075861</td>\n",
       "      <td>-0.004695</td>\n",
       "      <td>0.000504</td>\n",
       "    </tr>\n",
       "    <tr>\n",
       "      <th>1</th>\n",
       "      <td>0.440672</td>\n",
       "      <td>0.414180</td>\n",
       "      <td>0.314357</td>\n",
       "      <td>-0.194214</td>\n",
       "      <td>-0.158361</td>\n",
       "      <td>-0.035165</td>\n",
       "    </tr>\n",
       "    <tr>\n",
       "      <th>2</th>\n",
       "      <td>-4.971540</td>\n",
       "      <td>-4.576505</td>\n",
       "      <td>-3.893822</td>\n",
       "      <td>-0.230469</td>\n",
       "      <td>0.007065</td>\n",
       "      <td>0.004058</td>\n",
       "    </tr>\n",
       "    <tr>\n",
       "      <th>3</th>\n",
       "      <td>37.790726</td>\n",
       "      <td>27.202270</td>\n",
       "      <td>7.193797</td>\n",
       "      <td>0.101728</td>\n",
       "      <td>0.005391</td>\n",
       "      <td>0.000041</td>\n",
       "    </tr>\n",
       "    <tr>\n",
       "      <th>4</th>\n",
       "      <td>42.723740</td>\n",
       "      <td>6.367370</td>\n",
       "      <td>0.419346</td>\n",
       "      <td>0.029559</td>\n",
       "      <td>0.005779</td>\n",
       "      <td>0.000777</td>\n",
       "    </tr>\n",
       "  </tbody>\n",
       "</table>\n",
       "</div>"
      ],
      "text/plain": [
       "    0.001      0.010     0.100     10.000    100.000   1000.000\n",
       "0  -2.967946  -3.084029 -2.661836 -0.075861 -0.004695  0.000504\n",
       "1   0.440672   0.414180  0.314357 -0.194214 -0.158361 -0.035165\n",
       "2  -4.971540  -4.576505 -3.893822 -0.230469  0.007065  0.004058\n",
       "3  37.790726  27.202270  7.193797  0.101728  0.005391  0.000041\n",
       "4  42.723740   6.367370  0.419346  0.029559  0.005779  0.000777"
      ]
     },
     "execution_count": 41,
     "metadata": {},
     "output_type": "execute_result"
    }
   ],
   "source": [
    "rid_df.head()"
   ]
  },
  {
   "cell_type": "code",
   "execution_count": 42,
   "id": "0fa69279",
   "metadata": {},
   "outputs": [],
   "source": [
    "lass_df = pd.DataFrame(np.array(l_coef_list).T, columns = alpha_list)"
   ]
  },
  {
   "cell_type": "code",
   "execution_count": 43,
   "id": "cd7aa839",
   "metadata": {},
   "outputs": [
    {
     "data": {
      "text/html": [
       "<div>\n",
       "<style scoped>\n",
       "    .dataframe tbody tr th:only-of-type {\n",
       "        vertical-align: middle;\n",
       "    }\n",
       "\n",
       "    .dataframe tbody tr th {\n",
       "        vertical-align: top;\n",
       "    }\n",
       "\n",
       "    .dataframe thead th {\n",
       "        text-align: right;\n",
       "    }\n",
       "</style>\n",
       "<table border=\"1\" class=\"dataframe\">\n",
       "  <thead>\n",
       "    <tr style=\"text-align: right;\">\n",
       "      <th></th>\n",
       "      <th>0.001</th>\n",
       "      <th>0.010</th>\n",
       "      <th>0.100</th>\n",
       "      <th>10.000</th>\n",
       "      <th>100.000</th>\n",
       "      <th>1000.000</th>\n",
       "    </tr>\n",
       "  </thead>\n",
       "  <tbody>\n",
       "    <tr>\n",
       "      <th>0</th>\n",
       "      <td>-1.049528</td>\n",
       "      <td>-0.868957</td>\n",
       "      <td>0.000000</td>\n",
       "      <td>0.0</td>\n",
       "      <td>-0.0</td>\n",
       "      <td>-0.0</td>\n",
       "    </tr>\n",
       "    <tr>\n",
       "      <th>1</th>\n",
       "      <td>-0.188179</td>\n",
       "      <td>-0.173675</td>\n",
       "      <td>-0.042225</td>\n",
       "      <td>-0.0</td>\n",
       "      <td>0.0</td>\n",
       "      <td>0.0</td>\n",
       "    </tr>\n",
       "    <tr>\n",
       "      <th>2</th>\n",
       "      <td>0.458929</td>\n",
       "      <td>0.226905</td>\n",
       "      <td>0.000000</td>\n",
       "      <td>-0.0</td>\n",
       "      <td>-0.0</td>\n",
       "      <td>-0.0</td>\n",
       "    </tr>\n",
       "    <tr>\n",
       "      <th>3</th>\n",
       "      <td>26.852555</td>\n",
       "      <td>0.000000</td>\n",
       "      <td>0.000000</td>\n",
       "      <td>0.0</td>\n",
       "      <td>0.0</td>\n",
       "      <td>0.0</td>\n",
       "    </tr>\n",
       "    <tr>\n",
       "      <th>4</th>\n",
       "      <td>-0.000000</td>\n",
       "      <td>0.000000</td>\n",
       "      <td>0.000000</td>\n",
       "      <td>-0.0</td>\n",
       "      <td>-0.0</td>\n",
       "      <td>-0.0</td>\n",
       "    </tr>\n",
       "  </tbody>\n",
       "</table>\n",
       "</div>"
      ],
      "text/plain": [
       "    0.001     0.010     0.100     10.000    100.000   1000.000\n",
       "0  -1.049528 -0.868957  0.000000       0.0      -0.0      -0.0\n",
       "1  -0.188179 -0.173675 -0.042225      -0.0       0.0       0.0\n",
       "2   0.458929  0.226905  0.000000      -0.0      -0.0      -0.0\n",
       "3  26.852555  0.000000  0.000000       0.0       0.0       0.0\n",
       "4  -0.000000  0.000000  0.000000      -0.0      -0.0      -0.0"
      ]
     },
     "execution_count": 43,
     "metadata": {},
     "output_type": "execute_result"
    }
   ],
   "source": [
    "lass_df.head()"
   ]
  },
  {
   "cell_type": "code",
   "execution_count": 58,
   "id": "b4189a79",
   "metadata": {},
   "outputs": [],
   "source": [
    "def plot(coef, alpha):\n",
    "    plt.figure(figsize = (6,3))\n",
    "    plt.ylim([-13,5])\n",
    "    plt.bar(ex_X_train.columns, coef)\n",
    "    plt.title('alpha={}'.format(alpha))\n",
    "    plt.show()"
   ]
  },
  {
   "cell_type": "code",
   "execution_count": 54,
   "id": "f85b2f1c",
   "metadata": {},
   "outputs": [],
   "source": [
    "import matplotlib.pyplot as plt"
   ]
  },
  {
   "cell_type": "code",
   "execution_count": 59,
   "id": "ec84176c",
   "metadata": {},
   "outputs": [
    {
     "data": {
      "image/png": "[encoded data removed]",
      "text/plain": [
       "<Figure size 432x216 with 1 Axes>"
      ]
     },
     "metadata": {
      "needs_background": "light"
     },
     "output_type": "display_data"
    },
    {
     "data": {
      "image/png": "[encoded data removed]",
      "text/plain": [
       "<Figure size 432x216 with 1 Axes>"
      ]
     },
     "metadata": {
      "needs_background": "light"
     },
     "output_type": "display_data"
    },
    {
     "data": {
      "image/png": "[encoded data removed]",
      "text/plain": [
       "<Figure size 432x216 with 1 Axes>"
      ]
     },
     "metadata": {
      "needs_background": "light"
     },
     "output_type": "display_data"
    },
    {
     "data": {
      "image/png": "[encoded data removed]",
      "text/plain": [
       "<Figure size 432x216 with 1 Axes>"
      ]
     },
     "metadata": {
      "needs_background": "light"
     },
     "output_type": "display_data"
    },
    {
     "data": {
      "image/png": "[encoded data removed]",
      "text/plain": [
       "<Figure size 432x216 with 1 Axes>"
      ]
     },
     "metadata": {
      "needs_background": "light"
     },
     "output_type": "display_data"
    },
    {
     "data": {
      "image/png": "[encoded data removed]",
      "text/plain": [
       "<Figure size 432x216 with 1 Axes>"
      ]
     },
     "metadata": {
      "needs_background": "light"
     },
     "output_type": "display_data"
    }
   ],
   "source": [
    "cnt = 0\n",
    "for i in alpha_list:\n",
    "    plot(r_coef_list[cnt], i)\n",
    "    cnt += 1"
   ]
  },
  {
   "cell_type": "code",
   "execution_count": null,
   "id": "4592779b",
   "metadata": {},
   "outputs": [],
   "source": []
  },
  {
   "cell_type": "code",
   "execution_count": null,
   "id": "c694fdf4",
   "metadata": {},
   "outputs": [],
   "source": []
  },
  {
   "cell_type": "code",
   "execution_count": null,
   "id": "83e56ede",
   "metadata": {},
   "outputs": [],
   "source": []
  }
 ],
 "metadata": {
  "kernelspec": {
   "display_name": "Python 3 (ipykernel)",
   "language": "python",
   "name": "python3"
  },
  "language_info": {
   "codemirror_mode": {
    "name": "ipython",
    "version": 3
   },
   "file_extension": ".py",
   "mimetype": "text/x-python",
   "name": "python",
   "nbconvert_exporter": "python",
   "pygments_lexer": "ipython3",
   "version": "3.9.7"
  }
 },
 "nbformat": 4,
 "nbformat_minor": 5
}
