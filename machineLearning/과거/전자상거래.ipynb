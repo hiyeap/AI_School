{
 "cells": [
  {
   "cell_type": "code",
   "execution_count": 1,
   "id": "dc8e0421",
   "metadata": {},
   "outputs": [],
   "source": [
    "import pandas as pd\n",
    "import numpy as np\n",
    "import matplotlib.pyplot as plt\n",
    "import seaborn as sns"
   ]
  },
  {
   "cell_type": "code",
   "execution_count": 2,
   "id": "dbbf6f53",
   "metadata": {},
   "outputs": [],
   "source": [
    "train = pd.read_csv('./data/smhrd34567/Train.csv', index_col='ID')\n",
    "test = pd.read_csv('./data/smhrd34567/test.csv', index_col='ID')\n",
    "sub = pd.read_csv('./data/smhrd34567/sampleSubmission.csv')"
   ]
  },
  {
   "cell_type": "code",
   "execution_count": 3,
   "id": "f63b47bd",
   "metadata": {
    "scrolled": true
   },
   "outputs": [
    {
     "data": {
      "text/html": [
       "<div>\n",
       "<style scoped>\n",
       "    .dataframe tbody tr th:only-of-type {\n",
       "        vertical-align: middle;\n",
       "    }\n",
       "\n",
       "    .dataframe tbody tr th {\n",
       "        vertical-align: top;\n",
       "    }\n",
       "\n",
       "    .dataframe thead th {\n",
       "        text-align: right;\n",
       "    }\n",
       "</style>\n",
       "<table border=\"1\" class=\"dataframe\">\n",
       "  <thead>\n",
       "    <tr style=\"text-align: right;\">\n",
       "      <th></th>\n",
       "      <th>Warehouse_block</th>\n",
       "      <th>Mode_of_Shipment</th>\n",
       "      <th>Customer_care_calls</th>\n",
       "      <th>Customer_rating</th>\n",
       "      <th>Cost_of_the_Product</th>\n",
       "      <th>Prior_purchases</th>\n",
       "      <th>Product_importance</th>\n",
       "      <th>Gender</th>\n",
       "      <th>Discount_offered</th>\n",
       "      <th>Weight_in_gms</th>\n",
       "      <th>Reached.on.Time_Y.N</th>\n",
       "    </tr>\n",
       "    <tr>\n",
       "      <th>ID</th>\n",
       "      <th></th>\n",
       "      <th></th>\n",
       "      <th></th>\n",
       "      <th></th>\n",
       "      <th></th>\n",
       "      <th></th>\n",
       "      <th></th>\n",
       "      <th></th>\n",
       "      <th></th>\n",
       "      <th></th>\n",
       "      <th></th>\n",
       "    </tr>\n",
       "  </thead>\n",
       "  <tbody>\n",
       "    <tr>\n",
       "      <th>1</th>\n",
       "      <td>C</td>\n",
       "      <td>Ship</td>\n",
       "      <td>2.0</td>\n",
       "      <td>2</td>\n",
       "      <td>135</td>\n",
       "      <td>3.0</td>\n",
       "      <td>low</td>\n",
       "      <td>M</td>\n",
       "      <td>NaN</td>\n",
       "      <td>1339</td>\n",
       "      <td>1</td>\n",
       "    </tr>\n",
       "    <tr>\n",
       "      <th>2</th>\n",
       "      <td>F</td>\n",
       "      <td>Flight</td>\n",
       "      <td>5.0</td>\n",
       "      <td>3</td>\n",
       "      <td>225</td>\n",
       "      <td>5.0</td>\n",
       "      <td>low</td>\n",
       "      <td>F</td>\n",
       "      <td>6.0</td>\n",
       "      <td>1082</td>\n",
       "      <td>0</td>\n",
       "    </tr>\n",
       "    <tr>\n",
       "      <th>3</th>\n",
       "      <td>F</td>\n",
       "      <td>Ship</td>\n",
       "      <td>3.0</td>\n",
       "      <td>1</td>\n",
       "      <td>229</td>\n",
       "      <td>3.0</td>\n",
       "      <td>low</td>\n",
       "      <td>M</td>\n",
       "      <td>NaN</td>\n",
       "      <td>4971</td>\n",
       "      <td>1</td>\n",
       "    </tr>\n",
       "    <tr>\n",
       "      <th>4</th>\n",
       "      <td>F</td>\n",
       "      <td>Ship</td>\n",
       "      <td>3.0</td>\n",
       "      <td>2</td>\n",
       "      <td>228</td>\n",
       "      <td>NaN</td>\n",
       "      <td>medium</td>\n",
       "      <td>M</td>\n",
       "      <td>2.0</td>\n",
       "      <td>5640</td>\n",
       "      <td>0</td>\n",
       "    </tr>\n",
       "    <tr>\n",
       "      <th>5</th>\n",
       "      <td>D</td>\n",
       "      <td>Flight</td>\n",
       "      <td>NaN</td>\n",
       "      <td>1</td>\n",
       "      <td>195</td>\n",
       "      <td>6.0</td>\n",
       "      <td>high</td>\n",
       "      <td>F</td>\n",
       "      <td>NaN</td>\n",
       "      <td>4944</td>\n",
       "      <td>1</td>\n",
       "    </tr>\n",
       "    <tr>\n",
       "      <th>...</th>\n",
       "      <td>...</td>\n",
       "      <td>...</td>\n",
       "      <td>...</td>\n",
       "      <td>...</td>\n",
       "      <td>...</td>\n",
       "      <td>...</td>\n",
       "      <td>...</td>\n",
       "      <td>...</td>\n",
       "      <td>...</td>\n",
       "      <td>...</td>\n",
       "      <td>...</td>\n",
       "    </tr>\n",
       "    <tr>\n",
       "      <th>6995</th>\n",
       "      <td>D</td>\n",
       "      <td>Ship</td>\n",
       "      <td>4.0</td>\n",
       "      <td>2</td>\n",
       "      <td>232</td>\n",
       "      <td>5.0</td>\n",
       "      <td>medium</td>\n",
       "      <td>F</td>\n",
       "      <td>4.0</td>\n",
       "      <td>1783</td>\n",
       "      <td>0</td>\n",
       "    </tr>\n",
       "    <tr>\n",
       "      <th>6996</th>\n",
       "      <td>F</td>\n",
       "      <td>Ship</td>\n",
       "      <td>3.0</td>\n",
       "      <td>5</td>\n",
       "      <td>228</td>\n",
       "      <td>2.0</td>\n",
       "      <td>medium</td>\n",
       "      <td>F</td>\n",
       "      <td>NaN</td>\n",
       "      <td>5208</td>\n",
       "      <td>0</td>\n",
       "    </tr>\n",
       "    <tr>\n",
       "      <th>6997</th>\n",
       "      <td>D</td>\n",
       "      <td>Ship</td>\n",
       "      <td>NaN</td>\n",
       "      <td>1</td>\n",
       "      <td>300</td>\n",
       "      <td>5.0</td>\n",
       "      <td>low</td>\n",
       "      <td>F</td>\n",
       "      <td>10.0</td>\n",
       "      <td>1787</td>\n",
       "      <td>0</td>\n",
       "    </tr>\n",
       "    <tr>\n",
       "      <th>6998</th>\n",
       "      <td>A</td>\n",
       "      <td>Road</td>\n",
       "      <td>3.0</td>\n",
       "      <td>1</td>\n",
       "      <td>232</td>\n",
       "      <td>2.0</td>\n",
       "      <td>medium</td>\n",
       "      <td>M</td>\n",
       "      <td>NaN</td>\n",
       "      <td>4719</td>\n",
       "      <td>0</td>\n",
       "    </tr>\n",
       "    <tr>\n",
       "      <th>6999</th>\n",
       "      <td>A</td>\n",
       "      <td>Ship</td>\n",
       "      <td>3.0</td>\n",
       "      <td>3</td>\n",
       "      <td>262</td>\n",
       "      <td>7.0</td>\n",
       "      <td>high</td>\n",
       "      <td>F</td>\n",
       "      <td>NaN</td>\n",
       "      <td>5097</td>\n",
       "      <td>0</td>\n",
       "    </tr>\n",
       "  </tbody>\n",
       "</table>\n",
       "<p>6999 rows × 11 columns</p>\n",
       "</div>"
      ],
      "text/plain": [
       "     Warehouse_block  Mode_of_Shipment  Customer_care_calls  Customer_rating  \\\n",
       "ID                                                                             \n",
       "1                   C             Ship                  2.0                2   \n",
       "2                   F           Flight                  5.0                3   \n",
       "3                   F             Ship                  3.0                1   \n",
       "4                   F             Ship                  3.0                2   \n",
       "5                   D           Flight                  NaN                1   \n",
       "...               ...              ...                  ...              ...   \n",
       "6995                D             Ship                  4.0                2   \n",
       "6996                F             Ship                  3.0                5   \n",
       "6997                D             Ship                  NaN                1   \n",
       "6998                A             Road                  3.0                1   \n",
       "6999                A             Ship                  3.0                3   \n",
       "\n",
       "      Cost_of_the_Product  Prior_purchases Product_importance Gender  \\\n",
       "ID                                                                     \n",
       "1                     135              3.0                low      M   \n",
       "2                     225              5.0                low      F   \n",
       "3                     229              3.0                low      M   \n",
       "4                     228              NaN             medium      M   \n",
       "5                     195              6.0               high      F   \n",
       "...                   ...              ...                ...    ...   \n",
       "6995                  232              5.0             medium      F   \n",
       "6996                  228              2.0             medium      F   \n",
       "6997                  300              5.0                low      F   \n",
       "6998                  232              2.0             medium      M   \n",
       "6999                  262              7.0               high      F   \n",
       "\n",
       "      Discount_offered Weight_in_gms  Reached.on.Time_Y.N  \n",
       "ID                                                         \n",
       "1                  NaN          1339                    1  \n",
       "2                  6.0          1082                    0  \n",
       "3                  NaN          4971                    1  \n",
       "4                  2.0          5640                    0  \n",
       "5                  NaN          4944                    1  \n",
       "...                ...           ...                  ...  \n",
       "6995               4.0          1783                    0  \n",
       "6996               NaN          5208                    0  \n",
       "6997              10.0          1787                    0  \n",
       "6998               NaN          4719                    0  \n",
       "6999               NaN          5097                    0  \n",
       "\n",
       "[6999 rows x 11 columns]"
      ]
     },
     "execution_count": 3,
     "metadata": {},
     "output_type": "execute_result"
    }
   ],
   "source": [
    "train"
   ]
  },
  {
   "cell_type": "code",
   "execution_count": 4,
   "id": "7d084f35",
   "metadata": {
    "scrolled": true
   },
   "outputs": [
    {
     "name": "stdout",
     "output_type": "stream",
     "text": [
      "<class 'pandas.core.frame.DataFrame'>\n",
      "Int64Index: 6999 entries, 1 to 6999\n",
      "Data columns (total 11 columns):\n",
      " #   Column               Non-Null Count  Dtype  \n",
      "---  ------               --------------  -----  \n",
      " 0   Warehouse_block      6999 non-null   object \n",
      " 1   Mode_of_Shipment     6999 non-null   object \n",
      " 2   Customer_care_calls  5423 non-null   float64\n",
      " 3   Customer_rating      6999 non-null   int64  \n",
      " 4   Cost_of_the_Product  6999 non-null   int64  \n",
      " 5   Prior_purchases      6049 non-null   float64\n",
      " 6   Product_importance   6999 non-null   object \n",
      " 7   Gender               6999 non-null   object \n",
      " 8   Discount_offered     3468 non-null   float64\n",
      " 9   Weight_in_gms        6999 non-null   object \n",
      " 10  Reached.on.Time_Y.N  6999 non-null   int64  \n",
      "dtypes: float64(3), int64(3), object(5)\n",
      "memory usage: 656.2+ KB\n"
     ]
    }
   ],
   "source": [
    "train.info()\n",
    "#결측치 있는 컬럼 : Customer_care_calls, Prior_purchases, Discount_offered\n",
    "# ? 있는 컬럼 : Mode_of_Shipment, Product_importance, Weight_in_gms\n",
    "# 나머지 :  Warehouse_block , Customer_rating, Cost_of_the_Product, Gender"
   ]
  },
  {
   "cell_type": "code",
   "execution_count": 5,
   "id": "60f243de",
   "metadata": {},
   "outputs": [
    {
     "data": {
      "text/html": [
       "<div>\n",
       "<style scoped>\n",
       "    .dataframe tbody tr th:only-of-type {\n",
       "        vertical-align: middle;\n",
       "    }\n",
       "\n",
       "    .dataframe tbody tr th {\n",
       "        vertical-align: top;\n",
       "    }\n",
       "\n",
       "    .dataframe thead th {\n",
       "        text-align: right;\n",
       "    }\n",
       "</style>\n",
       "<table border=\"1\" class=\"dataframe\">\n",
       "  <thead>\n",
       "    <tr style=\"text-align: right;\">\n",
       "      <th></th>\n",
       "      <th>Customer_care_calls</th>\n",
       "      <th>Customer_rating</th>\n",
       "      <th>Cost_of_the_Product</th>\n",
       "      <th>Prior_purchases</th>\n",
       "      <th>Discount_offered</th>\n",
       "      <th>Reached.on.Time_Y.N</th>\n",
       "    </tr>\n",
       "  </thead>\n",
       "  <tbody>\n",
       "    <tr>\n",
       "      <th>Customer_care_calls</th>\n",
       "      <td>1.000000</td>\n",
       "      <td>0.013420</td>\n",
       "      <td>0.047041</td>\n",
       "      <td>0.173709</td>\n",
       "      <td>-0.158465</td>\n",
       "      <td>-0.070266</td>\n",
       "    </tr>\n",
       "    <tr>\n",
       "      <th>Customer_rating</th>\n",
       "      <td>0.013420</td>\n",
       "      <td>1.000000</td>\n",
       "      <td>-0.001961</td>\n",
       "      <td>0.008217</td>\n",
       "      <td>-0.016456</td>\n",
       "      <td>0.011275</td>\n",
       "    </tr>\n",
       "    <tr>\n",
       "      <th>Cost_of_the_Product</th>\n",
       "      <td>0.047041</td>\n",
       "      <td>-0.001961</td>\n",
       "      <td>1.000000</td>\n",
       "      <td>0.028947</td>\n",
       "      <td>-0.139349</td>\n",
       "      <td>-0.012811</td>\n",
       "    </tr>\n",
       "    <tr>\n",
       "      <th>Prior_purchases</th>\n",
       "      <td>0.173709</td>\n",
       "      <td>0.008217</td>\n",
       "      <td>0.028947</td>\n",
       "      <td>1.000000</td>\n",
       "      <td>-0.081868</td>\n",
       "      <td>-0.065160</td>\n",
       "    </tr>\n",
       "    <tr>\n",
       "      <th>Discount_offered</th>\n",
       "      <td>-0.158465</td>\n",
       "      <td>-0.016456</td>\n",
       "      <td>-0.139349</td>\n",
       "      <td>-0.081868</td>\n",
       "      <td>1.000000</td>\n",
       "      <td>0.397393</td>\n",
       "    </tr>\n",
       "    <tr>\n",
       "      <th>Reached.on.Time_Y.N</th>\n",
       "      <td>-0.070266</td>\n",
       "      <td>0.011275</td>\n",
       "      <td>-0.012811</td>\n",
       "      <td>-0.065160</td>\n",
       "      <td>0.397393</td>\n",
       "      <td>1.000000</td>\n",
       "    </tr>\n",
       "  </tbody>\n",
       "</table>\n",
       "</div>"
      ],
      "text/plain": [
       "                     Customer_care_calls  Customer_rating  \\\n",
       "Customer_care_calls             1.000000         0.013420   \n",
       "Customer_rating                 0.013420         1.000000   \n",
       "Cost_of_the_Product             0.047041        -0.001961   \n",
       "Prior_purchases                 0.173709         0.008217   \n",
       "Discount_offered               -0.158465        -0.016456   \n",
       "Reached.on.Time_Y.N            -0.070266         0.011275   \n",
       "\n",
       "                     Cost_of_the_Product  Prior_purchases  Discount_offered  \\\n",
       "Customer_care_calls             0.047041         0.173709         -0.158465   \n",
       "Customer_rating                -0.001961         0.008217         -0.016456   \n",
       "Cost_of_the_Product             1.000000         0.028947         -0.139349   \n",
       "Prior_purchases                 0.028947         1.000000         -0.081868   \n",
       "Discount_offered               -0.139349        -0.081868          1.000000   \n",
       "Reached.on.Time_Y.N            -0.012811        -0.065160          0.397393   \n",
       "\n",
       "                     Reached.on.Time_Y.N  \n",
       "Customer_care_calls            -0.070266  \n",
       "Customer_rating                 0.011275  \n",
       "Cost_of_the_Product            -0.012811  \n",
       "Prior_purchases                -0.065160  \n",
       "Discount_offered                0.397393  \n",
       "Reached.on.Time_Y.N             1.000000  "
      ]
     },
     "execution_count": 5,
     "metadata": {},
     "output_type": "execute_result"
    }
   ],
   "source": [
    "train.corr()"
   ]
  },
  {
   "cell_type": "code",
   "execution_count": 6,
   "id": "9dcd4b7c",
   "metadata": {},
   "outputs": [
    {
     "data": {
      "text/html": [
       "<div>\n",
       "<style scoped>\n",
       "    .dataframe tbody tr th:only-of-type {\n",
       "        vertical-align: middle;\n",
       "    }\n",
       "\n",
       "    .dataframe tbody tr th {\n",
       "        vertical-align: top;\n",
       "    }\n",
       "\n",
       "    .dataframe thead th {\n",
       "        text-align: right;\n",
       "    }\n",
       "</style>\n",
       "<table border=\"1\" class=\"dataframe\">\n",
       "  <thead>\n",
       "    <tr style=\"text-align: right;\">\n",
       "      <th></th>\n",
       "      <th>Customer_care_calls</th>\n",
       "      <th>Customer_rating</th>\n",
       "      <th>Cost_of_the_Product</th>\n",
       "      <th>Prior_purchases</th>\n",
       "      <th>Discount_offered</th>\n",
       "      <th>Reached.on.Time_Y.N</th>\n",
       "    </tr>\n",
       "  </thead>\n",
       "  <tbody>\n",
       "    <tr>\n",
       "      <th>count</th>\n",
       "      <td>5423.000000</td>\n",
       "      <td>6999.000000</td>\n",
       "      <td>6999.000000</td>\n",
       "      <td>6049.000000</td>\n",
       "      <td>3468.000000</td>\n",
       "      <td>6999.000000</td>\n",
       "    </tr>\n",
       "    <tr>\n",
       "      <th>mean</th>\n",
       "      <td>4.054582</td>\n",
       "      <td>3.023718</td>\n",
       "      <td>214.249178</td>\n",
       "      <td>3.576294</td>\n",
       "      <td>13.269031</td>\n",
       "      <td>0.594656</td>\n",
       "    </tr>\n",
       "    <tr>\n",
       "      <th>std</th>\n",
       "      <td>1.131019</td>\n",
       "      <td>2.149861</td>\n",
       "      <td>208.294273</td>\n",
       "      <td>1.530933</td>\n",
       "      <td>16.070188</td>\n",
       "      <td>0.490993</td>\n",
       "    </tr>\n",
       "    <tr>\n",
       "      <th>min</th>\n",
       "      <td>2.000000</td>\n",
       "      <td>1.000000</td>\n",
       "      <td>96.000000</td>\n",
       "      <td>2.000000</td>\n",
       "      <td>1.000000</td>\n",
       "      <td>0.000000</td>\n",
       "    </tr>\n",
       "    <tr>\n",
       "      <th>25%</th>\n",
       "      <td>3.000000</td>\n",
       "      <td>2.000000</td>\n",
       "      <td>169.000000</td>\n",
       "      <td>3.000000</td>\n",
       "      <td>4.000000</td>\n",
       "      <td>0.000000</td>\n",
       "    </tr>\n",
       "    <tr>\n",
       "      <th>50%</th>\n",
       "      <td>4.000000</td>\n",
       "      <td>3.000000</td>\n",
       "      <td>214.000000</td>\n",
       "      <td>3.000000</td>\n",
       "      <td>7.000000</td>\n",
       "      <td>1.000000</td>\n",
       "    </tr>\n",
       "    <tr>\n",
       "      <th>75%</th>\n",
       "      <td>5.000000</td>\n",
       "      <td>4.000000</td>\n",
       "      <td>251.000000</td>\n",
       "      <td>4.000000</td>\n",
       "      <td>10.000000</td>\n",
       "      <td>1.000000</td>\n",
       "    </tr>\n",
       "    <tr>\n",
       "      <th>max</th>\n",
       "      <td>7.000000</td>\n",
       "      <td>99.000000</td>\n",
       "      <td>9999.000000</td>\n",
       "      <td>10.000000</td>\n",
       "      <td>65.000000</td>\n",
       "      <td>1.000000</td>\n",
       "    </tr>\n",
       "  </tbody>\n",
       "</table>\n",
       "</div>"
      ],
      "text/plain": [
       "       Customer_care_calls  Customer_rating  Cost_of_the_Product  \\\n",
       "count          5423.000000      6999.000000          6999.000000   \n",
       "mean              4.054582         3.023718           214.249178   \n",
       "std               1.131019         2.149861           208.294273   \n",
       "min               2.000000         1.000000            96.000000   \n",
       "25%               3.000000         2.000000           169.000000   \n",
       "50%               4.000000         3.000000           214.000000   \n",
       "75%               5.000000         4.000000           251.000000   \n",
       "max               7.000000        99.000000          9999.000000   \n",
       "\n",
       "       Prior_purchases  Discount_offered  Reached.on.Time_Y.N  \n",
       "count      6049.000000       3468.000000          6999.000000  \n",
       "mean          3.576294         13.269031             0.594656  \n",
       "std           1.530933         16.070188             0.490993  \n",
       "min           2.000000          1.000000             0.000000  \n",
       "25%           3.000000          4.000000             0.000000  \n",
       "50%           3.000000          7.000000             1.000000  \n",
       "75%           4.000000         10.000000             1.000000  \n",
       "max          10.000000         65.000000             1.000000  "
      ]
     },
     "execution_count": 6,
     "metadata": {},
     "output_type": "execute_result"
    }
   ],
   "source": [
    "train.describe()"
   ]
  },
  {
   "cell_type": "code",
   "execution_count": 7,
   "id": "a6ac3144",
   "metadata": {},
   "outputs": [
    {
     "name": "stdout",
     "output_type": "stream",
     "text": [
      "<class 'pandas.core.frame.DataFrame'>\n",
      "Int64Index: 4000 entries, 7000 to 10999\n",
      "Data columns (total 10 columns):\n",
      " #   Column               Non-Null Count  Dtype  \n",
      "---  ------               --------------  -----  \n",
      " 0   Warehouse_block      4000 non-null   object \n",
      " 1   Mode_of_Shipment     4000 non-null   object \n",
      " 2   Customer_care_calls  3144 non-null   float64\n",
      " 3   Customer_rating      4000 non-null   int64  \n",
      " 4   Cost_of_the_Product  4000 non-null   int64  \n",
      " 5   Prior_purchases      3633 non-null   float64\n",
      " 6   Product_importance   4000 non-null   object \n",
      " 7   Gender               4000 non-null   object \n",
      " 8   Discount_offered     2085 non-null   float64\n",
      " 9   Weight_in_gms        4000 non-null   object \n",
      "dtypes: float64(3), int64(2), object(5)\n",
      "memory usage: 343.8+ KB\n"
     ]
    }
   ],
   "source": [
    "test.info()\n",
    "#결측치 있는 컬럼 : Customer_care_calls, Prior_purchases, Discount_offered\n",
    "# ? 있는 컬럼 : Mode_of_Shipment, Product_importance, Weight_in_gms"
   ]
  },
  {
   "cell_type": "code",
   "execution_count": 8,
   "id": "2665fb6c",
   "metadata": {},
   "outputs": [
    {
     "data": {
      "text/html": [
       "<div>\n",
       "<style scoped>\n",
       "    .dataframe tbody tr th:only-of-type {\n",
       "        vertical-align: middle;\n",
       "    }\n",
       "\n",
       "    .dataframe tbody tr th {\n",
       "        vertical-align: top;\n",
       "    }\n",
       "\n",
       "    .dataframe thead th {\n",
       "        text-align: right;\n",
       "    }\n",
       "</style>\n",
       "<table border=\"1\" class=\"dataframe\">\n",
       "  <thead>\n",
       "    <tr style=\"text-align: right;\">\n",
       "      <th></th>\n",
       "      <th>Customer_care_calls</th>\n",
       "      <th>Customer_rating</th>\n",
       "      <th>Cost_of_the_Product</th>\n",
       "      <th>Prior_purchases</th>\n",
       "      <th>Discount_offered</th>\n",
       "    </tr>\n",
       "  </thead>\n",
       "  <tbody>\n",
       "    <tr>\n",
       "      <th>Customer_care_calls</th>\n",
       "      <td>1.000000</td>\n",
       "      <td>0.020970</td>\n",
       "      <td>0.083431</td>\n",
       "      <td>0.179432</td>\n",
       "      <td>-0.133178</td>\n",
       "    </tr>\n",
       "    <tr>\n",
       "      <th>Customer_rating</th>\n",
       "      <td>0.020970</td>\n",
       "      <td>1.000000</td>\n",
       "      <td>0.017817</td>\n",
       "      <td>0.019384</td>\n",
       "      <td>0.006200</td>\n",
       "    </tr>\n",
       "    <tr>\n",
       "      <th>Cost_of_the_Product</th>\n",
       "      <td>0.083431</td>\n",
       "      <td>0.017817</td>\n",
       "      <td>1.000000</td>\n",
       "      <td>0.016252</td>\n",
       "      <td>-0.118051</td>\n",
       "    </tr>\n",
       "    <tr>\n",
       "      <th>Prior_purchases</th>\n",
       "      <td>0.179432</td>\n",
       "      <td>0.019384</td>\n",
       "      <td>0.016252</td>\n",
       "      <td>1.000000</td>\n",
       "      <td>-0.050045</td>\n",
       "    </tr>\n",
       "    <tr>\n",
       "      <th>Discount_offered</th>\n",
       "      <td>-0.133178</td>\n",
       "      <td>0.006200</td>\n",
       "      <td>-0.118051</td>\n",
       "      <td>-0.050045</td>\n",
       "      <td>1.000000</td>\n",
       "    </tr>\n",
       "  </tbody>\n",
       "</table>\n",
       "</div>"
      ],
      "text/plain": [
       "                     Customer_care_calls  Customer_rating  \\\n",
       "Customer_care_calls             1.000000         0.020970   \n",
       "Customer_rating                 0.020970         1.000000   \n",
       "Cost_of_the_Product             0.083431         0.017817   \n",
       "Prior_purchases                 0.179432         0.019384   \n",
       "Discount_offered               -0.133178         0.006200   \n",
       "\n",
       "                     Cost_of_the_Product  Prior_purchases  Discount_offered  \n",
       "Customer_care_calls             0.083431         0.179432         -0.133178  \n",
       "Customer_rating                 0.017817         0.019384          0.006200  \n",
       "Cost_of_the_Product             1.000000         0.016252         -0.118051  \n",
       "Prior_purchases                 0.016252         1.000000         -0.050045  \n",
       "Discount_offered               -0.118051        -0.050045          1.000000  "
      ]
     },
     "execution_count": 8,
     "metadata": {},
     "output_type": "execute_result"
    }
   ],
   "source": [
    "test.corr()"
   ]
  },
  {
   "cell_type": "code",
   "execution_count": 9,
   "id": "000733e8",
   "metadata": {
    "scrolled": true
   },
   "outputs": [
    {
     "data": {
      "text/plain": [
       "F    0.330190\n",
       "C    0.169167\n",
       "A    0.167738\n",
       "D    0.166881\n",
       "B    0.166024\n",
       "Name: Warehouse_block, dtype: float64"
      ]
     },
     "execution_count": 9,
     "metadata": {},
     "output_type": "execute_result"
    },
    {
     "data": {
      "image/png": "[encoded data removed]",
      "text/plain": [
       "<Figure size 432x288 with 1 Axes>"
      ]
     },
     "metadata": {
      "needs_background": "light"
     },
     "output_type": "display_data"
    }
   ],
   "source": [
    "train['Warehouse_block']=train['Warehouse_block ']\n",
    "test['Warehouse_block']=test['Warehouse_block ']\n",
    "sns.countplot(data=train, x='Warehouse_block', hue='Reached.on.Time_Y.N')\n",
    "train['Warehouse_block'].value_counts('Reached.on.Time_Y.N')"
   ]
  },
  {
   "cell_type": "code",
   "execution_count": 10,
   "id": "c366c786",
   "metadata": {},
   "outputs": [
    {
     "data": {
      "text/plain": [
       "ID\n",
       "1       C\n",
       "2       F\n",
       "3       F\n",
       "4       F\n",
       "5       D\n",
       "       ..\n",
       "6995    D\n",
       "6996    F\n",
       "6997    D\n",
       "6998    A\n",
       "6999    A\n",
       "Name: Warehouse_block, Length: 6999, dtype: object"
      ]
     },
     "execution_count": 10,
     "metadata": {},
     "output_type": "execute_result"
    }
   ],
   "source": [
    "train.drop('Warehouse_block ', axis=1, inplace=True)\n",
    "test.drop('Warehouse_block ', axis=1, inplace=True)\n",
    "train['Warehouse_block']"
   ]
  },
  {
   "cell_type": "code",
   "execution_count": 11,
   "id": "0d5a343b",
   "metadata": {},
   "outputs": [
    {
     "data": {
      "text/plain": [
       " Ship        0.644092\n",
       " Road        0.153593\n",
       " Flight      0.148450\n",
       "?            0.053293\n",
       " Shipzk      0.000286\n",
       " Flightzk    0.000143\n",
       " Roadzk      0.000143\n",
       "Name: Mode_of_Shipment, dtype: float64"
      ]
     },
     "execution_count": 11,
     "metadata": {},
     "output_type": "execute_result"
    },
    {
     "data": {
      "image/png": "[encoded data removed]",
      "text/plain": [
       "<Figure size 432x288 with 1 Axes>"
      ]
     },
     "metadata": {
      "needs_background": "light"
     },
     "output_type": "display_data"
    }
   ],
   "source": [
    "sns.countplot(data=train, x='Mode_of_Shipment', hue='Reached.on.Time_Y.N')\n",
    "train['Mode_of_Shipment'].value_counts('Reached.on.Time_Y.N')"
   ]
  },
  {
   "cell_type": "code",
   "execution_count": 12,
   "id": "2b2f77c0",
   "metadata": {},
   "outputs": [],
   "source": [
    "train['Mode_of_Shipment'] = train['Mode_of_Shipment'].replace(' Ship','Ship')\n",
    "train['Mode_of_Shipment'] = train['Mode_of_Shipment'].replace(' Road','Road')\n",
    "train['Mode_of_Shipment'] = train['Mode_of_Shipment'].replace(' Flight','Flight')\n",
    "train['Mode_of_Shipment'] = train['Mode_of_Shipment'].replace(' Shipzk','Ship')\n",
    "train['Mode_of_Shipment'] = train['Mode_of_Shipment'].replace(' Roadzk','Road')\n",
    "train['Mode_of_Shipment'] = train['Mode_of_Shipment'].replace(' Flightzk','Flight')\n",
    "train['Mode_of_Shipment'] = train['Mode_of_Shipment'].replace('?','Ship')\n",
    "\n",
    "test['Mode_of_Shipment'] = test['Mode_of_Shipment'].replace(' Ship','Ship')\n",
    "test['Mode_of_Shipment'] = test['Mode_of_Shipment'].replace(' Road','Road')\n",
    "test['Mode_of_Shipment'] = test['Mode_of_Shipment'].replace(' Flight','Flight')\n",
    "test['Mode_of_Shipment'] = test['Mode_of_Shipment'].replace(' Shipzk','Ship')\n",
    "test['Mode_of_Shipment'] = test['Mode_of_Shipment'].replace(' Roadzk','Road')\n",
    "test['Mode_of_Shipment'] = test['Mode_of_Shipment'].replace(' Flightzk','Flight')\n",
    "test['Mode_of_Shipment'] = test['Mode_of_Shipment'].replace('?','Ship')"
   ]
  },
  {
   "cell_type": "code",
   "execution_count": 13,
   "id": "ae760e0b",
   "metadata": {},
   "outputs": [
    {
     "name": "stdout",
     "output_type": "stream",
     "text": [
      "4.0    1756\n",
      "3.0    1620\n",
      "5.0    1147\n",
      "6.0     496\n",
      "2.0     287\n",
      "7.0     117\n",
      "Name: Customer_care_calls, dtype: int64\n"
     ]
    },
    {
     "data": {
      "image/png": "[encoded data removed]",
      "text/plain": [
       "<Figure size 432x288 with 1 Axes>"
      ]
     },
     "metadata": {
      "needs_background": "light"
     },
     "output_type": "display_data"
    }
   ],
   "source": [
    "sns.countplot(data=train, x='Customer_care_calls', hue='Reached.on.Time_Y.N')\n",
    "print(train['Customer_care_calls'].value_counts())\n"
   ]
  },
  {
   "cell_type": "code",
   "execution_count": 14,
   "id": "3604fd86",
   "metadata": {},
   "outputs": [
    {
     "data": {
      "text/plain": [
       "<AxesSubplot:xlabel='Customer_rating', ylabel='count'>"
      ]
     },
     "execution_count": 14,
     "metadata": {},
     "output_type": "execute_result"
    },
    {
     "data": {
      "image/png": "[encoded data removed]",
      "text/plain": [
       "<Figure size 432x288 with 1 Axes>"
      ]
     },
     "metadata": {
      "needs_background": "light"
     },
     "output_type": "display_data"
    }
   ],
   "source": [
    "sns.countplot(data=train, x='Customer_rating', hue='Reached.on.Time_Y.N')"
   ]
  },
  {
   "cell_type": "code",
   "execution_count": 15,
   "id": "0699988e",
   "metadata": {},
   "outputs": [
    {
     "data": {
      "text/plain": [
       "1    843\n",
       "4    831\n",
       "3    790\n",
       "5    772\n",
       "2    764\n",
       "Name: Customer_rating, dtype: int64"
      ]
     },
     "execution_count": 15,
     "metadata": {},
     "output_type": "execute_result"
    }
   ],
   "source": [
    "train['Customer_rating'] = train['Customer_rating'].replace(99,3)\n",
    "train['Customer_rating'].value_counts()\n",
    "test['Customer_rating'] = test['Customer_rating'].replace(99,3) \n",
    "test['Customer_rating'].value_counts()\n",
    "# 1~5등급까지만 있으므로 99의 값을 3으로 변경"
   ]
  },
  {
   "cell_type": "code",
   "execution_count": 16,
   "id": "9f4430fe",
   "metadata": {},
   "outputs": [
    {
     "data": {
      "text/plain": [
       "ID\n",
       "112     9999\n",
       "6256    9999\n",
       "6613    9999\n",
       "Name: Cost_of_the_Product, dtype: int64"
      ]
     },
     "execution_count": 16,
     "metadata": {},
     "output_type": "execute_result"
    }
   ],
   "source": [
    "train['Cost_of_the_Product'][train['Cost_of_the_Product']==9999]\n",
    "# 9999인 사람이 3명(이상치)"
   ]
  },
  {
   "cell_type": "code",
   "execution_count": 17,
   "id": "545caa95",
   "metadata": {},
   "outputs": [
    {
     "data": {
      "text/plain": [
       "210.05331618067467"
      ]
     },
     "execution_count": 17,
     "metadata": {},
     "output_type": "execute_result"
    }
   ],
   "source": [
    "train['Cost_of_the_Product'][train['Cost_of_the_Product']!=9999].mean()"
   ]
  },
  {
   "cell_type": "code",
   "execution_count": 18,
   "id": "e630bdbb",
   "metadata": {},
   "outputs": [],
   "source": [
    "train['Cost_of_the_Product'] = train['Cost_of_the_Product'].replace(9999,210)\n",
    "test['Cost_of_the_Product'] = test['Cost_of_the_Product'].replace(9999,210)"
   ]
  },
  {
   "cell_type": "code",
   "execution_count": 19,
   "id": "06a0a681",
   "metadata": {},
   "outputs": [
    {
     "data": {
      "text/plain": [
       "<AxesSubplot:xlabel='Cost_of_the_Product', ylabel='count'>"
      ]
     },
     "execution_count": 19,
     "metadata": {},
     "output_type": "execute_result"
    },
    {
     "data": {
      "image/png": "[encoded data removed]",
      "text/plain": [
       "<Figure size 432x288 with 1 Axes>"
      ]
     },
     "metadata": {
      "needs_background": "light"
     },
     "output_type": "display_data"
    }
   ],
   "source": [
    "b = [90, 150, 210, 9999]\n",
    "l = [1,2,3]\n",
    "train['Cost_of_the_Product']=pd.cut(train['Cost_of_the_Product'], bins= b, labels = l)\n",
    "sns.countplot(data=train, x='Cost_of_the_Product', hue='Reached.on.Time_Y.N')"
   ]
  },
  {
   "cell_type": "code",
   "execution_count": 20,
   "id": "973600e1",
   "metadata": {},
   "outputs": [
    {
     "name": "stdout",
     "output_type": "stream",
     "text": [
      "3.0     2176\n",
      "2.0     1423\n",
      "4.0     1162\n",
      "5.0      735\n",
      "6.0      310\n",
      "10.0     101\n",
      "8.0       72\n",
      "7.0       70\n",
      "Name: Prior_purchases, dtype: int64\n"
     ]
    },
    {
     "data": {
      "image/png": "[encoded data removed]",
      "text/plain": [
       "<Figure size 432x288 with 1 Axes>"
      ]
     },
     "metadata": {
      "needs_background": "light"
     },
     "output_type": "display_data"
    }
   ],
   "source": [
    "sns.countplot(data=train, x='Prior_purchases', hue='Reached.on.Time_Y.N')\n",
    "print(train['Prior_purchases'].value_counts())"
   ]
  },
  {
   "cell_type": "code",
   "execution_count": 21,
   "id": "c4cda64b",
   "metadata": {},
   "outputs": [],
   "source": [
    "train['Product_importance'] = train['Product_importance'].replace('loww','low')\n",
    "train['Product_importance'] = train['Product_importance'].replace('highh','high')\n",
    "train['Product_importance'] = train['Product_importance'].replace('mediumm','medium')\n",
    "train['Product_importance'] = train['Product_importance'].replace('?','low')\n",
    "test['Product_importance'] = test['Product_importance'].replace('loww','low') \n",
    "test['Product_importance'] = test['Product_importance'].replace('highh','high') \n",
    "test['Product_importance'] = test['Product_importance'].replace('mediumm','medium')\n",
    "test['Product_importance'] = test['Product_importance'].replace('?','low')"
   ]
  },
  {
   "cell_type": "code",
   "execution_count": 22,
   "id": "440211c2",
   "metadata": {},
   "outputs": [
    {
     "data": {
      "text/plain": [
       "<AxesSubplot:xlabel='Product_importance', ylabel='count'>"
      ]
     },
     "execution_count": 22,
     "metadata": {},
     "output_type": "execute_result"
    },
    {
     "data": {
      "image/png": "[encoded data removed]",
      "text/plain": [
       "<Figure size 432x288 with 1 Axes>"
      ]
     },
     "metadata": {
      "needs_background": "light"
     },
     "output_type": "display_data"
    }
   ],
   "source": [
    "sns.countplot(data=train, x='Product_importance', hue='Reached.on.Time_Y.N')"
   ]
  },
  {
   "cell_type": "code",
   "execution_count": 23,
   "id": "6a638784",
   "metadata": {},
   "outputs": [],
   "source": [
    "#sns.countplot(data=train, x='Gender', hue='Reached.on.Time_Y.N')"
   ]
  },
  {
   "cell_type": "code",
   "execution_count": 24,
   "id": "5dff1824",
   "metadata": {
    "scrolled": true
   },
   "outputs": [
    {
     "name": "stdout",
     "output_type": "stream",
     "text": [
      "9.0     287\n",
      "2.0     278\n",
      "10.0    278\n",
      "3.0     277\n",
      "1.0     272\n",
      "       ... \n",
      "50.0     10\n",
      "18.0     10\n",
      "42.0      9\n",
      "26.0      8\n",
      "43.0      7\n",
      "Name: Discount_offered, Length: 65, dtype: int64\n",
      "count    3468.000000\n",
      "mean       13.269031\n",
      "std        16.070188\n",
      "min         1.000000\n",
      "25%         4.000000\n",
      "50%         7.000000\n",
      "75%        10.000000\n",
      "max        65.000000\n",
      "Name: Discount_offered, dtype: float64\n"
     ]
    },
    {
     "data": {
      "image/png": "[encoded data removed]",
      "text/plain": [
       "<Figure size 1440x432 with 1 Axes>"
      ]
     },
     "metadata": {
      "needs_background": "light"
     },
     "output_type": "display_data"
    }
   ],
   "source": [
    "plt.figure(figsize=(20, 6))\n",
    "sns.countplot(data=train, x='Discount_offered', hue='Reached.on.Time_Y.N')\n",
    "print(train['Discount_offered'].value_counts())\n",
    "#1~65까지의 값\n",
    "print(train['Discount_offered'].describe())\n",
    "#1~10까지의 값이 전체의 75퍼센트 차지\n",
    "# 10이하일때 0일 확률 높다"
   ]
  },
  {
   "cell_type": "code",
   "execution_count": 25,
   "id": "f72c3bfe",
   "metadata": {},
   "outputs": [],
   "source": [
    "train['Discount_offered'].fillna(7, inplace = True)\n",
    "test['Discount_offered'].fillna(7, inplace = True)\n",
    "#결측치를 중앙값인 7로 채워보기"
   ]
  },
  {
   "cell_type": "code",
   "execution_count": 26,
   "id": "96457b7c",
   "metadata": {},
   "outputs": [],
   "source": [
    "train['Weight_in_gms'] = train['Weight_in_gms'].replace('?',3656).astype('int64')\n",
    "test['Weight_in_gms'] = test['Weight_in_gms'].replace('?',3656).astype('int64')\n",
    "#?를 평균무게인 3656으로 채워보기"
   ]
  },
  {
   "cell_type": "code",
   "execution_count": 27,
   "id": "7eb18c25",
   "metadata": {},
   "outputs": [],
   "source": [
    "b = [1000,4000,5000,8000]\n",
    "l = [1,2,3]\n",
    "train['Weight_in_gms'] = pd.cut(train['Weight_in_gms'], bins= b, labels = l)\n",
    "test['Weight_in_gms'] = pd.cut(test['Weight_in_gms'], bins= b, labels = l)"
   ]
  },
  {
   "cell_type": "code",
   "execution_count": 28,
   "id": "ea90ef71",
   "metadata": {},
   "outputs": [
    {
     "data": {
      "text/plain": [
       "<bound method Series.unique of ID\n",
       "7000     2\n",
       "7001     1\n",
       "7002     3\n",
       "7003     1\n",
       "7004     3\n",
       "        ..\n",
       "10995    1\n",
       "10996    1\n",
       "10997    2\n",
       "10998    1\n",
       "10999    1\n",
       "Name: Weight_in_gms, Length: 4000, dtype: category\n",
       "Categories (3, int64): [1 < 2 < 3]>"
      ]
     },
     "execution_count": 28,
     "metadata": {},
     "output_type": "execute_result"
    }
   ],
   "source": [
    "test['Weight_in_gms'].unique"
   ]
  },
  {
   "cell_type": "code",
   "execution_count": 29,
   "id": "5c203a6a",
   "metadata": {},
   "outputs": [
    {
     "data": {
      "text/plain": [
       "<AxesSubplot:xlabel='Weight_in_gms', ylabel='count'>"
      ]
     },
     "execution_count": 29,
     "metadata": {},
     "output_type": "execute_result"
    },
    {
     "data": {
      "image/png": "[encoded data removed]",
      "text/plain": [
       "<Figure size 432x288 with 1 Axes>"
      ]
     },
     "metadata": {
      "needs_background": "light"
     },
     "output_type": "display_data"
    }
   ],
   "source": [
    "sns.countplot(data=train, x='Weight_in_gms', hue='Reached.on.Time_Y.N')\n",
    "#무게가 4000이상이면, 도달하지 않을 확률이 높다."
   ]
  },
  {
   "cell_type": "code",
   "execution_count": 30,
   "id": "03ce363e",
   "metadata": {},
   "outputs": [],
   "source": [
    "train['Customer_care_calls'].fillna(4, inplace = True)\n",
    "test['Customer_care_calls'].fillna(4, inplace = True)\n",
    "train['Prior_purchases'].fillna(3.6, inplace = True)\n",
    "test['Prior_purchases'].fillna(3.6, inplace = True)"
   ]
  },
  {
   "cell_type": "code",
   "execution_count": 31,
   "id": "171c3731",
   "metadata": {},
   "outputs": [
    {
     "name": "stdout",
     "output_type": "stream",
     "text": [
      "<class 'pandas.core.frame.DataFrame'>\n",
      "Int64Index: 6999 entries, 1 to 6999\n",
      "Data columns (total 11 columns):\n",
      " #   Column               Non-Null Count  Dtype   \n",
      "---  ------               --------------  -----   \n",
      " 0   Mode_of_Shipment     6999 non-null   object  \n",
      " 1   Customer_care_calls  6999 non-null   float64 \n",
      " 2   Customer_rating      6999 non-null   int64   \n",
      " 3   Cost_of_the_Product  6999 non-null   category\n",
      " 4   Prior_purchases      6999 non-null   float64 \n",
      " 5   Product_importance   6999 non-null   object  \n",
      " 6   Gender               6999 non-null   object  \n",
      " 7   Discount_offered     6999 non-null   float64 \n",
      " 8   Weight_in_gms        6999 non-null   category\n",
      " 9   Reached.on.Time_Y.N  6999 non-null   int64   \n",
      " 10  Warehouse_block      6999 non-null   object  \n",
      "dtypes: category(2), float64(3), int64(2), object(4)\n",
      "memory usage: 818.8+ KB\n"
     ]
    }
   ],
   "source": [
    "train.info()"
   ]
  },
  {
   "cell_type": "code",
   "execution_count": 32,
   "id": "ce938551",
   "metadata": {},
   "outputs": [],
   "source": [
    "train.drop('Gender', axis=1, inplace=True)\n",
    "test.drop('Gender', axis=1, inplace=True)"
   ]
  },
  {
   "cell_type": "code",
   "execution_count": 33,
   "id": "9fb8ebdc",
   "metadata": {},
   "outputs": [
    {
     "name": "stdout",
     "output_type": "stream",
     "text": [
      "(6999, 18)\n",
      "(4000, 17)\n"
     ]
    }
   ],
   "source": [
    "cat_feature = ['Warehouse_block', 'Mode_of_Shipment', 'Product_importance']\n",
    "# X_train 원핫인코딩\n",
    "for cat_name in cat_feature:\n",
    "    dummy = pd.get_dummies(train[cat_name], prefix = cat_name)\n",
    "    train.drop(cat_name, axis=1, inplace = True)\n",
    "    train = pd.concat([train, dummy], axis=1)\n",
    "    \n",
    "\n",
    "# X_test 원핫인코딩\n",
    "for cat_name in cat_feature:\n",
    "    dummy = pd.get_dummies(test[cat_name], prefix = cat_name)\n",
    "    test.drop(cat_name, axis=1, inplace = True)\n",
    "    test = pd.concat([test, dummy], axis=1)\n",
    "    \n",
    "print(train.shape)\n",
    "print(test.shape)"
   ]
  },
  {
   "cell_type": "code",
   "execution_count": 34,
   "id": "ad0ed8cb",
   "metadata": {},
   "outputs": [
    {
     "data": {
      "text/plain": [
       "Index(['Customer_care_calls', 'Customer_rating', 'Cost_of_the_Product',\n",
       "       'Prior_purchases', 'Discount_offered', 'Weight_in_gms',\n",
       "       'Reached.on.Time_Y.N', 'Warehouse_block_A', 'Warehouse_block_B',\n",
       "       'Warehouse_block_C', 'Warehouse_block_D', 'Warehouse_block_F',\n",
       "       'Mode_of_Shipment_Flight', 'Mode_of_Shipment_Road',\n",
       "       'Mode_of_Shipment_Ship', 'Product_importance_high',\n",
       "       'Product_importance_low', 'Product_importance_medium'],\n",
       "      dtype='object')"
      ]
     },
     "execution_count": 34,
     "metadata": {},
     "output_type": "execute_result"
    }
   ],
   "source": [
    "train.columns"
   ]
  },
  {
   "cell_type": "code",
   "execution_count": 35,
   "id": "0188805c",
   "metadata": {},
   "outputs": [
    {
     "data": {
      "text/plain": [
       "((6999, 17), (6999,))"
      ]
     },
     "execution_count": 35,
     "metadata": {},
     "output_type": "execute_result"
    }
   ],
   "source": [
    "X = train.drop('Reached.on.Time_Y.N', axis=1) # 드랍을 이용한 분리\n",
    "y = train['Reached.on.Time_Y.N']\n",
    "X.shape, y.shape"
   ]
  },
  {
   "cell_type": "code",
   "execution_count": 36,
   "id": "29f9d0fc",
   "metadata": {},
   "outputs": [
    {
     "data": {
      "text/plain": [
       "((2100, 17), (2100,))"
      ]
     },
     "execution_count": 36,
     "metadata": {},
     "output_type": "execute_result"
    }
   ],
   "source": [
    "from sklearn.model_selection import train_test_split\n",
    "X_train, X_test, y_train, y_test = train_test_split(X,y,test_size = 0.3)\n",
    "X_train.shape, y_train.shape\n",
    "X_test.shape, y_test.shape"
   ]
  },
  {
   "cell_type": "code",
   "execution_count": 37,
   "id": "40e9e277",
   "metadata": {},
   "outputs": [],
   "source": [
    "from sklearn.neighbors import KNeighborsClassifier\n",
    "from sklearn.tree import DecisionTreeClassifier\n",
    "from sklearn.model_selection import cross_val_score"
   ]
  },
  {
   "cell_type": "code",
   "execution_count": 38,
   "id": "7f896089",
   "metadata": {},
   "outputs": [],
   "source": [
    "k_model = KNeighborsClassifier()\n",
    "t_model = DecisionTreeClassifier()"
   ]
  },
  {
   "cell_type": "code",
   "execution_count": 39,
   "id": "d0e028b6",
   "metadata": {},
   "outputs": [],
   "source": [
    "train.to_csv('./data/smhrd34567/Train2.csv', index = False)\n",
    "test.to_csv('./data/smhrd34567/test2.csv', index = False)"
   ]
  },
  {
   "cell_type": "code",
   "execution_count": 40,
   "id": "6f7e2cb4",
   "metadata": {},
   "outputs": [
    {
     "name": "stdout",
     "output_type": "stream",
     "text": [
      "0.6128571428571429\n",
      "0.6061904761904762\n"
     ]
    }
   ],
   "source": [
    "k_model.fit(X_train,y_train)\n",
    "t_model.fit(X_train,y_train)\n",
    "print(k_model.score(X_test,y_test))\n",
    "print(t_model.score(X_test,y_test))"
   ]
  },
  {
   "cell_type": "code",
   "execution_count": 41,
   "id": "730f5848",
   "metadata": {},
   "outputs": [
    {
     "data": {
      "text/plain": [
       "0.6144091221779825"
      ]
     },
     "execution_count": 41,
     "metadata": {},
     "output_type": "execute_result"
    }
   ],
   "source": [
    "result = cross_val_score(k_model,X_train,y_train)\n",
    "result.mean()\n",
    "tree_result = cross_val_score(t_model,X_train,y_train)\n",
    "tree_result.mean()"
   ]
  },
  {
   "cell_type": "code",
   "execution_count": 42,
   "id": "c778c6fd",
   "metadata": {},
   "outputs": [],
   "source": [
    "k_list = []\n",
    "for k in range(1,150,1):\n",
    "    k_model = KNeighborsClassifier(n_neighbors=k)\n",
    "    k_model.fit(X_train,y_train)\n",
    "    result = k_model.score(X_test,y_test)\n",
    "    k_list.append(result)"
   ]
  },
  {
   "cell_type": "code",
   "execution_count": 43,
   "id": "9a259b04",
   "metadata": {},
   "outputs": [
    {
     "data": {
      "text/plain": [
       "0.672793771236789"
      ]
     },
     "execution_count": 43,
     "metadata": {},
     "output_type": "execute_result"
    }
   ],
   "source": [
    "from sklearn.ensemble import RandomForestClassifier\n",
    "rf_model = RandomForestClassifier(max_depth=5, max_features=0.7, min_samples_leaf=10,\n",
    "                       n_estimators=2500, n_jobs=-1)\n",
    "rf_model\n",
    "rf_model.fit(X_train,y_train)\n",
    "rf_pre = cross_val_score(rf_model, X_train, y_train, cv = 5)\n",
    "rf_pre.mean()"
   ]
  },
  {
   "cell_type": "code",
   "execution_count": 44,
   "id": "4e3d2806",
   "metadata": {},
   "outputs": [],
   "source": [
    "from sklearn.model_selection import GridSearchCV\n",
    "params = {\n",
    "    'n_estimators' : [1000], \n",
    "    'max_depth' : [3], \n",
    "    'max_features' : [0.5], \n",
    "    'min_samples_leaf' : [10], \n",
    "    'n_jobs' : [-1] \n",
    "} "
   ]
  },
  {
   "cell_type": "code",
   "execution_count": 45,
   "id": "4577abb7",
   "metadata": {},
   "outputs": [
    {
     "name": "stdout",
     "output_type": "stream",
     "text": [
      "Fitting 5 folds for each of 1 candidates, totalling 5 fits\n",
      "[CV] END max_depth=3, max_features=0.5, min_samples_leaf=10, n_estimators=1000, n_jobs=-1; total time=   0.6s\n",
      "[CV] END max_depth=3, max_features=0.5, min_samples_leaf=10, n_estimators=1000, n_jobs=-1; total time=   0.6s\n",
      "[CV] END max_depth=3, max_features=0.5, min_samples_leaf=10, n_estimators=1000, n_jobs=-1; total time=   0.6s\n",
      "[CV] END max_depth=3, max_features=0.5, min_samples_leaf=10, n_estimators=1000, n_jobs=-1; total time=   0.6s\n",
      "[CV] END max_depth=3, max_features=0.5, min_samples_leaf=10, n_estimators=1000, n_jobs=-1; total time=   0.6s\n"
     ]
    },
    {
     "data": {
      "text/plain": [
       "{'max_depth': 3,\n",
       " 'max_features': 0.5,\n",
       " 'min_samples_leaf': 10,\n",
       " 'n_estimators': 1000,\n",
       " 'n_jobs': -1}"
      ]
     },
     "execution_count": 45,
     "metadata": {},
     "output_type": "execute_result"
    }
   ],
   "source": [
    "grid = GridSearchCV(rf_model,params,cv=5, verbose=2)\n",
    "grid.fit(X_train, y_train)\n",
    "grid.best_params_"
   ]
  },
  {
   "cell_type": "code",
   "execution_count": 46,
   "id": "afe60909",
   "metadata": {},
   "outputs": [],
   "source": [
    "grid.best_score_\n",
    "rf_best_model = grid.best_estimator_\n",
    "rf_best_cross = cross_val_score(rf_best_model, X_train, y_train, cv=5)"
   ]
  },
  {
   "cell_type": "code",
   "execution_count": 47,
   "id": "38ce4f32",
   "metadata": {},
   "outputs": [
    {
     "data": {
      "text/plain": [
       "0.6725890642263034"
      ]
     },
     "execution_count": 47,
     "metadata": {},
     "output_type": "execute_result"
    }
   ],
   "source": [
    "rf_best_cross.mean()"
   ]
  },
  {
   "cell_type": "code",
   "execution_count": 48,
   "id": "c6d69254",
   "metadata": {},
   "outputs": [
    {
     "data": {
      "text/plain": [
       "array([0, 1, 0, ..., 0, 1, 1], dtype=int64)"
      ]
     },
     "execution_count": 48,
     "metadata": {},
     "output_type": "execute_result"
    }
   ],
   "source": [
    "rf_best_model.predict(test)"
   ]
  },
  {
   "cell_type": "code",
   "execution_count": 50,
   "id": "4dc21425",
   "metadata": {},
   "outputs": [],
   "source": [
    "sub['Reached.on.Time_Y.N'] = rf_best_model.predict(test)\n",
    "sub.to_csv('./data/smhrd34567/sampleSubmission2.csv', index = False)"
   ]
  },
  {
   "cell_type": "code",
   "execution_count": null,
   "id": "98988616",
   "metadata": {},
   "outputs": [],
   "source": [
    "test.corr()"
   ]
  }
 ],
 "metadata": {
  "kernelspec": {
   "display_name": "Python 3 (ipykernel)",
   "language": "python",
   "name": "python3"
  },
  "language_info": {
   "codemirror_mode": {
    "name": "ipython",
    "version": 3
   },
   "file_extension": ".py",
   "mimetype": "text/x-python",
   "name": "python",
   "nbconvert_exporter": "python",
   "pygments_lexer": "ipython3",
   "version": "3.9.7"
  }
 },
 "nbformat": 4,
 "nbformat_minor": 5
}
