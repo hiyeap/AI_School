{
 "cells": [
  {
   "cell_type": "markdown",
   "id": "5f0c5e75",
   "metadata": {},
   "source": [
    "#### 머신러닝"
   ]
  },
  {
   "cell_type": "markdown",
   "id": "59a5fb16",
   "metadata": {},
   "source": [
    "#### 통계기반 데이터분석 vs 머신러닝 데이터분석\n",
    "- 통계기반 : 분석하는 사람의 능력에 따라 결과가 크게 달라질 수 있다.\n",
    "- 머신러닝기반 : 사람 + 머신러닝(상대적으로 사람의 능력이 떨어져도 분석이 가능하다)"
   ]
  },
  {
   "cell_type": "markdown",
   "id": "38694f28",
   "metadata": {},
   "source": [
    "#### 머신러닝 학습 종류"
   ]
  },
  {
   "cell_type": "markdown",
   "id": "6ea5ba2e",
   "metadata": {},
   "source": [
    "- 지도학습 : 문제와 답을 함께 학습\n",
    "    1. 분류 : 정답데이터가 범주형(ex : 생존 or 죽음)\n",
    "    2. 회귀 : 정답데이터가 수치형(ex : 키, 몸무게, 가격)\n",
    "- 비지도 : 답이 없는 데이터를 가지고 패턴을 찾는 방법\n",
    "    - 군집 : 비슷한 데이터를 묶어서 그룹별 패턴을 해석하는 방법\n",
    "- 강화학습 : 보상을 주는 개념으로 학습하는 방법(게임, 로봇)"
   ]
  },
  {
   "cell_type": "markdown",
   "id": "e3bc44d9",
   "metadata": {},
   "source": [
    "#### 머신러닝 프로세스"
   ]
  },
  {
   "cell_type": "markdown",
   "id": "0deb28e3",
   "metadata": {},
   "source": [
    "1. 문제정의\n",
    "2. 데이터 수집\n",
    "3. 데이터 전처리\n",
    "    - 결측치\n",
    "        1. 데이터 삭제\n",
    "        2. 대체값 - 기술통계 or 머신러닝 모델\n",
    "    - 이상치\n",
    "    - 특성 줄이거나 늘리기\n",
    "    - 인코딩 : 문자데이터 > 숫자데이터\n",
    "        1. 라벨인코딩\n",
    "        2. 원핫인코딩\n",
    "4. 탐색적 데이터 분석(EDA)\n",
    "    - 데이터를 시각화하거나 분석하여 이해하는 과정\n",
    "5. 모델 선택 및 하이퍼파라미터 튜닝\n",
    "    - KNN, Tree, Linear, 앙상블, 딥러닝\n",
    "6. 모델학습\n",
    "    - 훈련용 데이터(7), 테스트 데이터(3)\n",
    "    - 학습을 더 유도하려면 훈련데이터 비율을 증가\n",
    "    - 평가의 신뢰도를 높이기 위해서는 평가데이터 비율 증가\n",
    "7. 모델 평가\n",
    "    - 분류(맞춘 개수 기반) : 정확도, 재현율, 정밀도, f-1 score, ROC curve\n",
    "    - 회귀(오차기반) : MSE, RMSE, MAPE, R2...\n",
    "8. 모델 서비스화\n",
    "    "
   ]
  },
  {
   "cell_type": "code",
   "execution_count": null,
   "id": "a158eb6c",
   "metadata": {},
   "outputs": [],
   "source": []
  },
  {
   "cell_type": "code",
   "execution_count": null,
   "id": "98a3961a",
   "metadata": {},
   "outputs": [],
   "source": []
  }
 ],
 "metadata": {
  "kernelspec": {
   "display_name": "Python 3 (ipykernel)",
   "language": "python",
   "name": "python3"
  },
  "language_info": {
   "codemirror_mode": {
    "name": "ipython",
    "version": 3
   },
   "file_extension": ".py",
   "mimetype": "text/x-python",
   "name": "python",
   "nbconvert_exporter": "python",
   "pygments_lexer": "ipython3",
   "version": "3.7.13"
  }
 },
 "nbformat": 4,
 "nbformat_minor": 5
}
