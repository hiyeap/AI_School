{
 "cells": [
  {
   "cell_type": "markdown",
   "id": "4cc3d10e",
   "metadata": {},
   "source": [
    "### 목표\n",
    "- 손글씨를 분류하는 모델을 만들어보자.\n",
    "- 예측의 불확실성을 확인해보자.\n",
    "- 이미지 데이터에 형태를 이해.\n",
    "- 다양한 분류평가지표를 이해하자."
   ]
  },
  {
   "cell_type": "markdown",
   "id": "46f002fc",
   "metadata": {},
   "source": [
    "### 데이터 로딩"
   ]
  },
  {
   "cell_type": "code",
   "execution_count": 1,
   "id": "66bd1343",
   "metadata": {},
   "outputs": [],
   "source": [
    "import numpy as np\n",
    "import pandas as pd\n",
    "import matplotlib.pyplot as plt\n",
    "from sklearn.model_selection import train_test_split "
   ]
  },
  {
   "cell_type": "code",
   "execution_count": 2,
   "id": "f72b7b95",
   "metadata": {},
   "outputs": [
    {
     "data": {
      "text/html": [
       "<div>\n",
       "<style scoped>\n",
       "    .dataframe tbody tr th:only-of-type {\n",
       "        vertical-align: middle;\n",
       "    }\n",
       "\n",
       "    .dataframe tbody tr th {\n",
       "        vertical-align: top;\n",
       "    }\n",
       "\n",
       "    .dataframe thead th {\n",
       "        text-align: right;\n",
       "    }\n",
       "</style>\n",
       "<table border=\"1\" class=\"dataframe\">\n",
       "  <thead>\n",
       "    <tr style=\"text-align: right;\">\n",
       "      <th></th>\n",
       "      <th>label</th>\n",
       "      <th>pixel0</th>\n",
       "      <th>pixel1</th>\n",
       "      <th>pixel2</th>\n",
       "      <th>pixel3</th>\n",
       "      <th>pixel4</th>\n",
       "      <th>pixel5</th>\n",
       "      <th>pixel6</th>\n",
       "      <th>pixel7</th>\n",
       "      <th>pixel8</th>\n",
       "      <th>...</th>\n",
       "      <th>pixel774</th>\n",
       "      <th>pixel775</th>\n",
       "      <th>pixel776</th>\n",
       "      <th>pixel777</th>\n",
       "      <th>pixel778</th>\n",
       "      <th>pixel779</th>\n",
       "      <th>pixel780</th>\n",
       "      <th>pixel781</th>\n",
       "      <th>pixel782</th>\n",
       "      <th>pixel783</th>\n",
       "    </tr>\n",
       "  </thead>\n",
       "  <tbody>\n",
       "    <tr>\n",
       "      <th>0</th>\n",
       "      <td>1</td>\n",
       "      <td>0</td>\n",
       "      <td>0</td>\n",
       "      <td>0</td>\n",
       "      <td>0</td>\n",
       "      <td>0</td>\n",
       "      <td>0</td>\n",
       "      <td>0</td>\n",
       "      <td>0</td>\n",
       "      <td>0</td>\n",
       "      <td>...</td>\n",
       "      <td>0</td>\n",
       "      <td>0</td>\n",
       "      <td>0</td>\n",
       "      <td>0</td>\n",
       "      <td>0</td>\n",
       "      <td>0</td>\n",
       "      <td>0</td>\n",
       "      <td>0</td>\n",
       "      <td>0</td>\n",
       "      <td>0</td>\n",
       "    </tr>\n",
       "    <tr>\n",
       "      <th>1</th>\n",
       "      <td>0</td>\n",
       "      <td>0</td>\n",
       "      <td>0</td>\n",
       "      <td>0</td>\n",
       "      <td>0</td>\n",
       "      <td>0</td>\n",
       "      <td>0</td>\n",
       "      <td>0</td>\n",
       "      <td>0</td>\n",
       "      <td>0</td>\n",
       "      <td>...</td>\n",
       "      <td>0</td>\n",
       "      <td>0</td>\n",
       "      <td>0</td>\n",
       "      <td>0</td>\n",
       "      <td>0</td>\n",
       "      <td>0</td>\n",
       "      <td>0</td>\n",
       "      <td>0</td>\n",
       "      <td>0</td>\n",
       "      <td>0</td>\n",
       "    </tr>\n",
       "    <tr>\n",
       "      <th>2</th>\n",
       "      <td>1</td>\n",
       "      <td>0</td>\n",
       "      <td>0</td>\n",
       "      <td>0</td>\n",
       "      <td>0</td>\n",
       "      <td>0</td>\n",
       "      <td>0</td>\n",
       "      <td>0</td>\n",
       "      <td>0</td>\n",
       "      <td>0</td>\n",
       "      <td>...</td>\n",
       "      <td>0</td>\n",
       "      <td>0</td>\n",
       "      <td>0</td>\n",
       "      <td>0</td>\n",
       "      <td>0</td>\n",
       "      <td>0</td>\n",
       "      <td>0</td>\n",
       "      <td>0</td>\n",
       "      <td>0</td>\n",
       "      <td>0</td>\n",
       "    </tr>\n",
       "    <tr>\n",
       "      <th>3</th>\n",
       "      <td>4</td>\n",
       "      <td>0</td>\n",
       "      <td>0</td>\n",
       "      <td>0</td>\n",
       "      <td>0</td>\n",
       "      <td>0</td>\n",
       "      <td>0</td>\n",
       "      <td>0</td>\n",
       "      <td>0</td>\n",
       "      <td>0</td>\n",
       "      <td>...</td>\n",
       "      <td>0</td>\n",
       "      <td>0</td>\n",
       "      <td>0</td>\n",
       "      <td>0</td>\n",
       "      <td>0</td>\n",
       "      <td>0</td>\n",
       "      <td>0</td>\n",
       "      <td>0</td>\n",
       "      <td>0</td>\n",
       "      <td>0</td>\n",
       "    </tr>\n",
       "    <tr>\n",
       "      <th>4</th>\n",
       "      <td>0</td>\n",
       "      <td>0</td>\n",
       "      <td>0</td>\n",
       "      <td>0</td>\n",
       "      <td>0</td>\n",
       "      <td>0</td>\n",
       "      <td>0</td>\n",
       "      <td>0</td>\n",
       "      <td>0</td>\n",
       "      <td>0</td>\n",
       "      <td>...</td>\n",
       "      <td>0</td>\n",
       "      <td>0</td>\n",
       "      <td>0</td>\n",
       "      <td>0</td>\n",
       "      <td>0</td>\n",
       "      <td>0</td>\n",
       "      <td>0</td>\n",
       "      <td>0</td>\n",
       "      <td>0</td>\n",
       "      <td>0</td>\n",
       "    </tr>\n",
       "  </tbody>\n",
       "</table>\n",
       "<p>5 rows × 785 columns</p>\n",
       "</div>"
      ],
      "text/plain": [
       "   label  pixel0  pixel1  pixel2  pixel3  pixel4  pixel5  pixel6  pixel7  \\\n",
       "0      1       0       0       0       0       0       0       0       0   \n",
       "1      0       0       0       0       0       0       0       0       0   \n",
       "2      1       0       0       0       0       0       0       0       0   \n",
       "3      4       0       0       0       0       0       0       0       0   \n",
       "4      0       0       0       0       0       0       0       0       0   \n",
       "\n",
       "   pixel8  ...  pixel774  pixel775  pixel776  pixel777  pixel778  pixel779  \\\n",
       "0       0  ...         0         0         0         0         0         0   \n",
       "1       0  ...         0         0         0         0         0         0   \n",
       "2       0  ...         0         0         0         0         0         0   \n",
       "3       0  ...         0         0         0         0         0         0   \n",
       "4       0  ...         0         0         0         0         0         0   \n",
       "\n",
       "   pixel780  pixel781  pixel782  pixel783  \n",
       "0         0         0         0         0  \n",
       "1         0         0         0         0  \n",
       "2         0         0         0         0  \n",
       "3         0         0         0         0  \n",
       "4         0         0         0         0  \n",
       "\n",
       "[5 rows x 785 columns]"
      ]
     },
     "execution_count": 2,
     "metadata": {},
     "output_type": "execute_result"
    }
   ],
   "source": [
    "digit_train = pd.read_csv(\"./data/digit_train.csv\")\n",
    "digit_train.head()"
   ]
  },
  {
   "cell_type": "code",
   "execution_count": 3,
   "id": "e73fa7bd",
   "metadata": {},
   "outputs": [
    {
     "data": {
      "text/plain": [
       "(42000, 785)"
      ]
     },
     "execution_count": 3,
     "metadata": {},
     "output_type": "execute_result"
    }
   ],
   "source": [
    "digit_train.shape"
   ]
  },
  {
   "cell_type": "code",
   "execution_count": 4,
   "id": "a59a2dde",
   "metadata": {},
   "outputs": [
    {
     "data": {
      "text/plain": [
       "<matplotlib.image.AxesImage at 0x1e4e7766c88>"
      ]
     },
     "execution_count": 4,
     "metadata": {},
     "output_type": "execute_result"
    },
    {
     "data": {
      "image/png": "[encoded data removed]",
      "text/plain": [
       "<Figure size 432x288 with 1 Axes>"
      ]
     },
     "metadata": {
      "needs_background": "light"
     },
     "output_type": "display_data"
    }
   ],
   "source": [
    "# 이미지 확인\n",
    "img = digit_train.iloc[5000,1:]\n",
    "img_reshape = img.values.reshape(28,28)\n",
    "plt.imshow(img_reshape, cmap='gray')"
   ]
  },
  {
   "cell_type": "code",
   "execution_count": 5,
   "id": "62bb3e5e",
   "metadata": {},
   "outputs": [
    {
     "data": {
      "image/png": "[encoded data removed]",
      "text/plain": [
       "<Figure size 432x288 with 1 Axes>"
      ]
     },
     "metadata": {
      "needs_background": "light"
     },
     "output_type": "display_data"
    }
   ],
   "source": [
    "# 데이터 분포 확인\n",
    "plt.hist(img)\n",
    "plt.show()"
   ]
  },
  {
   "cell_type": "code",
   "execution_count": 6,
   "id": "7223b55b",
   "metadata": {},
   "outputs": [
    {
     "data": {
      "text/plain": [
       "1    4684\n",
       "7    4401\n",
       "3    4351\n",
       "9    4188\n",
       "2    4177\n",
       "6    4137\n",
       "0    4132\n",
       "4    4072\n",
       "8    4063\n",
       "5    3795\n",
       "Name: label, dtype: int64"
      ]
     },
     "execution_count": 6,
     "metadata": {},
     "output_type": "execute_result"
    }
   ],
   "source": [
    "# 손글씨(정답) 종류\n",
    "digit_train['label'].value_counts()"
   ]
  },
  {
   "cell_type": "markdown",
   "id": "5afcd335",
   "metadata": {},
   "source": [
    "#### 훈련용 데이터와 검증용 데이터 분리"
   ]
  },
  {
   "cell_type": "code",
   "execution_count": 7,
   "id": "381ebaa0",
   "metadata": {},
   "outputs": [],
   "source": [
    "X = digit_train.iloc[:,1:]\n",
    "y = digit_train.iloc[:,0]\n",
    "\n",
    "X_train,X_val,y_train,y_val = train_test_split(X,y,test_size=0.3,\n",
    "                                              random_state=728)"
   ]
  },
  {
   "cell_type": "code",
   "execution_count": 8,
   "id": "584c7360",
   "metadata": {},
   "outputs": [
    {
     "data": {
      "text/plain": [
       "((29400, 784), (29400,))"
      ]
     },
     "execution_count": 8,
     "metadata": {},
     "output_type": "execute_result"
    }
   ],
   "source": [
    "X_train.shape, y_train.shape"
   ]
  },
  {
   "cell_type": "code",
   "execution_count": 9,
   "id": "7ea21662",
   "metadata": {},
   "outputs": [
    {
     "data": {
      "text/plain": [
       "((12600, 784), (12600,))"
      ]
     },
     "execution_count": 9,
     "metadata": {},
     "output_type": "execute_result"
    }
   ],
   "source": [
    "X_val.shape, y_val.shape"
   ]
  },
  {
   "cell_type": "markdown",
   "id": "a1b58358",
   "metadata": {},
   "source": [
    "#### 모델링\n",
    "- KNN\n",
    "- DecisionTree\n",
    "- LogisticRegression\n",
    "- SVM"
   ]
  },
  {
   "cell_type": "code",
   "execution_count": 10,
   "id": "1849ad4d",
   "metadata": {},
   "outputs": [],
   "source": [
    "from sklearn.neighbors import KNeighborsClassifier\n",
    "from sklearn.tree import DecisionTreeClassifier\n",
    "from sklearn.linear_model import LogisticRegression\n",
    "from sklearn.svm import LinearSVC # 분류용 SVM 모델\n",
    "from sklearn.linear_model import SGDClassifier # 경사하강법 적용 선형분류모델"
   ]
  },
  {
   "cell_type": "code",
   "execution_count": 11,
   "id": "7e45917c",
   "metadata": {},
   "outputs": [],
   "source": [
    "knn_model = KNeighborsClassifier()\n",
    "tree_model = DecisionTreeClassifier()\n",
    "logi_model = LogisticRegression()\n",
    "svc_model = LinearSVC()\n",
    "sgd_model = SGDClassifier()"
   ]
  },
  {
   "cell_type": "code",
   "execution_count": 12,
   "id": "db672dbf",
   "metadata": {},
   "outputs": [
    {
     "name": "stdout",
     "output_type": "stream",
     "text": [
      "knn 모델 결과 :  0.9671428571428572\n",
      "tree 모델 결과 :  0.8503174603174604\n"
     ]
    },
    {
     "name": "stderr",
     "output_type": "stream",
     "text": [
      "C:\\Users\\AI\\Anaconda3\\envs\\python3713\\lib\\site-packages\\sklearn\\linear_model\\_logistic.py:764: ConvergenceWarning: lbfgs failed to converge (status=1):\n",
      "STOP: TOTAL NO. of ITERATIONS REACHED LIMIT.\n",
      "\n",
      "Increase the number of iterations (max_iter) or scale the data as shown in:\n",
      "    https://scikit-learn.org/stable/modules/preprocessing.html\n",
      "Please also refer to the documentation for alternative solver options:\n",
      "    https://scikit-learn.org/stable/modules/linear_model.html#logistic-regression\n",
      "  extra_warning_msg=_LOGISTIC_SOLVER_CONVERGENCE_MSG)\n"
     ]
    },
    {
     "name": "stdout",
     "output_type": "stream",
     "text": [
      "logi 모델 결과 :  0.9137301587301587\n"
     ]
    },
    {
     "name": "stderr",
     "output_type": "stream",
     "text": [
      "C:\\Users\\AI\\Anaconda3\\envs\\python3713\\lib\\site-packages\\sklearn\\svm\\_base.py:977: ConvergenceWarning: Liblinear failed to converge, increase the number of iterations.\n",
      "  \"the number of iterations.\", ConvergenceWarning)\n"
     ]
    },
    {
     "name": "stdout",
     "output_type": "stream",
     "text": [
      "svc 모델 결과 :  0.8727777777777778\n",
      "sgd 모델 결과 :  0.8784126984126984\n"
     ]
    }
   ],
   "source": [
    "knn_model.fit(X_train,y_train)\n",
    "knn_score = knn_model.score(X_val,y_val)\n",
    "print(\"knn 모델 결과 : \", knn_score)\n",
    "tree_model.fit(X_train,y_train)\n",
    "tree_score = tree_model.score(X_val,y_val)\n",
    "print(\"tree 모델 결과 : \", tree_score)\n",
    "logi_model.fit(X_train,y_train)\n",
    "logi_score = logi_model.score(X_val,y_val)\n",
    "print(\"logi 모델 결과 : \", logi_score)\n",
    "svc_model.fit(X_train,y_train)\n",
    "svc_score = svc_model.score(X_val,y_val)\n",
    "print(\"svc 모델 결과 : \", svc_score)\n",
    "sgd_model.fit(X_train,y_train)\n",
    "sgd_score = sgd_model.score(X_val,y_val)\n",
    "print(\"sgd 모델 결과 : \", sgd_score)"
   ]
  },
  {
   "cell_type": "markdown",
   "id": "16607376",
   "metadata": {},
   "source": [
    "#### 교차검증 활용 점수 확인"
   ]
  },
  {
   "cell_type": "code",
   "execution_count": 13,
   "id": "515cb225",
   "metadata": {},
   "outputs": [],
   "source": [
    "from sklearn.model_selection import cross_val_score"
   ]
  },
  {
   "cell_type": "code",
   "execution_count": 14,
   "id": "34aa9b28",
   "metadata": {},
   "outputs": [],
   "source": [
    "knn_model2 = KNeighborsClassifier()\n",
    "tree_model2 = DecisionTreeClassifier()\n",
    "logi_model2 = LogisticRegression()\n",
    "svc_model2 = LinearSVC()\n",
    "sgd_model2 = SGDClassifier()"
   ]
  },
  {
   "cell_type": "code",
   "execution_count": 15,
   "id": "a696ae1a",
   "metadata": {},
   "outputs": [
    {
     "name": "stderr",
     "output_type": "stream",
     "text": [
      "C:\\Users\\AI\\Anaconda3\\envs\\python3713\\lib\\site-packages\\sklearn\\linear_model\\_logistic.py:764: ConvergenceWarning: lbfgs failed to converge (status=1):\n",
      "STOP: TOTAL NO. of ITERATIONS REACHED LIMIT.\n",
      "\n",
      "Increase the number of iterations (max_iter) or scale the data as shown in:\n",
      "    https://scikit-learn.org/stable/modules/preprocessing.html\n",
      "Please also refer to the documentation for alternative solver options:\n",
      "    https://scikit-learn.org/stable/modules/linear_model.html#logistic-regression\n",
      "  extra_warning_msg=_LOGISTIC_SOLVER_CONVERGENCE_MSG)\n",
      "C:\\Users\\AI\\Anaconda3\\envs\\python3713\\lib\\site-packages\\sklearn\\linear_model\\_logistic.py:764: ConvergenceWarning: lbfgs failed to converge (status=1):\n",
      "STOP: TOTAL NO. of ITERATIONS REACHED LIMIT.\n",
      "\n",
      "Increase the number of iterations (max_iter) or scale the data as shown in:\n",
      "    https://scikit-learn.org/stable/modules/preprocessing.html\n",
      "Please also refer to the documentation for alternative solver options:\n",
      "    https://scikit-learn.org/stable/modules/linear_model.html#logistic-regression\n",
      "  extra_warning_msg=_LOGISTIC_SOLVER_CONVERGENCE_MSG)\n",
      "C:\\Users\\AI\\Anaconda3\\envs\\python3713\\lib\\site-packages\\sklearn\\linear_model\\_logistic.py:764: ConvergenceWarning: lbfgs failed to converge (status=1):\n",
      "STOP: TOTAL NO. of ITERATIONS REACHED LIMIT.\n",
      "\n",
      "Increase the number of iterations (max_iter) or scale the data as shown in:\n",
      "    https://scikit-learn.org/stable/modules/preprocessing.html\n",
      "Please also refer to the documentation for alternative solver options:\n",
      "    https://scikit-learn.org/stable/modules/linear_model.html#logistic-regression\n",
      "  extra_warning_msg=_LOGISTIC_SOLVER_CONVERGENCE_MSG)\n",
      "C:\\Users\\AI\\Anaconda3\\envs\\python3713\\lib\\site-packages\\sklearn\\svm\\_base.py:977: ConvergenceWarning: Liblinear failed to converge, increase the number of iterations.\n",
      "  \"the number of iterations.\", ConvergenceWarning)\n",
      "C:\\Users\\AI\\Anaconda3\\envs\\python3713\\lib\\site-packages\\sklearn\\svm\\_base.py:977: ConvergenceWarning: Liblinear failed to converge, increase the number of iterations.\n",
      "  \"the number of iterations.\", ConvergenceWarning)\n",
      "C:\\Users\\AI\\Anaconda3\\envs\\python3713\\lib\\site-packages\\sklearn\\svm\\_base.py:977: ConvergenceWarning: Liblinear failed to converge, increase the number of iterations.\n",
      "  \"the number of iterations.\", ConvergenceWarning)\n"
     ]
    }
   ],
   "source": [
    "knn_score = cross_val_score(knn_model2,X,y,cv=3)\n",
    "tree_score = cross_val_score(tree_model2,X,y,cv=3)\n",
    "logi_score = cross_val_score(logi_model2,X,y,cv=3)\n",
    "svc_score = cross_val_score(svc_model2,X,y,cv=3)\n",
    "sgd_score = cross_val_score(sgd_model2,X,y,cv=3)"
   ]
  },
  {
   "cell_type": "code",
   "execution_count": 16,
   "id": "092cbecc",
   "metadata": {},
   "outputs": [
    {
     "name": "stdout",
     "output_type": "stream",
     "text": [
      "knn 모델 결과 :  0.9642142857142857\n",
      "tree 모델 결과 :  0.8449047619047619\n",
      "logi 모델 결과 :  0.9128095238095238\n",
      "svc 모델 결과 :  0.842\n",
      "sgd 모델 결과 :  0.8680952380952381\n"
     ]
    }
   ],
   "source": [
    "print(\"knn 모델 결과 : \", knn_score.mean())\n",
    "print(\"tree 모델 결과 : \", tree_score.mean())\n",
    "print(\"logi 모델 결과 : \", logi_score.mean())\n",
    "print(\"svc 모델 결과 : \", svc_score.mean())\n",
    "print(\"sgd 모델 결과 : \", sgd_score.mean())"
   ]
  },
  {
   "cell_type": "markdown",
   "id": "02ff0d5a",
   "metadata": {},
   "source": [
    "#### 스케일링 추가\n",
    "- minmax 스케일러 활용"
   ]
  },
  {
   "cell_type": "code",
   "execution_count": 17,
   "id": "721596f6",
   "metadata": {},
   "outputs": [],
   "source": [
    "from sklearn.preprocessing import MinMaxScaler"
   ]
  },
  {
   "cell_type": "code",
   "execution_count": 18,
   "id": "a0e6f712",
   "metadata": {},
   "outputs": [
    {
     "data": {
      "text/plain": [
       "MinMaxScaler()"
      ]
     },
     "execution_count": 18,
     "metadata": {},
     "output_type": "execute_result"
    }
   ],
   "source": [
    "scaler = MinMaxScaler() # 스케일러 객체생성\n",
    "scaler.fit(X) # 스케일링 기준값 찾기"
   ]
  },
  {
   "cell_type": "code",
   "execution_count": 19,
   "id": "d54a91a8",
   "metadata": {},
   "outputs": [],
   "source": [
    "X_scaled = scaler.transform(X) # 스케일링 실시"
   ]
  },
  {
   "cell_type": "code",
   "execution_count": 20,
   "id": "13a724b6",
   "metadata": {},
   "outputs": [],
   "source": [
    "knn_model3 = KNeighborsClassifier()\n",
    "tree_model3 = DecisionTreeClassifier()\n",
    "logi_model3 = LogisticRegression()\n",
    "svc_model3 = LinearSVC()\n",
    "sgd_model3 = SGDClassifier()"
   ]
  },
  {
   "cell_type": "code",
   "execution_count": 21,
   "id": "2c9b65d4",
   "metadata": {},
   "outputs": [
    {
     "name": "stderr",
     "output_type": "stream",
     "text": [
      "C:\\Users\\AI\\Anaconda3\\envs\\python3713\\lib\\site-packages\\sklearn\\linear_model\\_logistic.py:764: ConvergenceWarning: lbfgs failed to converge (status=1):\n",
      "STOP: TOTAL NO. of ITERATIONS REACHED LIMIT.\n",
      "\n",
      "Increase the number of iterations (max_iter) or scale the data as shown in:\n",
      "    https://scikit-learn.org/stable/modules/preprocessing.html\n",
      "Please also refer to the documentation for alternative solver options:\n",
      "    https://scikit-learn.org/stable/modules/linear_model.html#logistic-regression\n",
      "  extra_warning_msg=_LOGISTIC_SOLVER_CONVERGENCE_MSG)\n",
      "C:\\Users\\AI\\Anaconda3\\envs\\python3713\\lib\\site-packages\\sklearn\\linear_model\\_logistic.py:764: ConvergenceWarning: lbfgs failed to converge (status=1):\n",
      "STOP: TOTAL NO. of ITERATIONS REACHED LIMIT.\n",
      "\n",
      "Increase the number of iterations (max_iter) or scale the data as shown in:\n",
      "    https://scikit-learn.org/stable/modules/preprocessing.html\n",
      "Please also refer to the documentation for alternative solver options:\n",
      "    https://scikit-learn.org/stable/modules/linear_model.html#logistic-regression\n",
      "  extra_warning_msg=_LOGISTIC_SOLVER_CONVERGENCE_MSG)\n",
      "C:\\Users\\AI\\Anaconda3\\envs\\python3713\\lib\\site-packages\\sklearn\\linear_model\\_logistic.py:764: ConvergenceWarning: lbfgs failed to converge (status=1):\n",
      "STOP: TOTAL NO. of ITERATIONS REACHED LIMIT.\n",
      "\n",
      "Increase the number of iterations (max_iter) or scale the data as shown in:\n",
      "    https://scikit-learn.org/stable/modules/preprocessing.html\n",
      "Please also refer to the documentation for alternative solver options:\n",
      "    https://scikit-learn.org/stable/modules/linear_model.html#logistic-regression\n",
      "  extra_warning_msg=_LOGISTIC_SOLVER_CONVERGENCE_MSG)\n",
      "C:\\Users\\AI\\Anaconda3\\envs\\python3713\\lib\\site-packages\\sklearn\\svm\\_base.py:977: ConvergenceWarning: Liblinear failed to converge, increase the number of iterations.\n",
      "  \"the number of iterations.\", ConvergenceWarning)\n",
      "C:\\Users\\AI\\Anaconda3\\envs\\python3713\\lib\\site-packages\\sklearn\\svm\\_base.py:977: ConvergenceWarning: Liblinear failed to converge, increase the number of iterations.\n",
      "  \"the number of iterations.\", ConvergenceWarning)\n",
      "C:\\Users\\AI\\Anaconda3\\envs\\python3713\\lib\\site-packages\\sklearn\\svm\\_base.py:977: ConvergenceWarning: Liblinear failed to converge, increase the number of iterations.\n",
      "  \"the number of iterations.\", ConvergenceWarning)\n"
     ]
    }
   ],
   "source": [
    "knn_score = cross_val_score(knn_model3,X_scaled,y,cv=3)\n",
    "tree_score = cross_val_score(tree_model3,X_scaled,y,cv=3)\n",
    "logi_score = cross_val_score(logi_model3,X_scaled,y,cv=3)\n",
    "svc_score = cross_val_score(svc_model3,X_scaled,y,cv=3)\n",
    "sgd_score = cross_val_score(sgd_model3,X_scaled,y,cv=3)"
   ]
  },
  {
   "cell_type": "code",
   "execution_count": 22,
   "id": "63c20d2c",
   "metadata": {},
   "outputs": [
    {
     "name": "stdout",
     "output_type": "stream",
     "text": [
      "knn 모델 결과 :  0.9641904761904762\n",
      "tree 모델 결과 :  0.8467857142857144\n",
      "logi 모델 결과 :  0.9162857142857144\n",
      "svc 모델 결과 :  0.9076190476190474\n",
      "sgd 모델 결과 :  0.9075714285714286\n"
     ]
    }
   ],
   "source": [
    "print(\"knn 모델 결과 : \", knn_score.mean())\n",
    "print(\"tree 모델 결과 : \", tree_score.mean())\n",
    "print(\"logi 모델 결과 : \", logi_score.mean())\n",
    "print(\"svc 모델 결과 : \", svc_score.mean())\n",
    "print(\"sgd 모델 결과 : \", sgd_score.mean())"
   ]
  },
  {
   "cell_type": "markdown",
   "id": "00daee0c",
   "metadata": {},
   "source": [
    "### 예측의 불확실성 확인\n",
    "- 분류모델들은 예측 결과를 정하기전에 항상 확률을 계산한다.\n",
    "- 분류모델이 예측한 값이 같더라도 확신의 정도(불확실성)가 전부 다르다."
   ]
  },
  {
   "cell_type": "code",
   "execution_count": 23,
   "id": "304caa57",
   "metadata": {},
   "outputs": [
    {
     "name": "stderr",
     "output_type": "stream",
     "text": [
      "C:\\Users\\AI\\Anaconda3\\envs\\python3713\\lib\\site-packages\\sklearn\\linear_model\\_logistic.py:764: ConvergenceWarning: lbfgs failed to converge (status=1):\n",
      "STOP: TOTAL NO. of ITERATIONS REACHED LIMIT.\n",
      "\n",
      "Increase the number of iterations (max_iter) or scale the data as shown in:\n",
      "    https://scikit-learn.org/stable/modules/preprocessing.html\n",
      "Please also refer to the documentation for alternative solver options:\n",
      "    https://scikit-learn.org/stable/modules/linear_model.html#logistic-regression\n",
      "  extra_warning_msg=_LOGISTIC_SOLVER_CONVERGENCE_MSG)\n"
     ]
    }
   ],
   "source": [
    "logi_model4 = LogisticRegression()\n",
    "logi_model4.fit(X_train,y_train)\n",
    "pre = logi_model4.predict(X_val)"
   ]
  },
  {
   "cell_type": "code",
   "execution_count": 24,
   "id": "0cb5125b",
   "metadata": {},
   "outputs": [
    {
     "data": {
      "text/plain": [
       "array([7, 8, 0, ..., 1, 8, 6], dtype=int64)"
      ]
     },
     "execution_count": 24,
     "metadata": {},
     "output_type": "execute_result"
    }
   ],
   "source": [
    "pre"
   ]
  },
  {
   "cell_type": "code",
   "execution_count": 25,
   "id": "021fb9c3",
   "metadata": {},
   "outputs": [
    {
     "data": {
      "text/plain": [
       "array([7.66459403e-07, 2.30135942e-10, 1.91249009e-01, 8.01045321e-01,\n",
       "       7.31710914e-06, 6.37667350e-03, 1.25270445e-07, 1.16702194e-14,\n",
       "       1.32078738e-03, 3.78920391e-10])"
      ]
     },
     "execution_count": 25,
     "metadata": {},
     "output_type": "execute_result"
    }
   ],
   "source": [
    "pre_proba = logi_model4.predict_proba(X_val)\n",
    "pre_proba[8]"
   ]
  },
  {
   "cell_type": "code",
   "execution_count": 26,
   "id": "637895aa",
   "metadata": {},
   "outputs": [
    {
     "data": {
      "text/plain": [
       "<matplotlib.image.AxesImage at 0x1e4e76ec1c8>"
      ]
     },
     "execution_count": 26,
     "metadata": {},
     "output_type": "execute_result"
    },
    {
     "data": {
      "image/png": "[encoded data removed]",
      "text/plain": [
       "<Figure size 432x288 with 1 Axes>"
      ]
     },
     "metadata": {
      "needs_background": "light"
     },
     "output_type": "display_data"
    }
   ],
   "source": [
    "plt.imshow(X_val.iloc[8].values.reshape(28,28), cmap='gray')"
   ]
  },
  {
   "cell_type": "markdown",
   "id": "9daea6e8",
   "metadata": {},
   "source": [
    "### 모델 평가\n",
    "- 정확도\n",
    "- 오차행렬\n",
    "- 정밀도\n",
    "- 재현율\n",
    "- F1 스코어\n",
    "- ROC AUC"
   ]
  },
  {
   "cell_type": "code",
   "execution_count": 30,
   "id": "80a21dfb",
   "metadata": {},
   "outputs": [],
   "source": [
    "from sklearn.metrics import confusion_matrix # 오차행렬\n",
    "from sklearn.metrics import classification_report # 분류평가지표를 리포팅"
   ]
  },
  {
   "cell_type": "code",
   "execution_count": 31,
   "id": "bf9fb4b5",
   "metadata": {},
   "outputs": [
    {
     "data": {
      "text/plain": [
       "array([[1160,    1,    2,    4,    0,    7,   14,    4,    2,    1],\n",
       "       [   0, 1374,    1,    5,    1,    3,    2,    2,   19,    1],\n",
       "       [   9,   23, 1140,   29,   12,    4,   12,    9,   35,   12],\n",
       "       [   4,    2,   38, 1194,    0,   34,    2,   12,   32,   16],\n",
       "       [   4,    3,   11,    2, 1091,    2,   10,    5,   13,   50],\n",
       "       [  19,    3,    5,   43,    8,  939,   26,   10,   37,   16],\n",
       "       [  12,    2,   11,    1,   12,   16, 1198,    0,    6,    1],\n",
       "       [   3,    2,   18,    7,   12,    1,    3, 1275,    4,   47],\n",
       "       [  19,   28,   11,   31,   12,   36,    4,    9, 1074,   23],\n",
       "       [  10,    3,    2,   15,   36,    8,    0,   49,   12, 1068]],\n",
       "      dtype=int64)"
      ]
     },
     "execution_count": 31,
     "metadata": {},
     "output_type": "execute_result"
    }
   ],
   "source": [
    "# confusion_matrix(실제정답, 예측값)\n",
    "confusion_matrix(y_val, pre)"
   ]
  },
  {
   "cell_type": "code",
   "execution_count": 32,
   "id": "37bfa56f",
   "metadata": {},
   "outputs": [
    {
     "name": "stdout",
     "output_type": "stream",
     "text": [
      "              precision    recall  f1-score   support\n",
      "\n",
      "           0       0.94      0.97      0.95      1195\n",
      "           1       0.95      0.98      0.96      1408\n",
      "           2       0.92      0.89      0.90      1285\n",
      "           3       0.90      0.90      0.90      1334\n",
      "           4       0.92      0.92      0.92      1191\n",
      "           5       0.89      0.85      0.87      1106\n",
      "           6       0.94      0.95      0.95      1259\n",
      "           7       0.93      0.93      0.93      1372\n",
      "           8       0.87      0.86      0.87      1247\n",
      "           9       0.86      0.89      0.88      1203\n",
      "\n",
      "    accuracy                           0.91     12600\n",
      "   macro avg       0.91      0.91      0.91     12600\n",
      "weighted avg       0.91      0.91      0.91     12600\n",
      "\n"
     ]
    }
   ],
   "source": [
    "# classification_report(실제정답, 예측값)\n",
    "print(classification_report(y_val, pre))"
   ]
  },
  {
   "cell_type": "markdown",
   "id": "6868b806",
   "metadata": {},
   "source": [
    "### 모델 활용하기"
   ]
  },
  {
   "cell_type": "code",
   "execution_count": 27,
   "id": "f1c47587",
   "metadata": {},
   "outputs": [
    {
     "name": "stdout",
     "output_type": "stream",
     "text": [
      "Requirement already satisfied: pillow in c:\\users\\ai\\anaconda3\\envs\\python3713\\lib\\site-packages (9.2.0)\n"
     ]
    },
    {
     "name": "stderr",
     "output_type": "stream",
     "text": [
      "WARNING: Ignoring invalid distribution -rotobuf (c:\\users\\ai\\anaconda3\\envs\\python3713\\lib\\site-packages)\n",
      "WARNING: Ignoring invalid distribution -rotobuf (c:\\users\\ai\\anaconda3\\envs\\python3713\\lib\\site-packages)\n",
      "WARNING: Ignoring invalid distribution -rotobuf (c:\\users\\ai\\anaconda3\\envs\\python3713\\lib\\site-packages)\n",
      "WARNING: Ignoring invalid distribution -rotobuf (c:\\users\\ai\\anaconda3\\envs\\python3713\\lib\\site-packages)\n",
      "WARNING: Ignoring invalid distribution -rotobuf (c:\\users\\ai\\anaconda3\\envs\\python3713\\lib\\site-packages)\n",
      "WARNING: Ignoring invalid distribution -rotobuf (c:\\users\\ai\\anaconda3\\envs\\python3713\\lib\\site-packages)\n"
     ]
    }
   ],
   "source": [
    "!pip install pillow"
   ]
  },
  {
   "cell_type": "code",
   "execution_count": 28,
   "id": "cf84a982",
   "metadata": {},
   "outputs": [],
   "source": [
    "from PIL import Image"
   ]
  },
  {
   "cell_type": "code",
   "execution_count": 29,
   "id": "713d3f2f",
   "metadata": {},
   "outputs": [
    {
     "ename": "FileNotFoundError",
     "evalue": "[Errno 2] No such file or directory: './data/3.jpg'",
     "output_type": "error",
     "traceback": [
      "\u001b[1;31m---------------------------------------------------------------------------\u001b[0m",
      "\u001b[1;31mFileNotFoundError\u001b[0m                         Traceback (most recent call last)",
      "\u001b[1;32m~\\AppData\\Local\\Temp\\ipykernel_23144\\3628765033.py\u001b[0m in \u001b[0;36m<module>\u001b[1;34m\u001b[0m\n\u001b[1;32m----> 1\u001b[1;33m \u001b[0mimg\u001b[0m \u001b[1;33m=\u001b[0m \u001b[0mImage\u001b[0m\u001b[1;33m.\u001b[0m\u001b[0mopen\u001b[0m\u001b[1;33m(\u001b[0m\u001b[1;34m\"./data/3.jpg\"\u001b[0m\u001b[1;33m)\u001b[0m\u001b[1;33m.\u001b[0m\u001b[0mconvert\u001b[0m\u001b[1;33m(\u001b[0m\u001b[1;34m\"L\"\u001b[0m\u001b[1;33m)\u001b[0m \u001b[1;31m# 사진을 열어서 흑백채널로 변경\u001b[0m\u001b[1;33m\u001b[0m\u001b[1;33m\u001b[0m\u001b[0m\n\u001b[0m",
      "\u001b[1;32m~\\Anaconda3\\envs\\python3713\\lib\\site-packages\\PIL\\Image.py\u001b[0m in \u001b[0;36mopen\u001b[1;34m(fp, mode, formats)\u001b[0m\n\u001b[0;32m   3090\u001b[0m \u001b[1;33m\u001b[0m\u001b[0m\n\u001b[0;32m   3091\u001b[0m     \u001b[1;32mif\u001b[0m \u001b[0mfilename\u001b[0m\u001b[1;33m:\u001b[0m\u001b[1;33m\u001b[0m\u001b[1;33m\u001b[0m\u001b[0m\n\u001b[1;32m-> 3092\u001b[1;33m         \u001b[0mfp\u001b[0m \u001b[1;33m=\u001b[0m \u001b[0mbuiltins\u001b[0m\u001b[1;33m.\u001b[0m\u001b[0mopen\u001b[0m\u001b[1;33m(\u001b[0m\u001b[0mfilename\u001b[0m\u001b[1;33m,\u001b[0m \u001b[1;34m\"rb\"\u001b[0m\u001b[1;33m)\u001b[0m\u001b[1;33m\u001b[0m\u001b[1;33m\u001b[0m\u001b[0m\n\u001b[0m\u001b[0;32m   3093\u001b[0m         \u001b[0mexclusive_fp\u001b[0m \u001b[1;33m=\u001b[0m \u001b[1;32mTrue\u001b[0m\u001b[1;33m\u001b[0m\u001b[1;33m\u001b[0m\u001b[0m\n\u001b[0;32m   3094\u001b[0m \u001b[1;33m\u001b[0m\u001b[0m\n",
      "\u001b[1;31mFileNotFoundError\u001b[0m: [Errno 2] No such file or directory: './data/3.jpg'"
     ]
    }
   ],
   "source": [
    "img = Image.open(\"./data/3.jpg\").convert(\"L\") # 사진을 열어서 흑백채널로 변경"
   ]
  },
  {
   "cell_type": "code",
   "execution_count": null,
   "id": "49089d91",
   "metadata": {},
   "outputs": [],
   "source": [
    "np_img = np.array(img) # 모델에 넣을수 있도록 numpy 배열로 변경\n",
    "np_img.shape"
   ]
  },
  {
   "cell_type": "code",
   "execution_count": null,
   "id": "8b53b300",
   "metadata": {},
   "outputs": [],
   "source": [
    "logi_model4.predict(np_img.reshape(1,784)) # 학습데이터처럼 1차원으로 사진 펴주기"
   ]
  },
  {
   "cell_type": "code",
   "execution_count": null,
   "id": "15efcdb4",
   "metadata": {},
   "outputs": [],
   "source": []
  }
 ],
 "metadata": {
  "kernelspec": {
   "display_name": "Python 3 (ipykernel)",
   "language": "python",
   "name": "python3"
  },
  "language_info": {
   "codemirror_mode": {
    "name": "ipython",
    "version": 3
   },
   "file_extension": ".py",
   "mimetype": "text/x-python",
   "name": "python",
   "nbconvert_exporter": "python",
   "pygments_lexer": "ipython3",
   "version": "3.7.13"
  },
  "toc": {
   "base_numbering": 1,
   "nav_menu": {},
   "number_sections": true,
   "sideBar": true,
   "skip_h1_title": false,
   "title_cell": "Table of Contents",
   "title_sidebar": "Contents",
   "toc_cell": false,
   "toc_position": {},
   "toc_section_display": true,
   "toc_window_display": false
  }
 },
 "nbformat": 4,
 "nbformat_minor": 5
}
